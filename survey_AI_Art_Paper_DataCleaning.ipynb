{
  "nbformat": 4,
  "nbformat_minor": 0,
  "metadata": {
    "colab": {
      "provenance": [],
      "collapsed_sections": [
        "WemmU5ByHX78"
      ],
      "include_colab_link": true
    },
    "kernelspec": {
      "name": "python3",
      "display_name": "Python 3"
    },
    "language_info": {
      "name": "python"
    }
  },
  "cells": [
    {
      "cell_type": "markdown",
      "metadata": {
        "id": "view-in-github",
        "colab_type": "text"
      },
      "source": [
        "<a href=\"https://colab.research.google.com/github/juniperlovato/AASP/blob/main/survey_AI_Art_Paper_DataCleaning.ipynb\" target=\"_parent\"><img src=\"https://colab.research.google.com/assets/colab-badge.svg\" alt=\"Open In Colab\"/></a>"
      ]
    },
    {
      "cell_type": "markdown",
      "source": [
        "#imports"
      ],
      "metadata": {
        "id": "WemmU5ByHX78"
      }
    },
    {
      "cell_type": "code",
      "execution_count": 67,
      "metadata": {
        "id": "dnxG_glRAHy3"
      },
      "outputs": [],
      "source": [
        "import numpy as np\n",
        "import pandas as pd\n",
        "from google.colab import files\n",
        "import requests\n",
        "import io\n",
        "import seaborn as sns\n",
        "import matplotlib as plt\n",
        "import matplotlib.pyplot as plt"
      ]
    },
    {
      "cell_type": "code",
      "source": [
        "from google.colab import drive\n",
        "drive.mount('/content/drive')"
      ],
      "metadata": {
        "colab": {
          "base_uri": "https://localhost:8080/"
        },
        "id": "GV91w_uQvjoR",
        "outputId": "2bdecf9b-ff2e-4c06-9a65-ef1093d94720"
      },
      "execution_count": 68,
      "outputs": [
        {
          "output_type": "stream",
          "name": "stdout",
          "text": [
            "Drive already mounted at /content/drive; to attempt to forcibly remount, call drive.mount(\"/content/drive\", force_remount=True).\n"
          ]
        }
      ]
    },
    {
      "cell_type": "markdown",
      "source": [
        "#loading raw data"
      ],
      "metadata": {
        "id": "ud_rSwBKHZ70"
      }
    },
    {
      "cell_type": "code",
      "source": [
        "#reading the csv\n",
        "Survey_data =  pd.read_csv('/content/ai_art_surveydata_anon.csv')"
      ],
      "metadata": {
        "id": "7xZfBhXtVSwc"
      },
      "execution_count": 69,
      "outputs": []
    },
    {
      "cell_type": "code",
      "source": [
        "Survey_data.head()"
      ],
      "metadata": {
        "colab": {
          "base_uri": "https://localhost:8080/",
          "height": 568
        },
        "id": "Rr4LA9u_MUIq",
        "outputId": "e7d6751a-4472-4414-de2c-081bdf14b702"
      },
      "execution_count": 70,
      "outputs": [
        {
          "output_type": "execute_result",
          "data": {
            "text/plain": [
              "             StartDate              EndDate         ResponseId        Q4  \\\n",
              "0   2023-09-13 9:38:20   2023-09-13 9:39:15  R_3kGmLUloHCq8ds0       Yes   \n",
              "1  2023-09-13 11:02:19  2023-09-13 11:04:37  R_3k1CAKp2ynu4T6N       Yes   \n",
              "2  2023-09-13 11:42:23  2023-09-13 11:46:04  R_Rq1eIcnfcnFSqn7  Somewhat   \n",
              "3  2023-09-13 12:00:12  2023-09-13 12:02:13  R_2YqUy3dSdVNeFWK       Yes   \n",
              "4  2023-09-13 12:06:39  2023-09-13 12:14:13  R_UinoFH6IFRZyAvf  Somewhat   \n",
              "\n",
              "                                       Q5 Q5_24_TEXT   Q7  \\\n",
              "0                                Designer        NaN   No   \n",
              "1                           Paint,Drawing        NaN  Yes   \n",
              "2                          Craft,Jewelry         NaN  Yes   \n",
              "3  Photography,Paint,Drawing,Craft,Music         NaN  Yes   \n",
              "4                             Paint,Craft        NaN  Yes   \n",
              "\n",
              "                     Q51                                                 Q9  \\\n",
              "0  Prefer not to respond  Artificial intelligence or deep learning algor...   \n",
              "1                     No                                  None of the above   \n",
              "2                     No                                  None of the above   \n",
              "3                     No                                   AI art generally   \n",
              "4                     No                                   AI art generally   \n",
              "\n",
              "            Q10  ...             Q39  \\\n",
              "0  I don't know  ...  Strongly agree   \n",
              "1            No  ...           Agree   \n",
              "2            No  ...         Neutral   \n",
              "3            No  ...  Strongly agree   \n",
              "4            No  ...        Disagree   \n",
              "\n",
              "                                                 Q42 Q42_15_TEXT  Q31  \\\n",
              "0  I would not feel comfortable with any of the o...         NaN  NaN   \n",
              "1  I don’t need to profit, but I don't want for-p...         NaN  NaN   \n",
              "2                                         A flat fee         NaN  NaN   \n",
              "3  I would donate the use of my artwork to train ...         NaN  NaN   \n",
              "4  I don’t need to profit, but I don’t want anyon...         NaN  NaN   \n",
              "\n",
              "                 Q44                Q46                Q48          Q23 Q24  \\\n",
              "0            Neutral            Neutral            Neutral        50-64  No   \n",
              "1  Strongly disagree  Strongly disagree     Strongly agree        50-64  No   \n",
              "2           Disagree           Disagree     Strongly agree  65 or older  No   \n",
              "3     Strongly agree     Strongly agree  Strongly disagree        30-49  No   \n",
              "4     Strongly agree  Strongly disagree     Strongly agree  65 or older  No   \n",
              "\n",
              "      Q25  \n",
              "0  Female  \n",
              "1  Female  \n",
              "2  Female  \n",
              "3  Female  \n",
              "4  Female  \n",
              "\n",
              "[5 rows x 22 columns]"
            ],
            "text/html": [
              "\n",
              "  <div id=\"df-f49a6767-5963-434f-8617-5d37f826c17d\" class=\"colab-df-container\">\n",
              "    <div>\n",
              "<style scoped>\n",
              "    .dataframe tbody tr th:only-of-type {\n",
              "        vertical-align: middle;\n",
              "    }\n",
              "\n",
              "    .dataframe tbody tr th {\n",
              "        vertical-align: top;\n",
              "    }\n",
              "\n",
              "    .dataframe thead th {\n",
              "        text-align: right;\n",
              "    }\n",
              "</style>\n",
              "<table border=\"1\" class=\"dataframe\">\n",
              "  <thead>\n",
              "    <tr style=\"text-align: right;\">\n",
              "      <th></th>\n",
              "      <th>StartDate</th>\n",
              "      <th>EndDate</th>\n",
              "      <th>ResponseId</th>\n",
              "      <th>Q4</th>\n",
              "      <th>Q5</th>\n",
              "      <th>Q5_24_TEXT</th>\n",
              "      <th>Q7</th>\n",
              "      <th>Q51</th>\n",
              "      <th>Q9</th>\n",
              "      <th>Q10</th>\n",
              "      <th>...</th>\n",
              "      <th>Q39</th>\n",
              "      <th>Q42</th>\n",
              "      <th>Q42_15_TEXT</th>\n",
              "      <th>Q31</th>\n",
              "      <th>Q44</th>\n",
              "      <th>Q46</th>\n",
              "      <th>Q48</th>\n",
              "      <th>Q23</th>\n",
              "      <th>Q24</th>\n",
              "      <th>Q25</th>\n",
              "    </tr>\n",
              "  </thead>\n",
              "  <tbody>\n",
              "    <tr>\n",
              "      <th>0</th>\n",
              "      <td>2023-09-13 9:38:20</td>\n",
              "      <td>2023-09-13 9:39:15</td>\n",
              "      <td>R_3kGmLUloHCq8ds0</td>\n",
              "      <td>Yes</td>\n",
              "      <td>Designer</td>\n",
              "      <td>NaN</td>\n",
              "      <td>No</td>\n",
              "      <td>Prefer not to respond</td>\n",
              "      <td>Artificial intelligence or deep learning algor...</td>\n",
              "      <td>I don't know</td>\n",
              "      <td>...</td>\n",
              "      <td>Strongly agree</td>\n",
              "      <td>I would not feel comfortable with any of the o...</td>\n",
              "      <td>NaN</td>\n",
              "      <td>NaN</td>\n",
              "      <td>Neutral</td>\n",
              "      <td>Neutral</td>\n",
              "      <td>Neutral</td>\n",
              "      <td>50-64</td>\n",
              "      <td>No</td>\n",
              "      <td>Female</td>\n",
              "    </tr>\n",
              "    <tr>\n",
              "      <th>1</th>\n",
              "      <td>2023-09-13 11:02:19</td>\n",
              "      <td>2023-09-13 11:04:37</td>\n",
              "      <td>R_3k1CAKp2ynu4T6N</td>\n",
              "      <td>Yes</td>\n",
              "      <td>Paint,Drawing</td>\n",
              "      <td>NaN</td>\n",
              "      <td>Yes</td>\n",
              "      <td>No</td>\n",
              "      <td>None of the above</td>\n",
              "      <td>No</td>\n",
              "      <td>...</td>\n",
              "      <td>Agree</td>\n",
              "      <td>I don’t need to profit, but I don't want for-p...</td>\n",
              "      <td>NaN</td>\n",
              "      <td>NaN</td>\n",
              "      <td>Strongly disagree</td>\n",
              "      <td>Strongly disagree</td>\n",
              "      <td>Strongly agree</td>\n",
              "      <td>50-64</td>\n",
              "      <td>No</td>\n",
              "      <td>Female</td>\n",
              "    </tr>\n",
              "    <tr>\n",
              "      <th>2</th>\n",
              "      <td>2023-09-13 11:42:23</td>\n",
              "      <td>2023-09-13 11:46:04</td>\n",
              "      <td>R_Rq1eIcnfcnFSqn7</td>\n",
              "      <td>Somewhat</td>\n",
              "      <td>Craft,Jewelry</td>\n",
              "      <td>NaN</td>\n",
              "      <td>Yes</td>\n",
              "      <td>No</td>\n",
              "      <td>None of the above</td>\n",
              "      <td>No</td>\n",
              "      <td>...</td>\n",
              "      <td>Neutral</td>\n",
              "      <td>A flat fee</td>\n",
              "      <td>NaN</td>\n",
              "      <td>NaN</td>\n",
              "      <td>Disagree</td>\n",
              "      <td>Disagree</td>\n",
              "      <td>Strongly agree</td>\n",
              "      <td>65 or older</td>\n",
              "      <td>No</td>\n",
              "      <td>Female</td>\n",
              "    </tr>\n",
              "    <tr>\n",
              "      <th>3</th>\n",
              "      <td>2023-09-13 12:00:12</td>\n",
              "      <td>2023-09-13 12:02:13</td>\n",
              "      <td>R_2YqUy3dSdVNeFWK</td>\n",
              "      <td>Yes</td>\n",
              "      <td>Photography,Paint,Drawing,Craft,Music</td>\n",
              "      <td>NaN</td>\n",
              "      <td>Yes</td>\n",
              "      <td>No</td>\n",
              "      <td>AI art generally</td>\n",
              "      <td>No</td>\n",
              "      <td>...</td>\n",
              "      <td>Strongly agree</td>\n",
              "      <td>I would donate the use of my artwork to train ...</td>\n",
              "      <td>NaN</td>\n",
              "      <td>NaN</td>\n",
              "      <td>Strongly agree</td>\n",
              "      <td>Strongly agree</td>\n",
              "      <td>Strongly disagree</td>\n",
              "      <td>30-49</td>\n",
              "      <td>No</td>\n",
              "      <td>Female</td>\n",
              "    </tr>\n",
              "    <tr>\n",
              "      <th>4</th>\n",
              "      <td>2023-09-13 12:06:39</td>\n",
              "      <td>2023-09-13 12:14:13</td>\n",
              "      <td>R_UinoFH6IFRZyAvf</td>\n",
              "      <td>Somewhat</td>\n",
              "      <td>Paint,Craft</td>\n",
              "      <td>NaN</td>\n",
              "      <td>Yes</td>\n",
              "      <td>No</td>\n",
              "      <td>AI art generally</td>\n",
              "      <td>No</td>\n",
              "      <td>...</td>\n",
              "      <td>Disagree</td>\n",
              "      <td>I don’t need to profit, but I don’t want anyon...</td>\n",
              "      <td>NaN</td>\n",
              "      <td>NaN</td>\n",
              "      <td>Strongly agree</td>\n",
              "      <td>Strongly disagree</td>\n",
              "      <td>Strongly agree</td>\n",
              "      <td>65 or older</td>\n",
              "      <td>No</td>\n",
              "      <td>Female</td>\n",
              "    </tr>\n",
              "  </tbody>\n",
              "</table>\n",
              "<p>5 rows × 22 columns</p>\n",
              "</div>\n",
              "    <div class=\"colab-df-buttons\">\n",
              "\n",
              "  <div class=\"colab-df-container\">\n",
              "    <button class=\"colab-df-convert\" onclick=\"convertToInteractive('df-f49a6767-5963-434f-8617-5d37f826c17d')\"\n",
              "            title=\"Convert this dataframe to an interactive table.\"\n",
              "            style=\"display:none;\">\n",
              "\n",
              "  <svg xmlns=\"http://www.w3.org/2000/svg\" height=\"24px\" viewBox=\"0 -960 960 960\">\n",
              "    <path d=\"M120-120v-720h720v720H120Zm60-500h600v-160H180v160Zm220 220h160v-160H400v160Zm0 220h160v-160H400v160ZM180-400h160v-160H180v160Zm440 0h160v-160H620v160ZM180-180h160v-160H180v160Zm440 0h160v-160H620v160Z\"/>\n",
              "  </svg>\n",
              "    </button>\n",
              "\n",
              "  <style>\n",
              "    .colab-df-container {\n",
              "      display:flex;\n",
              "      gap: 12px;\n",
              "    }\n",
              "\n",
              "    .colab-df-convert {\n",
              "      background-color: #E8F0FE;\n",
              "      border: none;\n",
              "      border-radius: 50%;\n",
              "      cursor: pointer;\n",
              "      display: none;\n",
              "      fill: #1967D2;\n",
              "      height: 32px;\n",
              "      padding: 0 0 0 0;\n",
              "      width: 32px;\n",
              "    }\n",
              "\n",
              "    .colab-df-convert:hover {\n",
              "      background-color: #E2EBFA;\n",
              "      box-shadow: 0px 1px 2px rgba(60, 64, 67, 0.3), 0px 1px 3px 1px rgba(60, 64, 67, 0.15);\n",
              "      fill: #174EA6;\n",
              "    }\n",
              "\n",
              "    .colab-df-buttons div {\n",
              "      margin-bottom: 4px;\n",
              "    }\n",
              "\n",
              "    [theme=dark] .colab-df-convert {\n",
              "      background-color: #3B4455;\n",
              "      fill: #D2E3FC;\n",
              "    }\n",
              "\n",
              "    [theme=dark] .colab-df-convert:hover {\n",
              "      background-color: #434B5C;\n",
              "      box-shadow: 0px 1px 3px 1px rgba(0, 0, 0, 0.15);\n",
              "      filter: drop-shadow(0px 1px 2px rgba(0, 0, 0, 0.3));\n",
              "      fill: #FFFFFF;\n",
              "    }\n",
              "  </style>\n",
              "\n",
              "    <script>\n",
              "      const buttonEl =\n",
              "        document.querySelector('#df-f49a6767-5963-434f-8617-5d37f826c17d button.colab-df-convert');\n",
              "      buttonEl.style.display =\n",
              "        google.colab.kernel.accessAllowed ? 'block' : 'none';\n",
              "\n",
              "      async function convertToInteractive(key) {\n",
              "        const element = document.querySelector('#df-f49a6767-5963-434f-8617-5d37f826c17d');\n",
              "        const dataTable =\n",
              "          await google.colab.kernel.invokeFunction('convertToInteractive',\n",
              "                                                    [key], {});\n",
              "        if (!dataTable) return;\n",
              "\n",
              "        const docLinkHtml = 'Like what you see? Visit the ' +\n",
              "          '<a target=\"_blank\" href=https://colab.research.google.com/notebooks/data_table.ipynb>data table notebook</a>'\n",
              "          + ' to learn more about interactive tables.';\n",
              "        element.innerHTML = '';\n",
              "        dataTable['output_type'] = 'display_data';\n",
              "        await google.colab.output.renderOutput(dataTable, element);\n",
              "        const docLink = document.createElement('div');\n",
              "        docLink.innerHTML = docLinkHtml;\n",
              "        element.appendChild(docLink);\n",
              "      }\n",
              "    </script>\n",
              "  </div>\n",
              "\n",
              "\n",
              "<div id=\"df-a826ae3a-aede-4c79-a0a9-77b34c67d815\">\n",
              "  <button class=\"colab-df-quickchart\" onclick=\"quickchart('df-a826ae3a-aede-4c79-a0a9-77b34c67d815')\"\n",
              "            title=\"Suggest charts\"\n",
              "            style=\"display:none;\">\n",
              "\n",
              "<svg xmlns=\"http://www.w3.org/2000/svg\" height=\"24px\"viewBox=\"0 0 24 24\"\n",
              "     width=\"24px\">\n",
              "    <g>\n",
              "        <path d=\"M19 3H5c-1.1 0-2 .9-2 2v14c0 1.1.9 2 2 2h14c1.1 0 2-.9 2-2V5c0-1.1-.9-2-2-2zM9 17H7v-7h2v7zm4 0h-2V7h2v10zm4 0h-2v-4h2v4z\"/>\n",
              "    </g>\n",
              "</svg>\n",
              "  </button>\n",
              "\n",
              "<style>\n",
              "  .colab-df-quickchart {\n",
              "      --bg-color: #E8F0FE;\n",
              "      --fill-color: #1967D2;\n",
              "      --hover-bg-color: #E2EBFA;\n",
              "      --hover-fill-color: #174EA6;\n",
              "      --disabled-fill-color: #AAA;\n",
              "      --disabled-bg-color: #DDD;\n",
              "  }\n",
              "\n",
              "  [theme=dark] .colab-df-quickchart {\n",
              "      --bg-color: #3B4455;\n",
              "      --fill-color: #D2E3FC;\n",
              "      --hover-bg-color: #434B5C;\n",
              "      --hover-fill-color: #FFFFFF;\n",
              "      --disabled-bg-color: #3B4455;\n",
              "      --disabled-fill-color: #666;\n",
              "  }\n",
              "\n",
              "  .colab-df-quickchart {\n",
              "    background-color: var(--bg-color);\n",
              "    border: none;\n",
              "    border-radius: 50%;\n",
              "    cursor: pointer;\n",
              "    display: none;\n",
              "    fill: var(--fill-color);\n",
              "    height: 32px;\n",
              "    padding: 0;\n",
              "    width: 32px;\n",
              "  }\n",
              "\n",
              "  .colab-df-quickchart:hover {\n",
              "    background-color: var(--hover-bg-color);\n",
              "    box-shadow: 0 1px 2px rgba(60, 64, 67, 0.3), 0 1px 3px 1px rgba(60, 64, 67, 0.15);\n",
              "    fill: var(--button-hover-fill-color);\n",
              "  }\n",
              "\n",
              "  .colab-df-quickchart-complete:disabled,\n",
              "  .colab-df-quickchart-complete:disabled:hover {\n",
              "    background-color: var(--disabled-bg-color);\n",
              "    fill: var(--disabled-fill-color);\n",
              "    box-shadow: none;\n",
              "  }\n",
              "\n",
              "  .colab-df-spinner {\n",
              "    border: 2px solid var(--fill-color);\n",
              "    border-color: transparent;\n",
              "    border-bottom-color: var(--fill-color);\n",
              "    animation:\n",
              "      spin 1s steps(1) infinite;\n",
              "  }\n",
              "\n",
              "  @keyframes spin {\n",
              "    0% {\n",
              "      border-color: transparent;\n",
              "      border-bottom-color: var(--fill-color);\n",
              "      border-left-color: var(--fill-color);\n",
              "    }\n",
              "    20% {\n",
              "      border-color: transparent;\n",
              "      border-left-color: var(--fill-color);\n",
              "      border-top-color: var(--fill-color);\n",
              "    }\n",
              "    30% {\n",
              "      border-color: transparent;\n",
              "      border-left-color: var(--fill-color);\n",
              "      border-top-color: var(--fill-color);\n",
              "      border-right-color: var(--fill-color);\n",
              "    }\n",
              "    40% {\n",
              "      border-color: transparent;\n",
              "      border-right-color: var(--fill-color);\n",
              "      border-top-color: var(--fill-color);\n",
              "    }\n",
              "    60% {\n",
              "      border-color: transparent;\n",
              "      border-right-color: var(--fill-color);\n",
              "    }\n",
              "    80% {\n",
              "      border-color: transparent;\n",
              "      border-right-color: var(--fill-color);\n",
              "      border-bottom-color: var(--fill-color);\n",
              "    }\n",
              "    90% {\n",
              "      border-color: transparent;\n",
              "      border-bottom-color: var(--fill-color);\n",
              "    }\n",
              "  }\n",
              "</style>\n",
              "\n",
              "  <script>\n",
              "    async function quickchart(key) {\n",
              "      const quickchartButtonEl =\n",
              "        document.querySelector('#' + key + ' button');\n",
              "      quickchartButtonEl.disabled = true;  // To prevent multiple clicks.\n",
              "      quickchartButtonEl.classList.add('colab-df-spinner');\n",
              "      try {\n",
              "        const charts = await google.colab.kernel.invokeFunction(\n",
              "            'suggestCharts', [key], {});\n",
              "      } catch (error) {\n",
              "        console.error('Error during call to suggestCharts:', error);\n",
              "      }\n",
              "      quickchartButtonEl.classList.remove('colab-df-spinner');\n",
              "      quickchartButtonEl.classList.add('colab-df-quickchart-complete');\n",
              "    }\n",
              "    (() => {\n",
              "      let quickchartButtonEl =\n",
              "        document.querySelector('#df-a826ae3a-aede-4c79-a0a9-77b34c67d815 button');\n",
              "      quickchartButtonEl.style.display =\n",
              "        google.colab.kernel.accessAllowed ? 'block' : 'none';\n",
              "    })();\n",
              "  </script>\n",
              "</div>\n",
              "\n",
              "    </div>\n",
              "  </div>\n"
            ],
            "application/vnd.google.colaboratory.intrinsic+json": {
              "type": "dataframe",
              "variable_name": "Survey_data"
            }
          },
          "metadata": {},
          "execution_count": 70
        }
      ]
    },
    {
      "cell_type": "code",
      "source": [
        "#just checking everything in the DF looks good before we use it\n",
        "Survey_data.info()\n"
      ],
      "metadata": {
        "colab": {
          "base_uri": "https://localhost:8080/"
        },
        "id": "BarwX7aOvEfL",
        "outputId": "d25f58b9-07c2-4d39-ddd8-00d919177de0"
      },
      "execution_count": 71,
      "outputs": [
        {
          "output_type": "stream",
          "name": "stdout",
          "text": [
            "<class 'pandas.core.frame.DataFrame'>\n",
            "RangeIndex: 514 entries, 0 to 513\n",
            "Data columns (total 22 columns):\n",
            " #   Column       Non-Null Count  Dtype \n",
            "---  ------       --------------  ----- \n",
            " 0   StartDate    514 non-null    object\n",
            " 1   EndDate      514 non-null    object\n",
            " 2   ResponseId   514 non-null    object\n",
            " 3   Q4           494 non-null    object\n",
            " 4   Q5           491 non-null    object\n",
            " 5   Q5_24_TEXT   37 non-null     object\n",
            " 6   Q7           486 non-null    object\n",
            " 7   Q51          486 non-null    object\n",
            " 8   Q9           481 non-null    object\n",
            " 9   Q10          481 non-null    object\n",
            " 10  Q37          470 non-null    object\n",
            " 11  Q38          469 non-null    object\n",
            " 12  Q39          470 non-null    object\n",
            " 13  Q42          464 non-null    object\n",
            " 14  Q42_15_TEXT  30 non-null     object\n",
            " 15  Q31          42 non-null     object\n",
            " 16  Q44          459 non-null    object\n",
            " 17  Q46          458 non-null    object\n",
            " 18  Q48          458 non-null    object\n",
            " 19  Q23          458 non-null    object\n",
            " 20  Q24          458 non-null    object\n",
            " 21  Q25          458 non-null    object\n",
            "dtypes: object(22)\n",
            "memory usage: 88.5+ KB\n"
          ]
        }
      ]
    },
    {
      "cell_type": "markdown",
      "source": [
        "#Column names"
      ],
      "metadata": {
        "id": "iJBqRQ9-f5Dk"
      }
    },
    {
      "cell_type": "code",
      "source": [
        "#let's print out all the column names\n",
        "for col_name in Survey_data.columns:\n",
        "    print(col_name)\n",
        "\n",
        "#eek these look hard to parse through let's rename all of these so we know what the questions are"
      ],
      "metadata": {
        "id": "SjmV1_uxf6HY",
        "colab": {
          "base_uri": "https://localhost:8080/"
        },
        "outputId": "83dbea92-2cf2-4843-bc5d-46875a960d8f"
      },
      "execution_count": 72,
      "outputs": [
        {
          "output_type": "stream",
          "name": "stdout",
          "text": [
            "StartDate\n",
            "EndDate\n",
            "ResponseId\n",
            "Q4\n",
            "Q5\n",
            "Q5_24_TEXT\n",
            "Q7\n",
            "Q51\n",
            "Q9\n",
            "Q10\n",
            "Q37\n",
            "Q38\n",
            "Q39\n",
            "Q42\n",
            "Q42_15_TEXT\n",
            "Q31\n",
            "Q44\n",
            "Q46\n",
            "Q48\n",
            "Q23\n",
            "Q24\n",
            "Q25\n"
          ]
        }
      ]
    },
    {
      "cell_type": "markdown",
      "source": [
        "#Cleaning column names"
      ],
      "metadata": {
        "id": "eNaECeCjHewJ"
      }
    },
    {
      "cell_type": "markdown",
      "source": [
        "Changing column names to be more useful"
      ],
      "metadata": {
        "id": "t8qtBBIIgFds"
      }
    },
    {
      "cell_type": "code",
      "source": [
        "#making a copy of all the data frames here\n",
        "Survey_data = Survey_data.copy()\n"
      ],
      "metadata": {
        "id": "UpkzWRjrgJ4i"
      },
      "execution_count": 73,
      "outputs": []
    },
    {
      "cell_type": "code",
      "source": [
        "#ok let's rename all the columns so that they make sense in plain english\n",
        "Survey_data = Survey_data.rename(columns={\n",
        "                                          'Q4': 'Artist',\n",
        "                                          'Q5': 'Art_practice',\n",
        "                                          'Q5_24_TEXT': 'Art_practice_other_text',\n",
        "                                          'Q7': 'Purchase_art',\n",
        "                                          'Q51':'Professional_artist',\n",
        "                                          'Q9':'AI_models_familiarity',\n",
        "                                          'Q10': 'Used_AI_art_models',\n",
        "                                          'Q37': 'Styleof_ownedby_AI_user',\n",
        "                                          'Q38': 'Styleof_ownedby_OG_artist',\n",
        "                                          'Q39': 'Styleof_ownedby_AI_company',\n",
        "                                          'Q42': 'Fair_compensation',\n",
        "                                          'Q42_15_TEXT': 'Fair_compensation_other_text',\n",
        "                                          'Q31': 'Fair_compensation_tax_text',\n",
        "                                          'Q44': 'Required_disclosure',\n",
        "                                          'Q46': 'AI_pos_development_4art',\n",
        "                                          'Q48': 'AI_threat_2art_workers',\n",
        "                                          'Q23': 'Age',\n",
        "                                          'Q24': 'POC',\n",
        "                                          'Q25': 'Gender_identity'})\n",
        "\n"
      ],
      "metadata": {
        "id": "YyE8BwynHW2r"
      },
      "execution_count": 74,
      "outputs": []
    },
    {
      "cell_type": "code",
      "source": [
        "#let'check it worked and print out all the column names\n",
        "for col_name in Survey_data.columns:\n",
        "    print(col_name)\n",
        "\n",
        "#nice"
      ],
      "metadata": {
        "colab": {
          "base_uri": "https://localhost:8080/"
        },
        "id": "T0eNo9NlzRCD",
        "outputId": "5108ea33-11df-44ea-a198-2e8dc83fd07f"
      },
      "execution_count": 75,
      "outputs": [
        {
          "output_type": "stream",
          "name": "stdout",
          "text": [
            "StartDate\n",
            "EndDate\n",
            "ResponseId\n",
            "Artist\n",
            "Art_practice\n",
            "Art_practice_other_text\n",
            "Purchase_art\n",
            "Professional_artist\n",
            "AI_models_familiarity\n",
            "Used_AI_art_models\n",
            "Styleof_ownedby_AI_user\n",
            "Styleof_ownedby_OG_artist\n",
            "Styleof_ownedby_AI_company\n",
            "Fair_compensation\n",
            "Fair_compensation_other_text\n",
            "Fair_compensation_tax_text\n",
            "Required_disclosure\n",
            "AI_pos_development_4art\n",
            "AI_threat_2art_workers\n",
            "Age\n",
            "POC\n",
            "Gender_identity\n"
          ]
        }
      ]
    },
    {
      "cell_type": "markdown",
      "source": [
        "#Categorical Variables"
      ],
      "metadata": {
        "id": "-Q6kRuXkk3Ut"
      }
    },
    {
      "cell_type": "code",
      "source": [
        "#dropping the free form text response related to taxes\n",
        "Survey_data = Survey_data.drop(columns=['Fair_compensation_other_text'])\n"
      ],
      "metadata": {
        "id": "8TMtJt2Bd-YD"
      },
      "execution_count": 76,
      "outputs": []
    },
    {
      "cell_type": "markdown",
      "source": [
        "**Art practice questions**"
      ],
      "metadata": {
        "id": "-GUjIe7b1sN9"
      }
    },
    {
      "cell_type": "code",
      "source": [
        "#converting these all to strings\n",
        "Survey_data['Art_practice'] = Survey_data['Art_practice'].astype(str)"
      ],
      "metadata": {
        "id": "6nJGQpi1Fh4T"
      },
      "execution_count": 77,
      "outputs": []
    },
    {
      "cell_type": "code",
      "source": [
        "#seeing all the unique combinations\n",
        "Survey_data['Art_practice'].unique()"
      ],
      "metadata": {
        "colab": {
          "base_uri": "https://localhost:8080/"
        },
        "id": "4gTboVrgq1eG",
        "outputId": "9ea06e33-a450-473f-c68c-b5a1ed05d531"
      },
      "execution_count": 78,
      "outputs": [
        {
          "output_type": "execute_result",
          "data": {
            "text/plain": [
              "array(['Designer', 'Paint,Drawing', 'Craft,Jewelry ',\n",
              "       'Photography,Paint,Drawing,Craft,Music ', 'Paint,Craft', 'Music',\n",
              "       'Writing',\n",
              "       'Photography,Drawing,Graphic design ,Illustration ,Craft,Designer ,Writing ',\n",
              "       'Paint,Drawing,Designer ,Writing ', 'Drawing,Music ',\n",
              "       'Photography,Paint,Drawing,Graphic design ,Illustration ,Craft,Maker,Designer ,Jewelry ,Writing ',\n",
              "       'Tattoo,Graphic design ,Designer ',\n",
              "       'Craft,Not an artist, but I am an art enthusiast  ',\n",
              "       'Paint,Drawing,Craft,Music ', 'Tattoo,Craft',\n",
              "       'Paint,Tattoo,Graphic design ', 'Craft',\n",
              "       'Photography,Drawing,Not an artist, but I am an art enthusiast  ,Not an artist',\n",
              "       'Drawing,Writing ', 'Drawing', 'Photography,Craft',\n",
              "       'Photography,Paint,Drawing,Illustration ,Cinematography ,Writing ,Music ,Performance ',\n",
              "       'Photography,Textile ,Craft,Maker', 'Textile ,Craft,Maker',\n",
              "       'Tattoo', 'Photography', 'Photography,Craft,Writing ',\n",
              "       'Paint,Drawing,Craft,Writing ,Music ,Performance ',\n",
              "       'Photography,Designer ',\n",
              "       'Paint,Drawing,Tattoo,Graphic design ,Designer ',\n",
              "       'Photography,Paint,Drawing,Illustration ,Sculpture ,Craft,Writing ',\n",
              "       'Photography,Paint,Drawing,Graphic design ',\n",
              "       'Photography,Paint,Drawing,Tattoo,Illustration ,Craft,Jewelry ,Music ',\n",
              "       'Photography,Paint,Drawing,Craft,Jewelry ,Writing ,Music ',\n",
              "       'Photography,Paint,Drawing,Graphic design ,Illustration ,Textile ,Cinematography ,Maker,Designer ,Architecture,Writing ,Performance ',\n",
              "       'Photography,Drawing,Craft,Writing ',\n",
              "       'Paint,Jewelry ,Writing ,Music ', 'Paint',\n",
              "       'Photography,Paint,Graphic design ,Illustration ,Writing ,Music ',\n",
              "       'Photography,Tattoo', 'Photography,Paint,Drawing,Craft',\n",
              "       'Photography,Paint,Drawing', 'Photography,Craft,Music ',\n",
              "       'Photography,Music ', 'Photography,Drawing,Writing ',\n",
              "       'Photography,Drawing', 'Photography,Paint,Tattoo',\n",
              "       'Photography,Writing ',\n",
              "       'Photography,Paint,Drawing,Tattoo,Graphic design ,Illustration ,Textile ,Designer ',\n",
              "       'Photography,Drawing,Designer ,Other, please specify',\n",
              "       'Paint,Drawing,Jewelry ',\n",
              "       'Photography,Paint,Drawing,Graphic design ,Architecture,Music ',\n",
              "       'Photography,Tattoo,Graphic design ,Writing ,Music ',\n",
              "       'Paint,Music ', 'Photography,Illustration ,Writing ',\n",
              "       'Photography,Graphic design ,Architecture',\n",
              "       'Photography,Writing ,Music ',\n",
              "       'Photography,Paint,Drawing,Tattoo,Craft,Maker,Designer ,Jewelry ,Music ',\n",
              "       'Photography,Drawing,Illustration ,Designer ,Architecture',\n",
              "       'Paint,Drawing,Graphic design ,Illustration ,Designer ',\n",
              "       'Paint,Drawing,Illustration ,Writing ,Music ,Performance ',\n",
              "       'Writing ,Other, please specify',\n",
              "       'Photography,Paint,Drawing,Graphic design ,Craft,Designer ',\n",
              "       'Photography,Cinematography ',\n",
              "       'Photography,Paint,Drawing,Graphic design ,Illustration ',\n",
              "       'Sculpture',\n",
              "       'Photography,Drawing,Tattoo,Illustration ,Craft,Jewelry ,Writing ',\n",
              "       'Not an artist', 'Photography,Music ,Performance ',\n",
              "       'Music ,Performance ', 'Graphic design',\n",
              "       'Paint,Drawing,Writing ,Music ',\n",
              "       'Paint,Sculpture ,Craft,Designer ,Writing ', 'Paint,Sculpture ',\n",
              "       'Photography,Drawing,Graphic design ,Sculpture ,Writing ,Performance ',\n",
              "       'Drawing,Tattoo', 'Paint,Drawing,Illustration ',\n",
              "       'Photography,Illustration ,Music ', 'Drawing,Designer ',\n",
              "       'Photography,Paint,Graphic design ,Cinematography ',\n",
              "       'Paint,Drawing,Graphic design ,Illustration ',\n",
              "       'Drawing,Tattoo,Music ',\n",
              "       'Drawing,Craft,Maker,Designer ,Writing ,Music ,Performance ',\n",
              "       'Photography,Drawing,Graphic design ,Sculpture ',\n",
              "       'Paint,Drawing,Graphic design ,Textile ', 'Paint,Drawing,Tattoo',\n",
              "       'Illustration ,Music ',\n",
              "       'Photography,Paint,Drawing,Cinematography ',\n",
              "       'Photography,Paint,Drawing,Graphic design ,Illustration ,Cinematography ,Maker',\n",
              "       'Paint,Drawing,Writing ',\n",
              "       'Not an artist, but I work in an art-related field',\n",
              "       'Photography,Paint,Drawing,Tattoo,Sculpture ,Craft,Maker,Writing ,Music ',\n",
              "       'Writing ,Music ,Performance ', 'Photography,Paint,Maker,Music ',\n",
              "       'Photography,Drawing,Illustration ',\n",
              "       'Photography,Writing ,Music ,Performance ', 'Paint,Illustration ',\n",
              "       'Writing ,Performance ', 'Photography,Paint,Graphic design ',\n",
              "       'Photography,Paint,Graphic design ,Writing ',\n",
              "       'Photography,Drawing,Tattoo,Music ',\n",
              "       'Paint,Graphic design ,Illustration ,Designer ',\n",
              "       'Paint,Drawing,Graphic design ,Designer ,Music ',\n",
              "       'Paint,Graphic design ,Designer ,Architecture,Music ',\n",
              "       'Photography,Drawing,Graphic design ,Writing ,Music ,Performance ',\n",
              "       'Photography,Graphic design ,Cinematography ',\n",
              "       'Photography,Paint,Craft,Writing ,Music ,Performance ',\n",
              "       'Drawing,Graphic design ,Illustration ',\n",
              "       'Drawing,Illustration ,Craft,Music ',\n",
              "       'Paint,Craft,Music ,Performance ',\n",
              "       'Paint,Drawing,Graphic design ,Writing ',\n",
              "       'Photography,Paint,Drawing,Graphic design ,Craft,Writing ',\n",
              "       'Photography,Drawing,Designer ,Music ',\n",
              "       'Paint,Graphic design ,Illustration ,Writing ,Music ',\n",
              "       'Drawing,Sculpture ,Music ', 'Photography,Writing ,Performance ',\n",
              "       'Photography,Drawing,Graphic design ,Illustration ,Textile ,Designer ,Music ',\n",
              "       'Photography,Graphic design ,Cinematography ,Writing ,Music ',\n",
              "       'Photography,Drawing,Graphic design ,Music ',\n",
              "       'Photography,Sculpture ,Craft,Jewelry ', 'Drawing,Jewelry ,Music ',\n",
              "       'Photography,Paint,Drawing,Writing ',\n",
              "       'Photography,Paint,Drawing,Graphic design ,Textile ,Craft,Maker,Designer ,Writing ,Music ,Performance ',\n",
              "       'Drawing,Illustration ,Craft,Maker',\n",
              "       'Graphic design ,Illustration ,Designer ',\n",
              "       'Photography,Drawing,Graphic design ,Craft,Music ',\n",
              "       'Photography,Paint,Drawing,Graphic design ,Illustration ,Cinematography ,Craft,Designer ,Writing ,Music ,Performance ',\n",
              "       'Not an artist, but I am an art enthusiast  ', 'Maker',\n",
              "       'Paint,Drawing,Illustration ,Writing ,Music ',\n",
              "       'Photography,Drawing,Maker,Music ', 'Photography,Drawing,Craft',\n",
              "       'Other, please specify', 'Paint,Drawing,Textile ',\n",
              "       'Photography,Tattoo,Textile ,Prefer not to respond,Not an artist, but I work in an art-related field',\n",
              "       'Paint,Tattoo,Craft',\n",
              "       'Photography,Graphic design ,Illustration ,Cinematography ,Designer ,Architecture',\n",
              "       'Drawing,Craft,Maker,Architecture,Writing ,Music ',\n",
              "       'Photography,Paint,Drawing,Graphic design ,Illustration ,Cinematography ,Writing ',\n",
              "       'Photography,Paint,Drawing,Designer ,Writing ',\n",
              "       'Drawing,Craft,Maker',\n",
              "       'Photography,Drawing,Illustration ,Writing ,Music ',\n",
              "       'Photography,Paint,Cinematography ,Writing ,Performance ',\n",
              "       'Prefer not to respond',\n",
              "       'Photography,Drawing,Graphic design ,Illustration ,Designer ,Writing ',\n",
              "       'Paint,Drawing,Craft,Designer ,Music ',\n",
              "       'Graphic design ,Writing ,Not an artist, but I work in an art-related field',\n",
              "       'Photography,Paint,Drawing,Tattoo,Craft,Designer ,Architecture,Jewelry ',\n",
              "       'Architecture,Music ', 'Illustration ,Designer ,Music ',\n",
              "       'Photography,Paint,Sculpture ', 'Graphic design ,Music ',\n",
              "       'Drawing,Tattoo,Writing ',\n",
              "       'Photography,Paint,Drawing,Tattoo,Cinematography ',\n",
              "       'Photography,Graphic design ',\n",
              "       'Photography,Tattoo,Craft,Designer ,Music ,Performance ',\n",
              "       'Paint,Drawing,Graphic design ,Illustration ,Craft,Maker,Writing ,Music ',\n",
              "       'Drawing,Tattoo,Graphic design ,Illustration ,Textile ',\n",
              "       'Drawing,Graphic design ,Designer ',\n",
              "       'Paint,Drawing,Tattoo,Textile ,Cinematography ,Sculpture ,Craft,Maker',\n",
              "       'Drawing,Graphic design ,Illustration ,Designer ,Writing ,Music ',\n",
              "       'Photography,Paint,Drawing,Tattoo,Writing ,Music ',\n",
              "       'Photography,Paint,Drawing,Craft,Performance ',\n",
              "       'Paint,Drawing,Craft', 'Drawing,Graphic design ',\n",
              "       'Photography,Not an artist, but I am an art enthusiast  ',\n",
              "       'Paint,Drawing,Music ', 'Paint,Drawing,Writing ,Performance ',\n",
              "       'Photography,Paint,Drawing,Graphic design ,Illustration ,Designer ',\n",
              "       'Photography,Graphic design ,Illustration ', 'nan',\n",
              "       'Not an artist, but I am an art enthusiast  ,Other, please specify',\n",
              "       'Photography,Drawing,Graphic design ,Craft,Designer ,Architecture,Music ',\n",
              "       'Drawing,Tattoo,Graphic design ,Sculpture ,Craft,Designer ,Jewelry ,Writing ,Music ',\n",
              "       'Photography,Graphic design ,Music ,Performance ',\n",
              "       'Photography,Drawing,Graphic design ',\n",
              "       'Photography,Drawing,Illustration ,Textile ,Cinematography ,Sculpture ,Performance ',\n",
              "       'Paint,Drawing,Craft,Maker,Performance ,Other, please specify',\n",
              "       'Drawing,Not an artist, but I am an art enthusiast  ',\n",
              "       'Photography,Paint,Drawing,Graphic design ,Illustration ,Sculpture ,Maker,Designer ',\n",
              "       'Paint,Drawing,Illustration ,Textile ,Sculpture ,Craft,Jewelry ',\n",
              "       'Graphic design ,Designer ,Other, please specify',\n",
              "       'Graphic design ,Designer ,Performance ',\n",
              "       'Photography,Graphic design ,Sculpture ,Maker,Designer ,Performance ',\n",
              "       'Textile ,Sculpture ,Other, please specify',\n",
              "       'Graphic design ,Writing ',\n",
              "       'Paint,Drawing,Graphic design ,Sculpture ,Music ,Other, please specify',\n",
              "       'Paint,Drawing,Sculpture ,Maker,Writing ', 'Writing ,Music ',\n",
              "       'Paint,Drawing,Graphic design ,Sculpture ',\n",
              "       'Drawing,Graphic design ,Illustration ,Designer ',\n",
              "       'Photography,Paint,Drawing,Graphic design ,Illustration ,Craft',\n",
              "       'Paint,Drawing,Tattoo,Graphic design ,Illustration ,Sculpture ,Craft,Maker,Designer ,Other, please specify',\n",
              "       'Photography,Graphic design ,Illustration ,Craft',\n",
              "       'Photography,Paint,Drawing,Graphic design ,Illustration ,Textile ,Cinematography ,Sculpture ,Craft,Maker,Designer ,Architecture,Writing ,Music ,Performance ',\n",
              "       'Paint,Drawing,Tattoo,Graphic design ,Sculpture ,Craft,Maker,Writing ,Music ,Performance ',\n",
              "       'Photography,Paint,Drawing,Illustration ,Textile ,Maker',\n",
              "       'Photography,Paint,Drawing,Graphic design ,Illustration ,Designer ,Music ,Performance ',\n",
              "       'Photography,Drawing,Other, please specify',\n",
              "       'Photography,Paint,Drawing,Graphic design ,Textile ,Sculpture ,Craft,Writing ',\n",
              "       'Photography,Drawing,Graphic design ,Cinematography ,Music ,Performance ',\n",
              "       'Photography,Paint,Drawing,Graphic design ,Illustration ,Writing ,Music ,Performance ',\n",
              "       'Photography,Paint,Drawing,Graphic design ,Sculpture ,Craft,Maker,Jewelry ,Performance ',\n",
              "       'Paint,Drawing,Illustration ,Writing ', 'Craft,Maker,Jewelry ',\n",
              "       'Paint,Drawing,Tattoo,Graphic design ,Illustration ,Designer ,Architecture,Writing ',\n",
              "       'Photography,Drawing,Illustration ,Writing ',\n",
              "       'Paint,Drawing,Textile ,Craft,Maker,Music ',\n",
              "       'Photography,Drawing,Tattoo,Craft,Writing ',\n",
              "       'Maker,Designer ,Other, please specify',\n",
              "       'Photography,Graphic design ,Illustration ,Sculpture ,Craft,Maker,Designer ,Jewelry ,Writing ',\n",
              "       'Photography,Paint,Drawing,Sculpture ,Craft,Maker,Designer ,Other, please specify',\n",
              "       'Textile ,Sculpture ,Craft,Maker,Other, please specify',\n",
              "       'Paint,Drawing,Illustration ,Textile ,Craft',\n",
              "       'Sculpture ,Jewelry ,Writing ',\n",
              "       'Graphic design ,Illustration ,Maker,Designer ',\n",
              "       'Photography,Paint,Drawing,Craft,Maker',\n",
              "       'Photography,Sculpture ,Craft,Maker,Designer ,Architecture,Writing ',\n",
              "       'Photography,Paint,Drawing,Illustration ,Designer ,Architecture',\n",
              "       'Photography,Drawing,Graphic design ,Writing ',\n",
              "       'Graphic design ,Designer ,Writing ,Music ,Performance ',\n",
              "       'Photography,Paint,Graphic design ,Illustration ,Designer ,Writing ',\n",
              "       'Cinematography ,Maker,Music ,Performance ,Other, please specify',\n",
              "       'Paint,Drawing,Illustration ,Craft,Writing ',\n",
              "       'Paint,Drawing,Graphic design ,Illustration ,Designer ,Writing ',\n",
              "       'Photography,Graphic design ,Maker',\n",
              "       'Paint,Graphic design ,Writing ', 'Illustration',\n",
              "       'Paint,Drawing,Graphic design ,Sculpture ,Writing ',\n",
              "       'Photography,Paint,Craft',\n",
              "       'Drawing,Graphic design ,Illustration ,Maker',\n",
              "       'Drawing,Graphic design ,Craft,Other, please specify',\n",
              "       'Drawing,Graphic design ,Illustration ,Other, please specify',\n",
              "       'Graphic design ,Designer ',\n",
              "       'Photography,Drawing,Graphic design ,Illustration ',\n",
              "       'Photography,Paint,Graphic design ,Illustration ,Maker,Designer ',\n",
              "       'Paint,Drawing,Graphic design ,Illustration ,Craft',\n",
              "       'Paint,Textile ,Craft,Maker',\n",
              "       'Drawing,Illustration ,Craft,Jewelry ',\n",
              "       'Graphic design ,Illustration ,Craft,Designer ',\n",
              "       'Photography,Paint,Drawing,Graphic design ,Cinematography ,Sculpture ,Craft,Designer ,Writing ',\n",
              "       'Paint,Graphic design ,Craft',\n",
              "       'Photography,Drawing,Graphic design ,Illustration ,Designer ,Jewelry ,Writing ',\n",
              "       'Photography,Paint,Drawing,Graphic design ,Sculpture ,Craft,Jewelry ,Writing ,Music ',\n",
              "       'Photography,Paint,Drawing,Graphic design ,Illustration ,Designer ,Writing ',\n",
              "       'Photography,Paint,Drawing,Graphic design ,Craft,Jewelry ,Writing ',\n",
              "       'Drawing,Graphic design ,Writing ',\n",
              "       'Graphic design ,Illustration ,Craft,Writing ',\n",
              "       'Graphic design ,Illustration ',\n",
              "       'Photography,Paint,Drawing,Graphic design ,Illustration ,Sculpture ,Craft,Maker,Designer ,Writing ',\n",
              "       'Photography,Cinematography ,Writing ',\n",
              "       'Drawing,Graphic design ,Craft,Writing ',\n",
              "       'Paint,Maker,Designer ,Jewelry ,Writing ,Music ',\n",
              "       'Drawing,Illustration ,Sculpture ,Craft,Jewelry ,Writing ',\n",
              "       'Paint,Drawing,Graphic design ,Illustration ,Maker,Designer ,Music ',\n",
              "       'Photography,Sculpture ,Maker,Designer ',\n",
              "       'Photography,Paint,Drawing,Graphic design ,Textile ,Craft,Maker,Designer ,Writing ',\n",
              "       'Maker,Designer ', 'Paint,Drawing,Graphic design ',\n",
              "       'Photography,Drawing,Graphic design ,Illustration ,Craft,Writing ,Music ,Performance ',\n",
              "       'Paint,Drawing,Craft,Designer ,Writing ',\n",
              "       'Graphic design ,Craft,Maker,Designer ',\n",
              "       'Photography,Drawing,Graphic design ,Illustration ,Designer ',\n",
              "       'Photography,Paint,Drawing,Maker,Writing ', 'Paint,Craft,Maker',\n",
              "       'Drawing,Craft,Writing ',\n",
              "       'Photography,Graphic design ,Cinematography ,Writing ',\n",
              "       'Paint,Drawing,Textile ,Sculpture ', 'Photography,Paint,Writing ',\n",
              "       'Paint,Drawing,Illustration ,Textile ,Craft,Jewelry ,Writing ',\n",
              "       'Performance', 'Craft,Architecture,Other, please specify',\n",
              "       'Drawing,Maker,Writing ,Music ,Performance ,Other, please specify',\n",
              "       'Paint,Drawing,Sculpture ,Music ',\n",
              "       'Photography,Drawing,Tattoo,Sculpture ,Craft,Maker,Designer ,Jewelry ,Writing ,Music ,Performance ',\n",
              "       'Photography,Craft,Maker,Writing ',\n",
              "       'Photography,Paint,Textile ,Cinematography ,Sculpture ,Maker,Designer ',\n",
              "       'Paint,Drawing,Illustration ,Sculpture ,Maker,Designer ,Performance ',\n",
              "       'Photography,Drawing,Graphic design ,Illustration ,Cinematography ,Craft,Writing ',\n",
              "       'Textile ,Maker',\n",
              "       'Photography,Paint,Drawing,Graphic design ,Illustration ,Sculpture ,Maker,Designer ,Writing ,Music ,Performance ,Other, please specify',\n",
              "       'Drawing,Graphic design ,Illustration ,Music ',\n",
              "       'Photography,Paint,Illustration ,Writing ,Other, please specify',\n",
              "       'Photography,Graphic design ,Sculpture ,Craft,Maker,Designer ,Jewelry ,Writing ',\n",
              "       'Photography,Graphic design ,Illustration ,Writing ,Music ',\n",
              "       'Sculpture ,Maker,Designer ,Other, please specify',\n",
              "       'Photography,Illustration ,Sculpture ,Designer ',\n",
              "       'Photography,Paint,Drawing,Graphic design ,Designer ,Writing ,Performance ,Other, please specify',\n",
              "       'Photography,Paint,Drawing,Graphic design ,Illustration ,Sculpture ,Craft,Maker,Designer ,Performance ',\n",
              "       'Sculpture ,Other, please specify',\n",
              "       'Cinematography ,Sculpture ,Designer ,Music ',\n",
              "       'Paint,Drawing,Graphic design ,Jewelry ,Writing ',\n",
              "       'Paint,Music ,Performance ,Other, please specify',\n",
              "       'Photography,Drawing,Textile ,Sculpture ,Writing ',\n",
              "       'Photography,Graphic design ,Designer ',\n",
              "       'Drawing,Illustration ,Writing ',\n",
              "       'Photography,Graphic design ,Craft,Maker,Writing ',\n",
              "       'Photography,Paint,Illustration ,Music ',\n",
              "       'Drawing,Sculpture ,Craft,Maker,Designer ',\n",
              "       'Paint,Drawing,Graphic design ,Maker,Designer ,Architecture',\n",
              "       'Sculpture ,Craft,Designer ',\n",
              "       'Photography,Textile ,Sculpture ,Writing ,Performance ',\n",
              "       'Photography,Graphic design ,Designer ,Writing ,Music ,Other, please specify',\n",
              "       'Drawing,Graphic design ,Illustration ,Craft,Designer ,Writing ',\n",
              "       'Photography,Other, please specify',\n",
              "       'Photography,Paint,Drawing,Textile ,Sculpture ,Craft,Jewelry ,Writing ',\n",
              "       'Photography,Sculpture ,Other, please specify',\n",
              "       'Graphic design ,Textile ,Craft,Jewelry ,Writing ',\n",
              "       'Sculpture ,Craft,Designer ,Jewelry ,Other, please specify',\n",
              "       'Paint,Drawing,Maker,Designer ', 'Paint,Writing ,Music '],\n",
              "      dtype=object)"
            ]
          },
          "metadata": {},
          "execution_count": 78
        }
      ]
    },
    {
      "cell_type": "code",
      "source": [
        "#We want to separate all of these into their own art practice this function will do this\n",
        "def Art_practice(x):\n",
        "  if 'Paint' in x['Art_practice']:\n",
        "    return 'paint'\n",
        "  elif 'Photography'in x['Art_practice']:\n",
        "      return 'Photography'\n",
        "  elif 'Digital'in x['Art_practice']:\n",
        "      return 'Digital'\n",
        "  elif 'cosmetic'in x['Art_practice']:\n",
        "      return 'cosmetic'\n",
        "  elif 'Tattoo' in x['Art_practice']:\n",
        "    return 'tattoo'\n",
        "  elif 'Graphic design' in x['Art_practice']:\n",
        "    return 'graphic design'\n",
        "  elif 'Illustration' in x['Art_practice']:\n",
        "    return 'illustration'\n",
        "  elif 'Textile' in x['Art_practice']:\n",
        "    return 'textile'\n",
        "  elif 'Cinematography' in x['Art_practice']:\n",
        "    return 'cinematography'\n",
        "  elif  'Sculpture' in x['Art_practice']:\n",
        "    return 'sculpture'\n",
        "  elif 'Craft' in x['Art_practice']:\n",
        "    return 'craft'\n",
        "  elif 'Maker' in x['Art_practice']:\n",
        "    return 'maker'\n",
        "  elif 'Designer' in x['Art_practice']:\n",
        "    return 'designer'\n",
        "  elif 'Architecture' in x['Art_practice']:\n",
        "    return 'architecture'\n",
        "  elif  'Jewelry' in x['Art_practice']:\n",
        "    return 'jewelry'\n",
        "  elif 'Writing' in x['Art_practice']:\n",
        "    return 'writing'\n",
        "  elif 'Music' in x['Art_practice']:\n",
        "    return 'music'\n",
        "  elif 'Performance' in x['Art_practice']:\n",
        "    return 'performance'\n",
        "  elif 'Prefer not to respond' in x['Art_practice']:\n",
        "    return 'PNTR'\n",
        "  elif 'Not an artist, but I work in an art-related field' in x['Art_practice']:\n",
        "    return 'art-related field'\n",
        "  elif 'Not an artist' in x['Art_practice']:\n",
        "    return 'not artist'\n",
        "  elif 'Other, please specify' in x['Art_practice']:\n",
        "    return 'other'\n",
        "  elif 'Drawing' in x['Art_practice']:\n",
        "    return 'drawing'\n",
        "Survey_data['Art_practice'] = Survey_data.apply(Art_practice, axis=1)\n"
      ],
      "metadata": {
        "id": "H3CVYJrw5o5X"
      },
      "execution_count": 79,
      "outputs": []
    },
    {
      "cell_type": "code",
      "source": [
        "#let's check if that worked\n",
        "Survey_data['Art_practice'].value_counts()"
      ],
      "metadata": {
        "colab": {
          "base_uri": "https://localhost:8080/"
        },
        "id": "73L-uupF2nah",
        "outputId": "bfd0dcee-de0a-4935-ec83-5f9a7e59f153"
      },
      "execution_count": 80,
      "outputs": [
        {
          "output_type": "execute_result",
          "data": {
            "text/plain": [
              "Art_practice\n",
              "paint                173\n",
              "Photography          118\n",
              "writing               54\n",
              "graphic design        41\n",
              "music                 18\n",
              "not artist            11\n",
              "craft                  9\n",
              "tattoo                 9\n",
              "other                  9\n",
              "sculpture              9\n",
              "illustration           9\n",
              "drawing                8\n",
              "maker                  4\n",
              "designer               4\n",
              "textile                4\n",
              "art-related field      3\n",
              "PNTR                   3\n",
              "cinematography         2\n",
              "jewelry                1\n",
              "architecture           1\n",
              "performance            1\n",
              "Name: count, dtype: int64"
            ]
          },
          "metadata": {},
          "execution_count": 80
        }
      ]
    },
    {
      "cell_type": "code",
      "source": [
        "Survey_data['Art_practice_other_text'].unique()"
      ],
      "metadata": {
        "colab": {
          "base_uri": "https://localhost:8080/"
        },
        "id": "N_KIu1Wc9-aI",
        "outputId": "56bdefaf-085a-4431-cbde-8f5bf5045899"
      },
      "execution_count": 81,
      "outputs": [
        {
          "output_type": "execute_result",
          "data": {
            "text/plain": [
              "array([nan, 'woodworking', 'Game Design', 'Coloring', 'Music',\n",
              "       'Floral design.', 'printmaking', 'intermedia', 'Data viz',\n",
              "       'Data art', 'Code based digital work', 'mosaic',\n",
              "       'Upcycled Mosaics (Mixed Media)', 'Ceremonial Arts', 'Woodworking',\n",
              "       'conceptual artist, creative software developer, woodworker',\n",
              "       'Antique and art dealer, artist ', 'Stained glass and mosaic',\n",
              "       'Improvisational video art',\n",
              "       'Misc graphic arts - designs for social media, book covers, etc.',\n",
              "       'Digital planning', 'fiber', 'Collage', 'Stand Up Comedian',\n",
              "       'digital art, virtual reality', 'generative art',\n",
              "       'Digital art, animation, interactive installations ',\n",
              "       'Printmaking, socially engaged projects', 'Digital artist',\n",
              "       'generative digital', 'computer art', '3d', 'Digital / New Media',\n",
              "       'New Media', 'Digital, conceptual ', 'Videoart',\n",
              "       'Hairstylist and wigmaker', 'Makeup Artist'], dtype=object)"
            ]
          },
          "metadata": {},
          "execution_count": 81
        }
      ]
    },
    {
      "cell_type": "code",
      "source": [
        "#We want to capture the free form text from the other responses to art practice, here are the ones that we think fit into performance art\n",
        "Survey_data['Art_practice'] = np.where(Survey_data['Art_practice_other_text'] == 'Stand Up Comedian', 'performance', Survey_data['Art_practice'])\n"
      ],
      "metadata": {
        "id": "J80a6Vd5Z-Gk"
      },
      "execution_count": 82,
      "outputs": []
    },
    {
      "cell_type": "code",
      "source": [
        "#let's check that it worked\n",
        "Survey_data['Art_practice'].value_counts()"
      ],
      "metadata": {
        "colab": {
          "base_uri": "https://localhost:8080/"
        },
        "id": "YZN6e5bo0fOu",
        "outputId": "2920010f-9b2b-4dd2-c0ed-ecd1424a4d69"
      },
      "execution_count": 83,
      "outputs": [
        {
          "output_type": "execute_result",
          "data": {
            "text/plain": [
              "Art_practice\n",
              "paint                173\n",
              "Photography          118\n",
              "writing               54\n",
              "graphic design        41\n",
              "music                 18\n",
              "not artist            11\n",
              "illustration           9\n",
              "craft                  9\n",
              "tattoo                 9\n",
              "other                  9\n",
              "sculpture              9\n",
              "drawing                8\n",
              "designer               4\n",
              "textile                4\n",
              "art-related field      3\n",
              "maker                  3\n",
              "PNTR                   3\n",
              "cinematography         2\n",
              "performance            2\n",
              "jewelry                1\n",
              "architecture           1\n",
              "Name: count, dtype: int64"
            ]
          },
          "metadata": {},
          "execution_count": 83
        }
      ]
    },
    {
      "cell_type": "code",
      "source": [
        "#We want to capture the free form text from the other responses to art practice, here are the ones that we think fit into craft\n",
        "\n",
        "\n",
        "Survey_data['Art_practice'] = np.where(Survey_data['Art_practice_other_text'] == 'Makeup Artist', 'craft', Survey_data['Art_practice'])\n",
        "Survey_data['Art_practice'] = np.where(Survey_data['Art_practice_other_text'] == 'Hairstylist and wigmaker', 'craft', Survey_data['Art_practice'])\n",
        "Survey_data['Art_practice'] = np.where(Survey_data['Art_practice_other_text'] == 'Floral design.', 'craft', Survey_data['Art_practice'])\n",
        "Survey_data['Art_practice'] = np.where(Survey_data['Art_practice_other_text'] == 'printmaking', 'craft', Survey_data['Art_practice'])\n",
        "Survey_data['Art_practice'] = np.where(Survey_data['Art_practice_other_text'] == 'mosaic', 'craft', Survey_data['Art_practice'])\n",
        "Survey_data['Art_practice'] = np.where(Survey_data['Art_practice_other_text'] == \"Upcycled Mosaics (Mixed Media)', 'Ceremonial Arts', 'Woodworking\", 'craft', Survey_data['Art_practice'])\n",
        "Survey_data['Art_practice'] = np.where(Survey_data['Art_practice_other_text'] == 'fiber', 'craft', Survey_data['Art_practice'])\n",
        "Survey_data['Art_practice'] = np.where(Survey_data['Art_practice_other_text'] == 'Printmaking, socially engaged projects', 'craft', Survey_data['Art_practice'])\n",
        "Survey_data['Art_practice'] = np.where(Survey_data['Art_practice_other_text'] == 'Stained glass and mosaic ','craft',  Survey_data['Art_practice'])\n"
      ],
      "metadata": {
        "id": "kmvmfjCnZ-Kk"
      },
      "execution_count": 84,
      "outputs": []
    },
    {
      "cell_type": "code",
      "source": [
        "#let's check that it worked\n",
        "Survey_data['Art_practice'].value_counts()"
      ],
      "metadata": {
        "colab": {
          "base_uri": "https://localhost:8080/"
        },
        "id": "cigLr_SxFLrN",
        "outputId": "30739e63-2062-493a-c0fd-22c85742b91a"
      },
      "execution_count": 85,
      "outputs": [
        {
          "output_type": "execute_result",
          "data": {
            "text/plain": [
              "Art_practice\n",
              "paint                171\n",
              "Photography          118\n",
              "writing               54\n",
              "graphic design        40\n",
              "music                 18\n",
              "craft                 16\n",
              "not artist            10\n",
              "illustration           9\n",
              "tattoo                 9\n",
              "sculpture              9\n",
              "drawing                8\n",
              "other                  6\n",
              "designer               4\n",
              "textile                4\n",
              "art-related field      3\n",
              "maker                  3\n",
              "PNTR                   3\n",
              "cinematography         2\n",
              "performance            2\n",
              "jewelry                1\n",
              "architecture           1\n",
              "Name: count, dtype: int64"
            ]
          },
          "metadata": {},
          "execution_count": 85
        }
      ]
    },
    {
      "cell_type": "code",
      "source": [
        "#We want to capture the free form text from the other responses to art practice, here are the ones that we think fit into digital arts\n",
        "\n",
        "Survey_data['Art_practice'] = np.where(Survey_data['Art_practice_other_text'] == 'Game Design', 'digital', Survey_data['Art_practice'])\n",
        "Survey_data['Art_practice'] = np.where(Survey_data['Art_practice_other_text'] == 'intermedia', 'digital', Survey_data['Art_practice'])\n",
        "Survey_data['Art_practice'] = np.where(Survey_data['Art_practice_other_text'] == 'Data viz', 'digital', Survey_data['Art_practice'])\n",
        "Survey_data['Art_practice'] = np.where(Survey_data['Art_practice_other_text'] == 'Data art', 'digital', Survey_data['Art_practice'])\n",
        "Survey_data['Art_practice'] = np.where(Survey_data['Art_practice_other_text'] == 'Code based digital work', 'digital', Survey_data['Art_practice'])\n",
        "Survey_data['Art_practice'] = np.where(Survey_data['Art_practice_other_text'] == 'Improvisational video art', 'digital', Survey_data['Art_practice'])\n",
        "Survey_data['Art_practice'] = np.where(Survey_data['Art_practice_other_text'] == 'Misc graphic arts - designs for social media, book covers, etc.', 'digital', Survey_data['Art_practice'])\n",
        "Survey_data['Art_practice'] = np.where(Survey_data['Art_practice_other_text'] == 'Digital planning', 'digital', Survey_data['Art_practice'])\n",
        "Survey_data['Art_practice'] = np.where(Survey_data['Art_practice_other_text'] == 'digital art, virtual reality', 'digital', Survey_data['Art_practice'])\n",
        "Survey_data['Art_practice'] = np.where(Survey_data['Art_practice_other_text'] == 'generative art', 'digital', Survey_data['Art_practice'])\n",
        "Survey_data['Art_practice'] = np.where(Survey_data['Art_practice_other_text'] == 'Digital art, animation, interactive installations ', 'digital', Survey_data['Art_practice'])\n",
        "Survey_data['Art_practice'] = np.where(Survey_data['Art_practice_other_text'] == 'Digital artist', 'digital', Survey_data['Art_practice'])\n",
        "Survey_data['Art_practice'] = np.where(Survey_data['Art_practice_other_text'] == 'generative digital', 'digital', Survey_data['Art_practice'])\n",
        "Survey_data['Art_practice'] = np.where(Survey_data['Art_practice_other_text'] == 'computer art', 'digital', Survey_data['Art_practice'])\n"
      ],
      "metadata": {
        "id": "iUv8JSZAZ-M9"
      },
      "execution_count": 86,
      "outputs": []
    },
    {
      "cell_type": "code",
      "source": [
        "#let's check that it worked\n",
        "Survey_data['Art_practice'].value_counts()"
      ],
      "metadata": {
        "colab": {
          "base_uri": "https://localhost:8080/"
        },
        "id": "0O8cx_yTFKNe",
        "outputId": "ad5814b8-e123-4c31-e8f2-4c9190a20a1e"
      },
      "execution_count": 87,
      "outputs": [
        {
          "output_type": "execute_result",
          "data": {
            "text/plain": [
              "Art_practice\n",
              "paint                167\n",
              "Photography          118\n",
              "writing               52\n",
              "graphic design        38\n",
              "music                 18\n",
              "craft                 16\n",
              "digital               14\n",
              "not artist            10\n",
              "illustration           9\n",
              "tattoo                 9\n",
              "drawing                8\n",
              "sculpture              7\n",
              "other                  4\n",
              "designer               4\n",
              "art-related field      3\n",
              "maker                  3\n",
              "textile                3\n",
              "PNTR                   3\n",
              "performance            2\n",
              "jewelry                1\n",
              "architecture           1\n",
              "cinematography         1\n",
              "Name: count, dtype: int64"
            ]
          },
          "metadata": {},
          "execution_count": 87
        }
      ]
    },
    {
      "cell_type": "code",
      "source": [
        "#We want to capture the free form text from the other responses to art practice, here are the ones that we think fit into maker\n",
        "\n",
        "Survey_data['Art_practice'] = np.where(Survey_data['Art_practice_other_text'] == 'woodworking', 'maker', Survey_data['Art_practice'])\n",
        "Survey_data['Art_practice'] = np.where(Survey_data['Art_practice_other_text'] == 'Woodworking', 'maker', Survey_data['Art_practice'])\n"
      ],
      "metadata": {
        "id": "owPOJYp1Z-Pa"
      },
      "execution_count": 88,
      "outputs": []
    },
    {
      "cell_type": "code",
      "source": [
        "#let's check that it worked\n",
        "Survey_data['Art_practice'].value_counts()"
      ],
      "metadata": {
        "colab": {
          "base_uri": "https://localhost:8080/"
        },
        "id": "6CATVOIrHagY",
        "outputId": "d99a47c7-f432-428a-d57c-6f32c7334b91"
      },
      "execution_count": 89,
      "outputs": [
        {
          "output_type": "execute_result",
          "data": {
            "text/plain": [
              "Art_practice\n",
              "paint                167\n",
              "Photography          116\n",
              "writing               52\n",
              "graphic design        38\n",
              "music                 18\n",
              "craft                 16\n",
              "digital               14\n",
              "not artist            10\n",
              "illustration           9\n",
              "tattoo                 9\n",
              "drawing                8\n",
              "sculpture              7\n",
              "maker                  5\n",
              "other                  4\n",
              "designer               4\n",
              "art-related field      3\n",
              "textile                3\n",
              "PNTR                   3\n",
              "performance            2\n",
              "jewelry                1\n",
              "architecture           1\n",
              "cinematography         1\n",
              "Name: count, dtype: int64"
            ]
          },
          "metadata": {},
          "execution_count": 89
        }
      ]
    },
    {
      "cell_type": "code",
      "source": [
        "#we are all done with categorizing these text other entries into art practice so let's drop the columns\n",
        "Survey_data = Survey_data.drop(columns=['Art_practice_other_text'])"
      ],
      "metadata": {
        "id": "wQIyq09BZ-YJ"
      },
      "execution_count": 90,
      "outputs": []
    },
    {
      "cell_type": "code",
      "source": [
        "#let's just make sure all the value counts look ok, we see here that we have several categories that are quite small\n",
        "Survey_data['Art_practice'].value_counts()"
      ],
      "metadata": {
        "id": "66FSKrdkEZxo",
        "colab": {
          "base_uri": "https://localhost:8080/"
        },
        "outputId": "d0338bd4-4391-49f3-f976-c2e793e80669"
      },
      "execution_count": 91,
      "outputs": [
        {
          "output_type": "execute_result",
          "data": {
            "text/plain": [
              "Art_practice\n",
              "paint                167\n",
              "Photography          116\n",
              "writing               52\n",
              "graphic design        38\n",
              "music                 18\n",
              "craft                 16\n",
              "digital               14\n",
              "not artist            10\n",
              "illustration           9\n",
              "tattoo                 9\n",
              "drawing                8\n",
              "sculpture              7\n",
              "maker                  5\n",
              "other                  4\n",
              "designer               4\n",
              "art-related field      3\n",
              "textile                3\n",
              "PNTR                   3\n",
              "performance            2\n",
              "jewelry                1\n",
              "architecture           1\n",
              "cinematography         1\n",
              "Name: count, dtype: int64"
            ]
          },
          "metadata": {},
          "execution_count": 91
        }
      ]
    },
    {
      "cell_type": "code",
      "source": [
        "#let's coarse grain these categories a bit so we dont have categories that are smaller than 5\n",
        "\n",
        "Survey_data['Art_practice'] = np.where(Survey_data['Art_practice'] == 'art-related field', 'not artist', Survey_data['Art_practice'])\n",
        "Survey_data['Art_practice'] = np.where(Survey_data['Art_practice'] == 'graphic design', 'designer', Survey_data['Art_practice'])\n",
        "Survey_data['Art_practice'] = np.where(Survey_data['Art_practice'] == 'textile', 'craft', Survey_data['Art_practice'])\n",
        "Survey_data['Art_practice'] = np.where(Survey_data['Art_practice'] == 'jewelry', 'craft', Survey_data['Art_practice'])\n",
        "Survey_data['Art_practice'] = np.where(Survey_data['Art_practice'] == 'performance', 'other', Survey_data['Art_practice'])\n",
        "Survey_data['Art_practice'] = np.where(Survey_data['Art_practice'] == 'cinematography', 'other', Survey_data['Art_practice'])\n",
        "Survey_data['Art_practice'] = np.where(Survey_data['Art_practice'] == 'architecture', 'other', Survey_data['Art_practice'])\n",
        "Survey_data['Art_practice'] = np.where(Survey_data['Art_practice'] == 'PNTR', 'other', Survey_data['Art_practice'])\n",
        "\n"
      ],
      "metadata": {
        "id": "4R2XXavRI1Ny"
      },
      "execution_count": 92,
      "outputs": []
    },
    {
      "cell_type": "code",
      "source": [
        "#let's make sure that worked\n",
        "Survey_data['Art_practice'].value_counts()"
      ],
      "metadata": {
        "colab": {
          "base_uri": "https://localhost:8080/"
        },
        "id": "ohFRtsiNK1pK",
        "outputId": "ad651796-57ba-45df-a131-1e657811206b"
      },
      "execution_count": 93,
      "outputs": [
        {
          "output_type": "execute_result",
          "data": {
            "text/plain": [
              "Art_practice\n",
              "paint           167\n",
              "Photography     116\n",
              "writing          52\n",
              "designer         42\n",
              "craft            20\n",
              "music            18\n",
              "digital          14\n",
              "not artist       13\n",
              "other            11\n",
              "tattoo            9\n",
              "illustration      9\n",
              "drawing           8\n",
              "sculpture         7\n",
              "maker             5\n",
              "Name: count, dtype: int64"
            ]
          },
          "metadata": {},
          "execution_count": 93
        }
      ]
    },
    {
      "cell_type": "markdown",
      "source": [
        "AI_models_familiarity questions"
      ],
      "metadata": {
        "id": "jIY-1GdI6axh"
      }
    },
    {
      "cell_type": "code",
      "source": [
        "#let's look at all the unique combinations of answers\n",
        "Survey_data['AI_models_familiarity'].unique()"
      ],
      "metadata": {
        "id": "0_WfIWlJCJhh",
        "colab": {
          "base_uri": "https://localhost:8080/"
        },
        "outputId": "ee5cd966-5947-47f6-950b-cef3d1969c0b"
      },
      "execution_count": 94,
      "outputs": [
        {
          "output_type": "execute_result",
          "data": {
            "text/plain": [
              "array(['Artificial intelligence or deep learning algorithms, such as generative adversarial networks (GANs)',\n",
              "       'None of the above', 'AI art generally',\n",
              "       'AI art generally,Artificial intelligence or deep learning algorithms, such as generative adversarial networks (GANs),Text-to-image models',\n",
              "       'AI art generally,Large Language Models,Text-to-image models',\n",
              "       'Text-to-image models',\n",
              "       'AI art generally,Artificial intelligence or deep learning algorithms, such as generative adversarial networks (GANs)',\n",
              "       'AI art generally,Text-to-image models',\n",
              "       'AI art generally,Artificial intelligence or deep learning algorithms, such as generative adversarial networks (GANs),Large Language Models,Text-to-image models',\n",
              "       'AI art generally,Artificial intelligence or deep learning algorithms, such as generative adversarial networks (GANs),Large Language Models',\n",
              "       'AI art generally,Large Language Models',\n",
              "       'Artificial intelligence or deep learning algorithms, such as generative adversarial networks (GANs),Text-to-image models',\n",
              "       'Artificial intelligence or deep learning algorithms, such as generative adversarial networks (GANs),None of the above',\n",
              "       'Large Language Models',\n",
              "       'Artificial intelligence or deep learning algorithms, such as generative adversarial networks (GANs),Large Language Models',\n",
              "       'Large Language Models,Text-to-image models', nan,\n",
              "       'Artificial intelligence or deep learning algorithms, such as generative adversarial networks (GANs),Large Language Models,Text-to-image models'],\n",
              "      dtype=object)"
            ]
          },
          "metadata": {},
          "execution_count": 94
        }
      ]
    },
    {
      "cell_type": "code",
      "source": [
        "#we want to make these strings\n",
        "Survey_data['AI_models_familiarity'] = Survey_data['AI_models_familiarity'].astype(str)"
      ],
      "metadata": {
        "id": "wRL_dcXTF2tp"
      },
      "execution_count": 95,
      "outputs": []
    },
    {
      "cell_type": "code",
      "source": [
        "#We want to separate all of these into their own category this function will do this\n",
        "\n",
        "def AI_models_familiarity_numeric(x):\n",
        "  if  'AI art generally' in x['AI_models_familiarity']:\n",
        "    return 'AI art generally'\n",
        "  elif 'Artificial intelligence or deep learning algorithms, such as generative adversarial networks (GANs)' in  x['AI_models_familiarity']:\n",
        "    return \"AI_Deeplearning_GANS\"\n",
        "  elif 'Large Language Models' in  x['AI_models_familiarity']:\n",
        "    return \"LLMS\"\n",
        "  elif 'Text-to-image models' in  x['AI_models_familiarity']:\n",
        "    return \"text to image\"\n",
        "  elif  'None of the above' in  x['AI_models_familiarity']:\n",
        "    return 'none'\n",
        "Survey_data['AI_models_familiarity'] = Survey_data.apply(AI_models_familiarity_numeric, axis=1)\n"
      ],
      "metadata": {
        "id": "WUmuHfwV6gL4"
      },
      "execution_count": 96,
      "outputs": []
    },
    {
      "cell_type": "code",
      "source": [
        "#let's make sure that worked\n",
        "Survey_data['AI_models_familiarity'].value_counts()\n",
        "\n",
        "#nice"
      ],
      "metadata": {
        "colab": {
          "base_uri": "https://localhost:8080/"
        },
        "id": "WVKHhJZELtFn",
        "outputId": "b9191749-4c45-4de3-e546-7262087b337e"
      },
      "execution_count": 97,
      "outputs": [
        {
          "output_type": "execute_result",
          "data": {
            "text/plain": [
              "AI_models_familiarity\n",
              "AI art generally        379\n",
              "none                     44\n",
              "AI_Deeplearning_GANS     42\n",
              "text to image            12\n",
              "LLMS                      4\n",
              "Name: count, dtype: int64"
            ]
          },
          "metadata": {},
          "execution_count": 97
        }
      ]
    },
    {
      "cell_type": "markdown",
      "source": [
        "Likert Questions"
      ],
      "metadata": {
        "id": "ozHSDxbSL3JJ"
      }
    },
    {
      "cell_type": "code",
      "source": [
        "#let's look at all the unique answers\n",
        "\n",
        "Survey_data['AI_pos_development_4art'].unique()"
      ],
      "metadata": {
        "colab": {
          "base_uri": "https://localhost:8080/"
        },
        "id": "E09jI6C81G1F",
        "outputId": "38901a83-db64-4a41-f4d7-2fab8cef6946"
      },
      "execution_count": 98,
      "outputs": [
        {
          "output_type": "execute_result",
          "data": {
            "text/plain": [
              "array(['Neutral', 'Strongly disagree', 'Disagree', 'Strongly agree',\n",
              "       'Agree', nan], dtype=object)"
            ]
          },
          "metadata": {},
          "execution_count": 98
        }
      ]
    },
    {
      "cell_type": "code",
      "source": [
        "#letms make those all strings\n",
        "Survey_data['AI_pos_development_4art'] = Survey_data['AI_pos_development_4art'].astype(str)\n",
        "Survey_data['AI_threat_2art_workers'] = Survey_data['AI_threat_2art_workers'].astype(str)\n",
        "Survey_data['Styleof_ownedby_OG_artist'] = Survey_data['Styleof_ownedby_OG_artist'].astype(str)\n",
        "Survey_data['Required_disclosure'] = Survey_data['Required_disclosure'].astype(str)\n",
        "Survey_data['Styleof_ownedby_AI_company'] = Survey_data['Styleof_ownedby_AI_company'].astype(str)\n",
        "Survey_data['Styleof_ownedby_AI_user'] = Survey_data['Styleof_ownedby_AI_user'].astype(str)\n"
      ],
      "metadata": {
        "id": "3kMGQlPv4hKZ"
      },
      "execution_count": 99,
      "outputs": []
    },
    {
      "cell_type": "code",
      "source": [
        "Survey_data['AI_pos_development_4art'].info()"
      ],
      "metadata": {
        "colab": {
          "base_uri": "https://localhost:8080/"
        },
        "id": "U7Xf5EeT5fd1",
        "outputId": "c856b68d-a35a-42a5-cc9e-feae5ffa5f8e"
      },
      "execution_count": 100,
      "outputs": [
        {
          "output_type": "stream",
          "name": "stdout",
          "text": [
            "<class 'pandas.core.series.Series'>\n",
            "RangeIndex: 514 entries, 0 to 513\n",
            "Series name: AI_pos_development_4art\n",
            "Non-Null Count  Dtype \n",
            "--------------  ----- \n",
            "514 non-null    object\n",
            "dtypes: object(1)\n",
            "memory usage: 4.1+ KB\n"
          ]
        }
      ]
    },
    {
      "cell_type": "code",
      "source": [
        "#we want to make the likert answers into a numerical values\n",
        "# AI_pos_development_4art\n",
        "\n",
        "def AI_pos_development_Likert(x):\n",
        "  if x['AI_pos_development_4art'] == 'Strongly agree':\n",
        "    return 3\n",
        "  elif x['AI_pos_development_4art'] == 'Agree ':\n",
        "    return 3\n",
        "  elif x['AI_pos_development_4art'] == 'Neutral':\n",
        "    return 2\n",
        "  elif x['AI_pos_development_4art'] =='Disagree' :\n",
        "    return 1\n",
        "  elif x['AI_pos_development_4art'] == 'Strongly disagree':\n",
        "    return 1\n",
        "Survey_data['AI_pos_development_4art'] = Survey_data.apply(AI_pos_development_Likert, axis=1)\n"
      ],
      "metadata": {
        "id": "ZhisQb1e5bY5"
      },
      "execution_count": 101,
      "outputs": []
    },
    {
      "cell_type": "code",
      "source": [
        "Survey_data['AI_pos_development_4art'].value_counts()"
      ],
      "metadata": {
        "colab": {
          "base_uri": "https://localhost:8080/"
        },
        "id": "r1Dir9mu-UQg",
        "outputId": "ba3b5b1d-e61b-4aa1-cb81-d271db24d6fb"
      },
      "execution_count": 102,
      "outputs": [
        {
          "output_type": "execute_result",
          "data": {
            "text/plain": [
              "AI_pos_development_4art\n",
              "1.0    129\n",
              "2.0    124\n",
              "3.0    101\n",
              "Name: count, dtype: int64"
            ]
          },
          "metadata": {},
          "execution_count": 102
        }
      ]
    },
    {
      "cell_type": "code",
      "source": [
        "#we want to make the likert answers into a numerical values\n",
        "# AI_threat_2art_workers\n",
        "\n",
        "def AI_threat_2art_workers_Likert(x):\n",
        "  if x['AI_threat_2art_workers'] == 'Strongly agree':\n",
        "    return 3\n",
        "  elif x['AI_threat_2art_workers'] == 'Agree ':\n",
        "    return 3\n",
        "  elif x['AI_threat_2art_workers'] == 'Neutral':\n",
        "    return 2\n",
        "  elif x['AI_threat_2art_workers'] =='Disagree' :\n",
        "    return 1\n",
        "  elif x['AI_threat_2art_workers'] == 'Strongly disagree':\n",
        "    return 1\n",
        "Survey_data['AI_threat_2art_workers'] = Survey_data.apply(AI_threat_2art_workers_Likert, axis=1)\n",
        "\n",
        "# Required_disclosure\n",
        "\n",
        "def Required_disclosure_Likert(x):\n",
        "  if x['Required_disclosure'] == 'Strongly agree':\n",
        "    return 3\n",
        "  elif x['Required_disclosure'] == 'Agree ':\n",
        "    return 3\n",
        "  elif x['Required_disclosure'] == 'Neutral':\n",
        "    return 2\n",
        "  elif x['Required_disclosure'] =='Disagree' :\n",
        "    return 1\n",
        "  elif x['Required_disclosure'] == 'Strongly disagree':\n",
        "    return 1\n",
        "Survey_data['Required_disclosure'] = Survey_data.apply(Required_disclosure_Likert, axis=1)\n",
        "\n",
        "# Styleof_ownedby_AI_company\n",
        "\n",
        "def Styleof_ownedby_AI_company_Likert(x):\n",
        "  if x['Styleof_ownedby_AI_company'] == 'Strongly agree':\n",
        "    return 3\n",
        "  elif x['Styleof_ownedby_AI_company'] == 'Agree ':\n",
        "    return 3\n",
        "  elif x['Styleof_ownedby_AI_company'] == 'Neutral':\n",
        "    return 2\n",
        "  elif x['Styleof_ownedby_AI_company'] =='Disagree' :\n",
        "    return 1\n",
        "  elif x['Styleof_ownedby_AI_company'] == 'Strongly disagree':\n",
        "    return 1\n",
        "Survey_data['Styleof_ownedby_AI_company'] = Survey_data.apply(Styleof_ownedby_AI_company_Likert, axis=1)\n",
        "\n",
        "# Styleof_ownedby_AI_user\n",
        "\n",
        "def Styleof_ownedby_AI_user_Likert(x):\n",
        "  if x['Styleof_ownedby_AI_user'] == 'Strongly agree':\n",
        "    return 3\n",
        "  elif x['Styleof_ownedby_AI_user'] == 'Agree ':\n",
        "    return 3\n",
        "  elif x['Styleof_ownedby_AI_user'] == 'Neutral':\n",
        "    return 2\n",
        "  elif x['Styleof_ownedby_AI_user'] =='Disagree' :\n",
        "    return 1\n",
        "  elif x['Styleof_ownedby_AI_user'] == 'Strongly disagree':\n",
        "    return 1\n",
        "Survey_data['Styleof_ownedby_AI_user'] = Survey_data.apply(Styleof_ownedby_AI_user_Likert, axis=1)\n",
        "\n",
        "# Styleof_ownedby_OG_artist\n",
        "\n",
        "def Styleof_ownedby_OG_artist_Likert(x):\n",
        "  if x['Styleof_ownedby_OG_artist'] == 'Strongly agree':\n",
        "    return 3\n",
        "  elif x['Styleof_ownedby_OG_artist'] == 'Agree ':\n",
        "    return 3\n",
        "  elif x['Styleof_ownedby_OG_artist'] == 'Neutral':\n",
        "    return 2\n",
        "  elif x['Styleof_ownedby_OG_artist'] =='Disagree' :\n",
        "    return 1\n",
        "  elif x['Styleof_ownedby_OG_artist'] == 'Strongly disagree':\n",
        "    return 1\n",
        "Survey_data['Styleof_ownedby_OG_artist'] = Survey_data.apply(Styleof_ownedby_OG_artist_Likert, axis=1)\n"
      ],
      "metadata": {
        "id": "p1SpSm9a0yrq"
      },
      "execution_count": 103,
      "outputs": []
    },
    {
      "cell_type": "code",
      "source": [
        "Survey_data['AI_threat_2art_workers'].value_counts()"
      ],
      "metadata": {
        "colab": {
          "base_uri": "https://localhost:8080/"
        },
        "id": "JcVCtEzeM97K",
        "outputId": "fb415199-c138-4de3-acea-9e428520a43d"
      },
      "execution_count": 104,
      "outputs": [
        {
          "output_type": "execute_result",
          "data": {
            "text/plain": [
              "AI_threat_2art_workers\n",
              "3.0    129\n",
              "1.0     94\n",
              "2.0     80\n",
              "Name: count, dtype: int64"
            ]
          },
          "metadata": {},
          "execution_count": 104
        }
      ]
    },
    {
      "cell_type": "code",
      "source": [
        "Survey_data['Required_disclosure'].value_counts()"
      ],
      "metadata": {
        "colab": {
          "base_uri": "https://localhost:8080/"
        },
        "id": "KtdavlqMMpkO",
        "outputId": "aec75c57-1561-4cb9-87c3-ae039ef90c20"
      },
      "execution_count": 105,
      "outputs": [
        {
          "output_type": "execute_result",
          "data": {
            "text/plain": [
              "Required_disclosure\n",
              "3.0    221\n",
              "2.0     55\n",
              "1.0     37\n",
              "Name: count, dtype: int64"
            ]
          },
          "metadata": {},
          "execution_count": 105
        }
      ]
    },
    {
      "cell_type": "code",
      "source": [
        "Survey_data['Styleof_ownedby_AI_company'].value_counts()"
      ],
      "metadata": {
        "colab": {
          "base_uri": "https://localhost:8080/"
        },
        "id": "MtX6faYdMusK",
        "outputId": "4c54451f-6469-43c6-d253-141800feab97"
      },
      "execution_count": 106,
      "outputs": [
        {
          "output_type": "execute_result",
          "data": {
            "text/plain": [
              "Styleof_ownedby_AI_company\n",
              "1.0    262\n",
              "2.0     86\n",
              "3.0     53\n",
              "Name: count, dtype: int64"
            ]
          },
          "metadata": {},
          "execution_count": 106
        }
      ]
    },
    {
      "cell_type": "code",
      "source": [
        "Survey_data['Styleof_ownedby_AI_user'].value_counts()"
      ],
      "metadata": {
        "colab": {
          "base_uri": "https://localhost:8080/"
        },
        "id": "KWjx7bCsMxc_",
        "outputId": "b7cc1711-89da-49f5-d552-243b389557b6"
      },
      "execution_count": 107,
      "outputs": [
        {
          "output_type": "execute_result",
          "data": {
            "text/plain": [
              "Styleof_ownedby_AI_user\n",
              "1.0    192\n",
              "2.0     98\n",
              "3.0     84\n",
              "Name: count, dtype: int64"
            ]
          },
          "metadata": {},
          "execution_count": 107
        }
      ]
    },
    {
      "cell_type": "code",
      "source": [
        "Survey_data['Styleof_ownedby_OG_artist'].value_counts()"
      ],
      "metadata": {
        "colab": {
          "base_uri": "https://localhost:8080/"
        },
        "id": "UeKH-s1OM01G",
        "outputId": "a1d457bb-a6ca-4f38-d4a2-754f10d39d81"
      },
      "execution_count": 108,
      "outputs": [
        {
          "output_type": "execute_result",
          "data": {
            "text/plain": [
              "Styleof_ownedby_OG_artist\n",
              "1.0    164\n",
              "2.0    115\n",
              "3.0     89\n",
              "Name: count, dtype: int64"
            ]
          },
          "metadata": {},
          "execution_count": 108
        }
      ]
    },
    {
      "cell_type": "markdown",
      "source": [
        "Fair_compensation"
      ],
      "metadata": {
        "id": "iAo1ekpd6sKC"
      }
    },
    {
      "cell_type": "code",
      "source": [
        "#lets turn these all into strings\n",
        "Survey_data['Fair_compensation'] = Survey_data['Fair_compensation'].astype(str)\n"
      ],
      "metadata": {
        "id": "1IjR4hqxF-5F"
      },
      "execution_count": 109,
      "outputs": []
    },
    {
      "cell_type": "code",
      "source": [
        "#We want to separate all of these into their own category this function will do this\n",
        "\n",
        "def Fair_compensation_numeric(x):\n",
        "  if 'I would donate the use of my artwork to train AI art models (no compensation)' in x['Fair_compensation']:\n",
        "    return 'donate_to_trainer'\n",
        "  elif \"I don’t need to profit, but I don't want for-profit-companies to profit from my art\" in x['Fair_compensation']:\n",
        "    return 'nocomp_but_no_forprofit'\n",
        "  elif  \"I don’t need to profit, but I don’t want anyone else to profit from my art\" in x['Fair_compensation']:\n",
        "    return 'nocompt_noprofit4anyone'\n",
        "  elif  \"A portion of any profit made From the model creators\" in x['Fair_compensation']:\n",
        "    return 'portion_from_model_creators'\n",
        "  elif \"A portion of any profit from people who profit from derivative works made using the model\" in x['Fair_compensation']:\n",
        "    return 'portion_from_derivatives'\n",
        "  elif \"A flat fee\" in x['Fair_compensation']:\n",
        "    return 'flat_fee'\n",
        "  elif \"A flat fee from the model creators, for the use of my artwork as training data\" in x['Fair_compensation']:\n",
        "    return 'flat_fee_from_modelcreators'\n",
        "  elif \"A flat fee For each derivative work sold (by anyone using the model)\" in x['Fair_compensation']:\n",
        "    return 'flat_fee_from_derivatices_sold'\n",
        "  elif \"Companies and individuals should be subject to a new tax by the government if they profit from AI art trained on other people’s work\" in x['Fair_compensation']:\n",
        "    return 'tax'\n",
        "  elif \"I would not feel comfortable with any of the options listed above\" in x['Fair_compensation']:\n",
        "    return 'not_comfortable_with_any_listed_options'\n",
        "  elif \"A portion of any profit made\" in x['Fair_compensation']:\n",
        "    return 'portion_of_any_profit_made'\n",
        "  elif \"I don't need to profit\" in x['Fair_compensation']:\n",
        "    return 'I_dont_need_profit'\n",
        "  elif \"Other, please specify\" in x['Fair_compensation']:\n",
        "    return 'Other'\n",
        "Survey_data['compensation'] = Survey_data.apply(Fair_compensation_numeric, axis=1)\n",
        "\n",
        "\n",
        "#let's drop the old column\n",
        "Survey_data = Survey_data.drop(['Fair_compensation'], axis=1)\n"
      ],
      "metadata": {
        "id": "ADNpQ_4f6r0K"
      },
      "execution_count": 110,
      "outputs": []
    },
    {
      "cell_type": "code",
      "source": [
        "#lets make sure that worked\n",
        "Survey_data.compensation.value_counts()\n",
        "\n",
        "#nice"
      ],
      "metadata": {
        "colab": {
          "base_uri": "https://localhost:8080/"
        },
        "id": "QUrYpBIwisZK",
        "outputId": "7a521f4d-cfb6-4b64-9a1c-1ad1d765738c"
      },
      "execution_count": 111,
      "outputs": [
        {
          "output_type": "execute_result",
          "data": {
            "text/plain": [
              "compensation\n",
              "nocomp_but_no_forprofit                    106\n",
              "donate_to_trainer                           82\n",
              "flat_fee                                    55\n",
              "portion_from_model_creators                 51\n",
              "not_comfortable_with_any_listed_options     42\n",
              "portion_from_derivatives                    32\n",
              "portion_of_any_profit_made                  32\n",
              "nocompt_noprofit4anyone                     27\n",
              "I_dont_need_profit                          22\n",
              "Other                                       10\n",
              "tax                                          5\n",
              "Name: count, dtype: int64"
            ]
          },
          "metadata": {},
          "execution_count": 111
        }
      ]
    },
    {
      "cell_type": "code",
      "source": [
        "Survey_data['compensation'].unique()"
      ],
      "metadata": {
        "colab": {
          "base_uri": "https://localhost:8080/"
        },
        "id": "BlEyYBkI9ue1",
        "outputId": "d2421d0f-993a-43e1-e17e-a537c602b9f8"
      },
      "execution_count": 112,
      "outputs": [
        {
          "output_type": "execute_result",
          "data": {
            "text/plain": [
              "array(['not_comfortable_with_any_listed_options',\n",
              "       'nocomp_but_no_forprofit', 'flat_fee', 'donate_to_trainer',\n",
              "       'nocompt_noprofit4anyone', 'Other', 'portion_from_derivatives',\n",
              "       'portion_of_any_profit_made', 'portion_from_model_creators',\n",
              "       'I_dont_need_profit', 'tax', None], dtype=object)"
            ]
          },
          "metadata": {},
          "execution_count": 112
        }
      ]
    },
    {
      "cell_type": "code",
      "source": [
        "#we now want to one hot encode the compensation types turning the individual types into binary variables\n",
        "Survey_data = pd.get_dummies(Survey_data, columns=['compensation'])"
      ],
      "metadata": {
        "id": "BN5P04FD9ARp"
      },
      "execution_count": 113,
      "outputs": []
    },
    {
      "cell_type": "code",
      "source": [
        "#lets check that it worked\n",
        "Survey_data.columns\n"
      ],
      "metadata": {
        "colab": {
          "base_uri": "https://localhost:8080/"
        },
        "id": "O-cOlVPvEBhh",
        "outputId": "d1c8f9d4-938b-414a-a383-29e205a20568"
      },
      "execution_count": 114,
      "outputs": [
        {
          "output_type": "execute_result",
          "data": {
            "text/plain": [
              "Index(['StartDate', 'EndDate', 'ResponseId', 'Artist', 'Art_practice',\n",
              "       'Purchase_art', 'Professional_artist', 'AI_models_familiarity',\n",
              "       'Used_AI_art_models', 'Styleof_ownedby_AI_user',\n",
              "       'Styleof_ownedby_OG_artist', 'Styleof_ownedby_AI_company',\n",
              "       'Fair_compensation_tax_text', 'Required_disclosure',\n",
              "       'AI_pos_development_4art', 'AI_threat_2art_workers', 'Age', 'POC',\n",
              "       'Gender_identity', 'compensation_I_dont_need_profit',\n",
              "       'compensation_Other', 'compensation_donate_to_trainer',\n",
              "       'compensation_flat_fee', 'compensation_nocomp_but_no_forprofit',\n",
              "       'compensation_nocompt_noprofit4anyone',\n",
              "       'compensation_not_comfortable_with_any_listed_options',\n",
              "       'compensation_portion_from_derivatives',\n",
              "       'compensation_portion_from_model_creators',\n",
              "       'compensation_portion_of_any_profit_made', 'compensation_tax'],\n",
              "      dtype='object')"
            ]
          },
          "metadata": {},
          "execution_count": 114
        }
      ]
    },
    {
      "cell_type": "markdown",
      "source": [
        "Save everything"
      ],
      "metadata": {
        "id": "QFtouPBdNtCf"
      }
    },
    {
      "cell_type": "code",
      "source": [
        "#ok that's all the cleaning we want to do, let's save the csv files\n",
        "Survey_data.to_csv('ai_art_surveydata_cleaned.csv')\n"
      ],
      "metadata": {
        "id": "0ANT_fUKH_C3"
      },
      "execution_count": 115,
      "outputs": []
    }
  ]
}