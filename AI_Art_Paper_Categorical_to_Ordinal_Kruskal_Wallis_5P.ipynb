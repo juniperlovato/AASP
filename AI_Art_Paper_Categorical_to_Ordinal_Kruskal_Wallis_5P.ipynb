{
  "cells": [
    {
      "cell_type": "markdown",
      "metadata": {
        "id": "view-in-github",
        "colab_type": "text"
      },
      "source": [
        "<a href=\"https://colab.research.google.com/github/juniperlovato/AASP/blob/main/AI_Art_Paper_Categorical_to_Ordinal_Kruskal_Wallis_5P.ipynb\" target=\"_parent\"><img src=\"https://colab.research.google.com/assets/colab-badge.svg\" alt=\"Open In Colab\"/></a>"
      ]
    },
    {
      "cell_type": "markdown",
      "source": [
        "#imports"
      ],
      "metadata": {
        "id": "mVmNIl4sfYC0"
      }
    },
    {
      "cell_type": "code",
      "source": [
        "!pip install pingouin\n"
      ],
      "metadata": {
        "colab": {
          "base_uri": "https://localhost:8080/"
        },
        "id": "uKRaGsyegsfT",
        "outputId": "fb18bc08-dfb3-4977-8600-b0812beda4ab"
      },
      "execution_count": 57,
      "outputs": [
        {
          "output_type": "stream",
          "name": "stdout",
          "text": [
            "Collecting pingouin\n",
            "  Downloading pingouin-0.5.4-py2.py3-none-any.whl.metadata (1.1 kB)\n",
            "Requirement already satisfied: numpy in /usr/local/lib/python3.10/dist-packages (from pingouin) (1.25.2)\n",
            "Requirement already satisfied: scipy in /usr/local/lib/python3.10/dist-packages (from pingouin) (1.11.4)\n",
            "Requirement already satisfied: pandas>=1.5 in /usr/local/lib/python3.10/dist-packages (from pingouin) (2.0.3)\n",
            "Requirement already satisfied: matplotlib in /usr/local/lib/python3.10/dist-packages (from pingouin) (3.7.1)\n",
            "Requirement already satisfied: seaborn in /usr/local/lib/python3.10/dist-packages (from pingouin) (0.13.1)\n",
            "Requirement already satisfied: statsmodels in /usr/local/lib/python3.10/dist-packages (from pingouin) (0.14.2)\n",
            "Requirement already satisfied: scikit-learn in /usr/local/lib/python3.10/dist-packages (from pingouin) (1.2.2)\n",
            "Collecting pandas-flavor (from pingouin)\n",
            "  Downloading pandas_flavor-0.6.0-py3-none-any.whl.metadata (6.3 kB)\n",
            "Requirement already satisfied: tabulate in /usr/local/lib/python3.10/dist-packages (from pingouin) (0.9.0)\n",
            "Requirement already satisfied: python-dateutil>=2.8.2 in /usr/local/lib/python3.10/dist-packages (from pandas>=1.5->pingouin) (2.8.2)\n",
            "Requirement already satisfied: pytz>=2020.1 in /usr/local/lib/python3.10/dist-packages (from pandas>=1.5->pingouin) (2023.4)\n",
            "Requirement already satisfied: tzdata>=2022.1 in /usr/local/lib/python3.10/dist-packages (from pandas>=1.5->pingouin) (2024.1)\n",
            "Requirement already satisfied: contourpy>=1.0.1 in /usr/local/lib/python3.10/dist-packages (from matplotlib->pingouin) (1.2.1)\n",
            "Requirement already satisfied: cycler>=0.10 in /usr/local/lib/python3.10/dist-packages (from matplotlib->pingouin) (0.12.1)\n",
            "Requirement already satisfied: fonttools>=4.22.0 in /usr/local/lib/python3.10/dist-packages (from matplotlib->pingouin) (4.53.1)\n",
            "Requirement already satisfied: kiwisolver>=1.0.1 in /usr/local/lib/python3.10/dist-packages (from matplotlib->pingouin) (1.4.5)\n",
            "Requirement already satisfied: packaging>=20.0 in /usr/local/lib/python3.10/dist-packages (from matplotlib->pingouin) (24.1)\n",
            "Requirement already satisfied: pillow>=6.2.0 in /usr/local/lib/python3.10/dist-packages (from matplotlib->pingouin) (9.4.0)\n",
            "Requirement already satisfied: pyparsing>=2.3.1 in /usr/local/lib/python3.10/dist-packages (from matplotlib->pingouin) (3.1.2)\n",
            "Requirement already satisfied: xarray in /usr/local/lib/python3.10/dist-packages (from pandas-flavor->pingouin) (2023.7.0)\n",
            "Requirement already satisfied: joblib>=1.1.1 in /usr/local/lib/python3.10/dist-packages (from scikit-learn->pingouin) (1.4.2)\n",
            "Requirement already satisfied: threadpoolctl>=2.0.0 in /usr/local/lib/python3.10/dist-packages (from scikit-learn->pingouin) (3.5.0)\n",
            "Requirement already satisfied: patsy>=0.5.6 in /usr/local/lib/python3.10/dist-packages (from statsmodels->pingouin) (0.5.6)\n",
            "Requirement already satisfied: six in /usr/local/lib/python3.10/dist-packages (from patsy>=0.5.6->statsmodels->pingouin) (1.16.0)\n",
            "Downloading pingouin-0.5.4-py2.py3-none-any.whl (198 kB)\n",
            "\u001b[2K   \u001b[90m━━━━━━━━━━━━━━━━━━━━━━━━━━━━━━━━━━━━━━━━\u001b[0m \u001b[32m198.9/198.9 kB\u001b[0m \u001b[31m1.5 MB/s\u001b[0m eta \u001b[36m0:00:00\u001b[0m\n",
            "\u001b[?25hDownloading pandas_flavor-0.6.0-py3-none-any.whl (7.2 kB)\n",
            "Installing collected packages: pandas-flavor, pingouin\n",
            "Successfully installed pandas-flavor-0.6.0 pingouin-0.5.4\n"
          ]
        }
      ]
    },
    {
      "cell_type": "code",
      "execution_count": 58,
      "metadata": {
        "id": "L16dttcHdgfp"
      },
      "outputs": [],
      "source": [
        "import numpy as np\n",
        "import pandas as pd\n",
        "from google.colab import files\n",
        "import requests\n",
        "import io\n",
        "import seaborn as sns\n",
        "import matplotlib as plt\n",
        "import matplotlib.pyplot as plt\n",
        "from scipy import stats\n",
        "import statsmodels.api as sm\n",
        "from scipy.stats import chi2_contingency\n",
        "from statsmodels.graphics.mosaicplot import mosaic\n",
        "from itertools import product\n",
        "import seaborn as sns\n",
        "from pingouin import kruskal, read_dataset"
      ]
    },
    {
      "cell_type": "markdown",
      "source": [
        "#data"
      ],
      "metadata": {
        "id": "39fzUZeNfa-8"
      }
    },
    {
      "cell_type": "code",
      "execution_count": 21,
      "metadata": {
        "id": "iL4RG0t8dkaO"
      },
      "outputs": [],
      "source": [
        "#load data thats cleand ai_art_surveydata_cleaned.csv\n",
        "Survey =  pd.read_csv('ai_art_surveydata_cleaned.csv')"
      ]
    },
    {
      "cell_type": "code",
      "execution_count": 22,
      "metadata": {
        "id": "q11Po-YDdrnN"
      },
      "outputs": [],
      "source": [
        "Ordinal_Categorical_variables = Survey[['Artist', 'Gender_identity', 'Art_practice', 'AI_models_familiarity', 'Age', 'compensation',\n",
        "                                        'Styleof_ownedby_AI_user', 'Styleof_ownedby_OG_artist', 'Styleof_ownedby_AI_company', 'Required_disclosure',\n",
        "                                        'AI_pos_development_4art', 'AI_threat_2art_workers']]"
      ]
    },
    {
      "cell_type": "markdown",
      "source": [
        "#turning string values to numberical ones"
      ],
      "metadata": {
        "id": "juauz0EIfzrh"
      }
    },
    {
      "cell_type": "code",
      "execution_count": 23,
      "metadata": {
        "colab": {
          "base_uri": "https://localhost:8080/"
        },
        "id": "Xzdyyh2yftHd",
        "outputId": "d3d3e566-7d75-47d1-d75a-1840133e2ad3"
      },
      "outputs": [
        {
          "output_type": "stream",
          "name": "stdout",
          "text": [
            "Artist\n",
            "Gender_identity\n",
            "Art_practice\n",
            "AI_models_familiarity\n",
            "Age\n",
            "compensation\n",
            "Styleof_ownedby_AI_user\n",
            "Styleof_ownedby_OG_artist\n",
            "Styleof_ownedby_AI_company\n",
            "Required_disclosure\n",
            "AI_pos_development_4art\n",
            "AI_threat_2art_workers\n"
          ]
        }
      ],
      "source": [
        "#let'sc print out all the column names\n",
        "for col_name in Ordinal_Categorical_variables.columns:\n",
        "    print(col_name)"
      ]
    },
    {
      "cell_type": "code",
      "execution_count": 24,
      "metadata": {
        "colab": {
          "base_uri": "https://localhost:8080/"
        },
        "id": "CoGtAiLZfwNo",
        "outputId": "6d401d16-23dd-452f-e8af-6e68ccf66f25"
      },
      "outputs": [
        {
          "output_type": "execute_result",
          "data": {
            "text/plain": [
              "Artist\n",
              "Yes             310\n",
              "Somewhat        176\n",
              "No                7\n",
              "I’m not sure      2\n",
              "Name: count, dtype: int64"
            ]
          },
          "metadata": {},
          "execution_count": 24
        }
      ],
      "source": [
        "Ordinal_Categorical_variables['Artist'].value_counts()"
      ]
    },
    {
      "cell_type": "code",
      "execution_count": 25,
      "metadata": {
        "id": "_fxhM_VWf0E-"
      },
      "outputs": [],
      "source": [
        "# getting rid of answers I’m not sure\n",
        "Ordinal_Categorical_variables = Ordinal_Categorical_variables[Ordinal_Categorical_variables[\"Artist\"].str.contains(\"I’m not sure\") == False]"
      ]
    },
    {
      "cell_type": "code",
      "execution_count": 26,
      "metadata": {
        "colab": {
          "base_uri": "https://localhost:8080/"
        },
        "id": "50leXPToD42F",
        "outputId": "501e19bb-d6d3-4c99-a4c2-16cc92c50514"
      },
      "outputs": [
        {
          "output_type": "execute_result",
          "data": {
            "text/plain": [
              "array(['No', 'Yes', 'Somewhat'], dtype=object)"
            ]
          },
          "metadata": {},
          "execution_count": 26
        }
      ],
      "source": [
        "Ordinal_Categorical_variables['Artist'].unique()"
      ]
    },
    {
      "cell_type": "code",
      "execution_count": 27,
      "metadata": {
        "colab": {
          "base_uri": "https://localhost:8080/"
        },
        "id": "9Tg_I9k6XwS1",
        "outputId": "ab830802-a06b-44e0-f19f-d04e56c4f52b"
      },
      "outputs": [
        {
          "output_type": "execute_result",
          "data": {
            "text/plain": [
              "Artist\n",
              "1    486\n",
              "0      7\n",
              "Name: count, dtype: int64"
            ]
          },
          "metadata": {},
          "execution_count": 27
        }
      ],
      "source": [
        "Ordinal_Categorical_variables['Artist'] = np.where(Ordinal_Categorical_variables['Artist'] == 'Yes', 1, Ordinal_Categorical_variables['Artist'])\n",
        "Ordinal_Categorical_variables['Artist'] = np.where(Ordinal_Categorical_variables['Artist'] == 'Somewhat', 1, Ordinal_Categorical_variables['Artist'])\n",
        "Ordinal_Categorical_variables['Artist'] = np.where(Ordinal_Categorical_variables['Artist'] == 'No', 0, Ordinal_Categorical_variables['Artist'])\n",
        "Ordinal_Categorical_variables['Artist'].value_counts()"
      ]
    },
    {
      "cell_type": "code",
      "execution_count": 28,
      "metadata": {
        "colab": {
          "base_uri": "https://localhost:8080/"
        },
        "id": "VzY6qlG_f4ev",
        "outputId": "18c8d669-2f7d-4d37-bf73-39771fd75d17"
      },
      "outputs": [
        {
          "output_type": "execute_result",
          "data": {
            "text/plain": [
              "Gender_identity\n",
              "Male           273\n",
              "Female         161\n",
              "Non-binary      23\n",
              "Name: count, dtype: int64"
            ]
          },
          "metadata": {},
          "execution_count": 28
        }
      ],
      "source": [
        "Ordinal_Categorical_variables['Gender_identity'].value_counts()"
      ]
    },
    {
      "cell_type": "code",
      "execution_count": 29,
      "metadata": {
        "colab": {
          "base_uri": "https://localhost:8080/"
        },
        "id": "y7J6yRHUYI6X",
        "outputId": "03ed5ddd-5bcf-40b4-a716-4bb1e9699b25"
      },
      "outputs": [
        {
          "output_type": "execute_result",
          "data": {
            "text/plain": [
              "0      2.0\n",
              "1      2.0\n",
              "2      2.0\n",
              "3      2.0\n",
              "4      2.0\n",
              "      ... \n",
              "508    1.0\n",
              "509    1.0\n",
              "510    2.0\n",
              "511    2.0\n",
              "512    1.0\n",
              "Name: Gender_identity, Length: 493, dtype: object"
            ]
          },
          "metadata": {},
          "execution_count": 29
        }
      ],
      "source": [
        "Ordinal_Categorical_variables['Gender_identity'] = np.where(Ordinal_Categorical_variables['Gender_identity'] == 'Male', 1.0, Ordinal_Categorical_variables['Gender_identity'])\n",
        "Ordinal_Categorical_variables['Gender_identity'] = np.where(Ordinal_Categorical_variables['Gender_identity'] == 'Female', 2.0, Ordinal_Categorical_variables['Gender_identity'])\n",
        "Ordinal_Categorical_variables['Gender_identity'] = np.where(Ordinal_Categorical_variables['Gender_identity'] == 'Non-binary ', 3.0, Ordinal_Categorical_variables['Gender_identity'])\n",
        "Ordinal_Categorical_variables['Gender_identity']"
      ]
    },
    {
      "cell_type": "code",
      "execution_count": 30,
      "metadata": {
        "colab": {
          "base_uri": "https://localhost:8080/"
        },
        "id": "jDL7vvagf6FV",
        "outputId": "eb499880-51ff-4f9b-8547-09e044b308c0"
      },
      "outputs": [
        {
          "output_type": "execute_result",
          "data": {
            "text/plain": [
              "Art_practice\n",
              "paint           167\n",
              "Photography     115\n",
              "writing          52\n",
              "designer         42\n",
              "craft            20\n",
              "music            18\n",
              "digital          14\n",
              "not artist       13\n",
              "other            11\n",
              "tattoo            9\n",
              "illustration      9\n",
              "drawing           8\n",
              "sculpture         7\n",
              "maker             5\n",
              "Name: count, dtype: int64"
            ]
          },
          "metadata": {},
          "execution_count": 30
        }
      ],
      "source": [
        "Ordinal_Categorical_variables['Art_practice'].value_counts()"
      ]
    },
    {
      "cell_type": "code",
      "execution_count": 31,
      "metadata": {
        "colab": {
          "base_uri": "https://localhost:8080/"
        },
        "id": "5mXEfvXxYXPJ",
        "outputId": "8584ab80-cdd0-43f8-a993-8bbfebc0dd98"
      },
      "outputs": [
        {
          "output_type": "execute_result",
          "data": {
            "text/plain": [
              "Art_practice\n",
              "1     167\n",
              "2     115\n",
              "3      52\n",
              "4      42\n",
              "5      20\n",
              "6      18\n",
              "7      14\n",
              "8      13\n",
              "9      11\n",
              "10      9\n",
              "11      9\n",
              "12      8\n",
              "13      7\n",
              "14      5\n",
              "Name: count, dtype: int64"
            ]
          },
          "metadata": {},
          "execution_count": 31
        }
      ],
      "source": [
        "Ordinal_Categorical_variables['Art_practice'] = np.where(Ordinal_Categorical_variables['Art_practice'] == 'paint', 1, Ordinal_Categorical_variables['Art_practice'])\n",
        "Ordinal_Categorical_variables['Art_practice'] = np.where(Ordinal_Categorical_variables['Art_practice'] == 'Photography', 2, Ordinal_Categorical_variables['Art_practice'])\n",
        "Ordinal_Categorical_variables['Art_practice'] = np.where(Ordinal_Categorical_variables['Art_practice'] == 'writing', 3, Ordinal_Categorical_variables['Art_practice'])\n",
        "Ordinal_Categorical_variables['Art_practice'] = np.where(Ordinal_Categorical_variables['Art_practice'] == 'designer', 4, Ordinal_Categorical_variables['Art_practice'])\n",
        "Ordinal_Categorical_variables['Art_practice'] = np.where(Ordinal_Categorical_variables['Art_practice'] == 'craft', 5, Ordinal_Categorical_variables['Art_practice'])\n",
        "Ordinal_Categorical_variables['Art_practice'] = np.where(Ordinal_Categorical_variables['Art_practice'] == 'music', 6, Ordinal_Categorical_variables['Art_practice'])\n",
        "Ordinal_Categorical_variables['Art_practice'] = np.where(Ordinal_Categorical_variables['Art_practice'] == 'digital', 7, Ordinal_Categorical_variables['Art_practice'])\n",
        "Ordinal_Categorical_variables['Art_practice'] = np.where(Ordinal_Categorical_variables['Art_practice'] == 'not artist', 8, Ordinal_Categorical_variables['Art_practice'])\n",
        "Ordinal_Categorical_variables['Art_practice'] = np.where(Ordinal_Categorical_variables['Art_practice'] == 'other', 9, Ordinal_Categorical_variables['Art_practice'])\n",
        "Ordinal_Categorical_variables['Art_practice'] = np.where(Ordinal_Categorical_variables['Art_practice'] == 'tattoo', 10, Ordinal_Categorical_variables['Art_practice'])\n",
        "Ordinal_Categorical_variables['Art_practice'] = np.where(Ordinal_Categorical_variables['Art_practice'] == 'illustration', 11, Ordinal_Categorical_variables['Art_practice'])\n",
        "Ordinal_Categorical_variables['Art_practice'] = np.where(Ordinal_Categorical_variables['Art_practice'] == 'drawing', 12, Ordinal_Categorical_variables['Art_practice'])\n",
        "Ordinal_Categorical_variables['Art_practice'] = np.where(Ordinal_Categorical_variables['Art_practice'] == 'sculpture', 13, Ordinal_Categorical_variables['Art_practice'])\n",
        "Ordinal_Categorical_variables['Art_practice'] = np.where(Ordinal_Categorical_variables['Art_practice'] == 'maker', 14, Ordinal_Categorical_variables['Art_practice'])\n",
        "Ordinal_Categorical_variables['Art_practice'].value_counts()"
      ]
    },
    {
      "cell_type": "code",
      "execution_count": 32,
      "metadata": {
        "colab": {
          "base_uri": "https://localhost:8080/"
        },
        "id": "SflNjCfCf8Sk",
        "outputId": "abf27f81-fe3b-45e3-f59e-40f8475ea6f2"
      },
      "outputs": [
        {
          "output_type": "execute_result",
          "data": {
            "text/plain": [
              "AI_models_familiarity\n",
              "AI art generally        377\n",
              "none                     44\n",
              "AI_Deeplearning_GANS     42\n",
              "text to image            12\n",
              "LLMS                      5\n",
              "Name: count, dtype: int64"
            ]
          },
          "metadata": {},
          "execution_count": 32
        }
      ],
      "source": [
        "Ordinal_Categorical_variables['AI_models_familiarity'].value_counts()"
      ]
    },
    {
      "cell_type": "code",
      "execution_count": 33,
      "metadata": {
        "colab": {
          "base_uri": "https://localhost:8080/"
        },
        "id": "KR7JiFlNZF0v",
        "outputId": "e4bf4b18-e0bf-41e8-8de4-6e5cb6e14292"
      },
      "outputs": [
        {
          "output_type": "execute_result",
          "data": {
            "text/plain": [
              "AI_models_familiarity\n",
              "1    377\n",
              "2     44\n",
              "3     42\n",
              "4     12\n",
              "5      5\n",
              "Name: count, dtype: int64"
            ]
          },
          "metadata": {},
          "execution_count": 33
        }
      ],
      "source": [
        "Ordinal_Categorical_variables['AI_models_familiarity'] = np.where(Ordinal_Categorical_variables['AI_models_familiarity'] == 'AI art generally', 1, Ordinal_Categorical_variables['AI_models_familiarity'])\n",
        "Ordinal_Categorical_variables['AI_models_familiarity'] = np.where(Ordinal_Categorical_variables['AI_models_familiarity'] == 'none', 2, Ordinal_Categorical_variables['AI_models_familiarity'])\n",
        "Ordinal_Categorical_variables['AI_models_familiarity'] = np.where(Ordinal_Categorical_variables['AI_models_familiarity'] == 'AI_Deeplearning_GANS', 3, Ordinal_Categorical_variables['AI_models_familiarity'])\n",
        "Ordinal_Categorical_variables['AI_models_familiarity'] = np.where(Ordinal_Categorical_variables['AI_models_familiarity'] == 'text to image', 4, Ordinal_Categorical_variables['AI_models_familiarity'])\n",
        "Ordinal_Categorical_variables['AI_models_familiarity'] = np.where(Ordinal_Categorical_variables['AI_models_familiarity'] == 'LLMS', 5, Ordinal_Categorical_variables['AI_models_familiarity'])\n",
        "Ordinal_Categorical_variables['AI_models_familiarity'].value_counts()"
      ]
    },
    {
      "cell_type": "code",
      "execution_count": 34,
      "metadata": {
        "colab": {
          "base_uri": "https://localhost:8080/"
        },
        "id": "Gul0fBVmf9wP",
        "outputId": "96ba76f0-4123-43d4-9dc9-17f17daf562f"
      },
      "outputs": [
        {
          "output_type": "execute_result",
          "data": {
            "text/plain": [
              "Age\n",
              "30-49          231\n",
              "18 - 29        104\n",
              "50-64           79\n",
              "65 or older     43\n",
              "Name: count, dtype: int64"
            ]
          },
          "metadata": {},
          "execution_count": 34
        }
      ],
      "source": [
        "Ordinal_Categorical_variables['Age'].value_counts()"
      ]
    },
    {
      "cell_type": "code",
      "execution_count": 35,
      "metadata": {
        "colab": {
          "base_uri": "https://localhost:8080/"
        },
        "id": "IOWEGKCsZbLw",
        "outputId": "0f410e57-e3ad-4b6b-f959-65c52bdd9b2d"
      },
      "outputs": [
        {
          "output_type": "execute_result",
          "data": {
            "text/plain": [
              "Age\n",
              "1    231\n",
              "2    104\n",
              "3     79\n",
              "4     43\n",
              "Name: count, dtype: int64"
            ]
          },
          "metadata": {},
          "execution_count": 35
        }
      ],
      "source": [
        "Ordinal_Categorical_variables['Age'] = np.where(Ordinal_Categorical_variables['Age'] == '30-49', 1, Ordinal_Categorical_variables['Age'])\n",
        "Ordinal_Categorical_variables['Age'] = np.where(Ordinal_Categorical_variables['Age'] == '18 - 29', 2, Ordinal_Categorical_variables['Age'])\n",
        "Ordinal_Categorical_variables['Age'] = np.where(Ordinal_Categorical_variables['Age'] == '50-64', 3, Ordinal_Categorical_variables['Age'])\n",
        "Ordinal_Categorical_variables['Age'] = np.where(Ordinal_Categorical_variables['Age'] == '65 or older', 4, Ordinal_Categorical_variables['Age'])\n",
        "Ordinal_Categorical_variables['Age'].value_counts()"
      ]
    },
    {
      "cell_type": "code",
      "execution_count": 36,
      "metadata": {
        "colab": {
          "base_uri": "https://localhost:8080/"
        },
        "id": "Pt59-wb0gAVm",
        "outputId": "650883f0-6d1a-4d15-9129-d767cf908bcf"
      },
      "outputs": [
        {
          "output_type": "execute_result",
          "data": {
            "text/plain": [
              "array(['tax', 'not_comfortable_with_any_listed_options',\n",
              "       'nocomp_but_no_forprofit', 'flat_fee', 'donate_to_trainer',\n",
              "       'nocompt_noprofit4anyone', 'Other', 'portion_from_derivatives',\n",
              "       'portion_of_any_profit_made', 'portion_from_model_creators',\n",
              "       'I_dont_need_profit', nan], dtype=object)"
            ]
          },
          "metadata": {},
          "execution_count": 36
        }
      ],
      "source": [
        "Ordinal_Categorical_variables['compensation'].unique()"
      ]
    },
    {
      "cell_type": "code",
      "execution_count": 37,
      "metadata": {
        "colab": {
          "base_uri": "https://localhost:8080/"
        },
        "id": "r8kTWma1ZqHw",
        "outputId": "4b162e8a-d10a-44eb-ecea-51cd08ce0b36"
      },
      "outputs": [
        {
          "output_type": "execute_result",
          "data": {
            "text/plain": [
              "compensation\n",
              "3     106\n",
              "5      81\n",
              "4      54\n",
              "10     51\n",
              "2      42\n",
              "8      32\n",
              "9      32\n",
              "6      27\n",
              "11     22\n",
              "7      10\n",
              "1       6\n",
              "Name: count, dtype: int64"
            ]
          },
          "metadata": {},
          "execution_count": 37
        }
      ],
      "source": [
        "Ordinal_Categorical_variables['compensation'] = np.where(Ordinal_Categorical_variables['compensation'] == 'tax', 1, Ordinal_Categorical_variables['compensation'])\n",
        "Ordinal_Categorical_variables['compensation'] = np.where(Ordinal_Categorical_variables['compensation'] == 'not_comfortable_with_any_listed_options', 2, Ordinal_Categorical_variables['compensation'])\n",
        "Ordinal_Categorical_variables['compensation'] = np.where(Ordinal_Categorical_variables['compensation'] == 'nocomp_but_no_forprofit', 3, Ordinal_Categorical_variables['compensation'])\n",
        "Ordinal_Categorical_variables['compensation'] = np.where(Ordinal_Categorical_variables['compensation'] == 'flat_fee', 4, Ordinal_Categorical_variables['compensation'])\n",
        "Ordinal_Categorical_variables['compensation'] = np.where(Ordinal_Categorical_variables['compensation'] == 'donate_to_trainer', 5, Ordinal_Categorical_variables['compensation'])\n",
        "Ordinal_Categorical_variables['compensation'] = np.where(Ordinal_Categorical_variables['compensation'] == 'nocompt_noprofit4anyone', 6, Ordinal_Categorical_variables['compensation'])\n",
        "Ordinal_Categorical_variables['compensation'] = np.where(Ordinal_Categorical_variables['compensation'] == 'Other', 7, Ordinal_Categorical_variables['compensation'])\n",
        "Ordinal_Categorical_variables['compensation'] = np.where(Ordinal_Categorical_variables['compensation'] == 'portion_from_derivatives', 8, Ordinal_Categorical_variables['compensation'])\n",
        "Ordinal_Categorical_variables['compensation'] = np.where(Ordinal_Categorical_variables['compensation'] == 'portion_of_any_profit_made', 9, Ordinal_Categorical_variables['compensation'])\n",
        "Ordinal_Categorical_variables['compensation'] = np.where(Ordinal_Categorical_variables['compensation'] == 'portion_from_model_creators', 10, Ordinal_Categorical_variables['compensation'])\n",
        "Ordinal_Categorical_variables['compensation'] = np.where(Ordinal_Categorical_variables['compensation'] == 'I_dont_need_profit', 11, Ordinal_Categorical_variables['compensation'])\n",
        "Ordinal_Categorical_variables['compensation'].value_counts()"
      ]
    },
    {
      "cell_type": "markdown",
      "source": [
        "#making contingency tables"
      ],
      "metadata": {
        "id": "cHhssgDOgQE9"
      }
    },
    {
      "cell_type": "code",
      "execution_count": 39,
      "metadata": {
        "id": "CFBrKL1ugIuE"
      },
      "outputs": [],
      "source": [
        "#selecting the columns I want to use for analysis\n",
        "\n",
        "Ordinal_Categorical_variables_results = pd.DataFrame()\n",
        "\n",
        "Ordinal_Categorical_variables_results['variable_combo'] = ['SO_owned_AIuser_Artist', 'SO_owned_AIuser_Gender', 'SO_owned_AIuser_Art_prac','SO_owned_AIuser_AI_models_fam','SO_owned_AIuser_Age','SO_owned_AIuser_Fair_comp',\n",
        "                                                           'SO_owned_OGartist_Artist',  'SO_owned_OGartist_Gender','SO_owned_OGartist_Art_prac','SO_owned_OGartist_AI_models_fam','SO_owned_OGartist_Age','SO_owned_OGartist_Fair_comp',\n",
        "                                                           'SO_owned_AIcom_Artist','SO_owned_AIcom_Gender','SO_owned_AIcom_Art_prac','SO_owned_AIcom_AI_models_fam','SO_owned_AIcom_Age','SO_owned_AIcom_Fair_comp',\n",
        "                                                           'Req_disclos_Artist','Req_disclos_Gender','Req_disclos_Art_prac','Req_disclos_AI_models_fam','Req_disclos_Age','Req_disclos_Fair_comp',\n",
        "                                                           'AI_pos_dev_Artist', 'AI_pos_dev_Gender', 'AI_pos_dev_Art_prac', 'AI_pos_dev_AI_models_fam', 'AI_pos_dev_Age', 'AI_pos_dev_Fair_comp',\n",
        "                                                           'AI_threat_Artist', 'AI_threat_Gender', 'AI_threat_Art_prac', 'AI_threat_AI_models_fam', 'AI_threat_Age', 'AI_threat_Fair_comp',\n",
        "\n",
        "                                                           ]\n"
      ]
    },
    {
      "cell_type": "code",
      "execution_count": 41,
      "metadata": {
        "id": "y3uWrPnPhV_M"
      },
      "outputs": [],
      "source": [
        "#creating an empty column for a contingency table\n",
        "Ordinal_Categorical_variables_results['contingency_table'] = \"\""
      ]
    },
    {
      "cell_type": "code",
      "execution_count": 42,
      "metadata": {
        "id": "N1xu95Tyhbdx"
      },
      "outputs": [],
      "source": [
        "#make a contingency table out of our variables\n",
        "SO_owned_AIuser_Artist = pd.crosstab(Ordinal_Categorical_variables['Artist'], Ordinal_Categorical_variables['Styleof_ownedby_AI_user'], dropna=False, normalize='index')\n",
        "SO_owned_AIuser_Gender = pd.crosstab(Ordinal_Categorical_variables['Gender_identity'], Ordinal_Categorical_variables['Styleof_ownedby_AI_user'], dropna=False, normalize='index')\n",
        "SO_owned_AIuser_Art_prac = pd.crosstab(Ordinal_Categorical_variables['Art_practice'], Ordinal_Categorical_variables['Styleof_ownedby_AI_user'], dropna=False, normalize='index')\n",
        "SO_owned_AIuser_AI_models_fam = pd.crosstab(Ordinal_Categorical_variables['AI_models_familiarity'], Ordinal_Categorical_variables['Styleof_ownedby_AI_user'], dropna=False, normalize='index')\n",
        "SO_owned_AIuser_Age = pd.crosstab(Ordinal_Categorical_variables['Age'], Ordinal_Categorical_variables['Styleof_ownedby_AI_user'], dropna=False, normalize='index')\n",
        "SO_owned_AIuser_Fair_comp = pd.crosstab(Ordinal_Categorical_variables['compensation'], Ordinal_Categorical_variables['Styleof_ownedby_AI_user'], dropna=False, normalize='index')\n",
        "\n",
        "#I want to save these as an array for the data frame later on\n",
        "SO_owned_AIuser_Artist_contingency = SO_owned_AIuser_Artist.values\n",
        "SO_owned_AIuser_Gender_contingency = SO_owned_AIuser_Gender.values\n",
        "SO_owned_AIuser_Art_prac_contingency = SO_owned_AIuser_Art_prac.values\n",
        "SO_owned_AIuser_AI_models_fam_contingency = SO_owned_AIuser_AI_models_fam.values\n",
        "SO_owned_AIuser_Age_contingency = SO_owned_AIuser_Age.values\n",
        "SO_owned_AIuser_Fair_comp_contingency = SO_owned_AIuser_Fair_comp.values"
      ]
    },
    {
      "cell_type": "code",
      "execution_count": 43,
      "metadata": {
        "colab": {
          "base_uri": "https://localhost:8080/"
        },
        "id": "ZAjwyo9-iaGE",
        "outputId": "fb19dad6-1aff-4847-d33d-6b5e2288a9c7"
      },
      "outputs": [
        {
          "output_type": "stream",
          "name": "stdout",
          "text": [
            "[[0.16666667 0.         0.66666667 0.16666667 0.        ]\n",
            " [0.19006479 0.22030238 0.20302376 0.20518359 0.18142549]]\n"
          ]
        }
      ],
      "source": [
        "#checking it works\n",
        "print(SO_owned_AIuser_Artist_contingency)"
      ]
    },
    {
      "cell_type": "code",
      "execution_count": 44,
      "metadata": {
        "colab": {
          "base_uri": "https://localhost:8080/",
          "height": 143
        },
        "id": "uq6d4RNHiblP",
        "outputId": "790ed2a2-e63a-4b32-d7f4-21670e6d282b"
      },
      "outputs": [
        {
          "output_type": "execute_result",
          "data": {
            "text/plain": [
              "Styleof_ownedby_AI_user       1.0       2.0       3.0       4.0       5.0\n",
              "Artist                                                                   \n",
              "0                        0.166667  0.000000  0.666667  0.166667  0.000000\n",
              "1                        0.190065  0.220302  0.203024  0.205184  0.181425"
            ],
            "text/html": [
              "\n",
              "  <div id=\"df-b94ea294-2c9f-4eae-9fb2-d62ed2be5862\" class=\"colab-df-container\">\n",
              "    <div>\n",
              "<style scoped>\n",
              "    .dataframe tbody tr th:only-of-type {\n",
              "        vertical-align: middle;\n",
              "    }\n",
              "\n",
              "    .dataframe tbody tr th {\n",
              "        vertical-align: top;\n",
              "    }\n",
              "\n",
              "    .dataframe thead th {\n",
              "        text-align: right;\n",
              "    }\n",
              "</style>\n",
              "<table border=\"1\" class=\"dataframe\">\n",
              "  <thead>\n",
              "    <tr style=\"text-align: right;\">\n",
              "      <th>Styleof_ownedby_AI_user</th>\n",
              "      <th>1.0</th>\n",
              "      <th>2.0</th>\n",
              "      <th>3.0</th>\n",
              "      <th>4.0</th>\n",
              "      <th>5.0</th>\n",
              "    </tr>\n",
              "    <tr>\n",
              "      <th>Artist</th>\n",
              "      <th></th>\n",
              "      <th></th>\n",
              "      <th></th>\n",
              "      <th></th>\n",
              "      <th></th>\n",
              "    </tr>\n",
              "  </thead>\n",
              "  <tbody>\n",
              "    <tr>\n",
              "      <th>0</th>\n",
              "      <td>0.166667</td>\n",
              "      <td>0.000000</td>\n",
              "      <td>0.666667</td>\n",
              "      <td>0.166667</td>\n",
              "      <td>0.000000</td>\n",
              "    </tr>\n",
              "    <tr>\n",
              "      <th>1</th>\n",
              "      <td>0.190065</td>\n",
              "      <td>0.220302</td>\n",
              "      <td>0.203024</td>\n",
              "      <td>0.205184</td>\n",
              "      <td>0.181425</td>\n",
              "    </tr>\n",
              "  </tbody>\n",
              "</table>\n",
              "</div>\n",
              "    <div class=\"colab-df-buttons\">\n",
              "\n",
              "  <div class=\"colab-df-container\">\n",
              "    <button class=\"colab-df-convert\" onclick=\"convertToInteractive('df-b94ea294-2c9f-4eae-9fb2-d62ed2be5862')\"\n",
              "            title=\"Convert this dataframe to an interactive table.\"\n",
              "            style=\"display:none;\">\n",
              "\n",
              "  <svg xmlns=\"http://www.w3.org/2000/svg\" height=\"24px\" viewBox=\"0 -960 960 960\">\n",
              "    <path d=\"M120-120v-720h720v720H120Zm60-500h600v-160H180v160Zm220 220h160v-160H400v160Zm0 220h160v-160H400v160ZM180-400h160v-160H180v160Zm440 0h160v-160H620v160ZM180-180h160v-160H180v160Zm440 0h160v-160H620v160Z\"/>\n",
              "  </svg>\n",
              "    </button>\n",
              "\n",
              "  <style>\n",
              "    .colab-df-container {\n",
              "      display:flex;\n",
              "      gap: 12px;\n",
              "    }\n",
              "\n",
              "    .colab-df-convert {\n",
              "      background-color: #E8F0FE;\n",
              "      border: none;\n",
              "      border-radius: 50%;\n",
              "      cursor: pointer;\n",
              "      display: none;\n",
              "      fill: #1967D2;\n",
              "      height: 32px;\n",
              "      padding: 0 0 0 0;\n",
              "      width: 32px;\n",
              "    }\n",
              "\n",
              "    .colab-df-convert:hover {\n",
              "      background-color: #E2EBFA;\n",
              "      box-shadow: 0px 1px 2px rgba(60, 64, 67, 0.3), 0px 1px 3px 1px rgba(60, 64, 67, 0.15);\n",
              "      fill: #174EA6;\n",
              "    }\n",
              "\n",
              "    .colab-df-buttons div {\n",
              "      margin-bottom: 4px;\n",
              "    }\n",
              "\n",
              "    [theme=dark] .colab-df-convert {\n",
              "      background-color: #3B4455;\n",
              "      fill: #D2E3FC;\n",
              "    }\n",
              "\n",
              "    [theme=dark] .colab-df-convert:hover {\n",
              "      background-color: #434B5C;\n",
              "      box-shadow: 0px 1px 3px 1px rgba(0, 0, 0, 0.15);\n",
              "      filter: drop-shadow(0px 1px 2px rgba(0, 0, 0, 0.3));\n",
              "      fill: #FFFFFF;\n",
              "    }\n",
              "  </style>\n",
              "\n",
              "    <script>\n",
              "      const buttonEl =\n",
              "        document.querySelector('#df-b94ea294-2c9f-4eae-9fb2-d62ed2be5862 button.colab-df-convert');\n",
              "      buttonEl.style.display =\n",
              "        google.colab.kernel.accessAllowed ? 'block' : 'none';\n",
              "\n",
              "      async function convertToInteractive(key) {\n",
              "        const element = document.querySelector('#df-b94ea294-2c9f-4eae-9fb2-d62ed2be5862');\n",
              "        const dataTable =\n",
              "          await google.colab.kernel.invokeFunction('convertToInteractive',\n",
              "                                                    [key], {});\n",
              "        if (!dataTable) return;\n",
              "\n",
              "        const docLinkHtml = 'Like what you see? Visit the ' +\n",
              "          '<a target=\"_blank\" href=https://colab.research.google.com/notebooks/data_table.ipynb>data table notebook</a>'\n",
              "          + ' to learn more about interactive tables.';\n",
              "        element.innerHTML = '';\n",
              "        dataTable['output_type'] = 'display_data';\n",
              "        await google.colab.output.renderOutput(dataTable, element);\n",
              "        const docLink = document.createElement('div');\n",
              "        docLink.innerHTML = docLinkHtml;\n",
              "        element.appendChild(docLink);\n",
              "      }\n",
              "    </script>\n",
              "  </div>\n",
              "\n",
              "\n",
              "<div id=\"df-b30e1857-0617-4e84-b485-6610ee81d5ba\">\n",
              "  <button class=\"colab-df-quickchart\" onclick=\"quickchart('df-b30e1857-0617-4e84-b485-6610ee81d5ba')\"\n",
              "            title=\"Suggest charts\"\n",
              "            style=\"display:none;\">\n",
              "\n",
              "<svg xmlns=\"http://www.w3.org/2000/svg\" height=\"24px\"viewBox=\"0 0 24 24\"\n",
              "     width=\"24px\">\n",
              "    <g>\n",
              "        <path d=\"M19 3H5c-1.1 0-2 .9-2 2v14c0 1.1.9 2 2 2h14c1.1 0 2-.9 2-2V5c0-1.1-.9-2-2-2zM9 17H7v-7h2v7zm4 0h-2V7h2v10zm4 0h-2v-4h2v4z\"/>\n",
              "    </g>\n",
              "</svg>\n",
              "  </button>\n",
              "\n",
              "<style>\n",
              "  .colab-df-quickchart {\n",
              "      --bg-color: #E8F0FE;\n",
              "      --fill-color: #1967D2;\n",
              "      --hover-bg-color: #E2EBFA;\n",
              "      --hover-fill-color: #174EA6;\n",
              "      --disabled-fill-color: #AAA;\n",
              "      --disabled-bg-color: #DDD;\n",
              "  }\n",
              "\n",
              "  [theme=dark] .colab-df-quickchart {\n",
              "      --bg-color: #3B4455;\n",
              "      --fill-color: #D2E3FC;\n",
              "      --hover-bg-color: #434B5C;\n",
              "      --hover-fill-color: #FFFFFF;\n",
              "      --disabled-bg-color: #3B4455;\n",
              "      --disabled-fill-color: #666;\n",
              "  }\n",
              "\n",
              "  .colab-df-quickchart {\n",
              "    background-color: var(--bg-color);\n",
              "    border: none;\n",
              "    border-radius: 50%;\n",
              "    cursor: pointer;\n",
              "    display: none;\n",
              "    fill: var(--fill-color);\n",
              "    height: 32px;\n",
              "    padding: 0;\n",
              "    width: 32px;\n",
              "  }\n",
              "\n",
              "  .colab-df-quickchart:hover {\n",
              "    background-color: var(--hover-bg-color);\n",
              "    box-shadow: 0 1px 2px rgba(60, 64, 67, 0.3), 0 1px 3px 1px rgba(60, 64, 67, 0.15);\n",
              "    fill: var(--button-hover-fill-color);\n",
              "  }\n",
              "\n",
              "  .colab-df-quickchart-complete:disabled,\n",
              "  .colab-df-quickchart-complete:disabled:hover {\n",
              "    background-color: var(--disabled-bg-color);\n",
              "    fill: var(--disabled-fill-color);\n",
              "    box-shadow: none;\n",
              "  }\n",
              "\n",
              "  .colab-df-spinner {\n",
              "    border: 2px solid var(--fill-color);\n",
              "    border-color: transparent;\n",
              "    border-bottom-color: var(--fill-color);\n",
              "    animation:\n",
              "      spin 1s steps(1) infinite;\n",
              "  }\n",
              "\n",
              "  @keyframes spin {\n",
              "    0% {\n",
              "      border-color: transparent;\n",
              "      border-bottom-color: var(--fill-color);\n",
              "      border-left-color: var(--fill-color);\n",
              "    }\n",
              "    20% {\n",
              "      border-color: transparent;\n",
              "      border-left-color: var(--fill-color);\n",
              "      border-top-color: var(--fill-color);\n",
              "    }\n",
              "    30% {\n",
              "      border-color: transparent;\n",
              "      border-left-color: var(--fill-color);\n",
              "      border-top-color: var(--fill-color);\n",
              "      border-right-color: var(--fill-color);\n",
              "    }\n",
              "    40% {\n",
              "      border-color: transparent;\n",
              "      border-right-color: var(--fill-color);\n",
              "      border-top-color: var(--fill-color);\n",
              "    }\n",
              "    60% {\n",
              "      border-color: transparent;\n",
              "      border-right-color: var(--fill-color);\n",
              "    }\n",
              "    80% {\n",
              "      border-color: transparent;\n",
              "      border-right-color: var(--fill-color);\n",
              "      border-bottom-color: var(--fill-color);\n",
              "    }\n",
              "    90% {\n",
              "      border-color: transparent;\n",
              "      border-bottom-color: var(--fill-color);\n",
              "    }\n",
              "  }\n",
              "</style>\n",
              "\n",
              "  <script>\n",
              "    async function quickchart(key) {\n",
              "      const quickchartButtonEl =\n",
              "        document.querySelector('#' + key + ' button');\n",
              "      quickchartButtonEl.disabled = true;  // To prevent multiple clicks.\n",
              "      quickchartButtonEl.classList.add('colab-df-spinner');\n",
              "      try {\n",
              "        const charts = await google.colab.kernel.invokeFunction(\n",
              "            'suggestCharts', [key], {});\n",
              "      } catch (error) {\n",
              "        console.error('Error during call to suggestCharts:', error);\n",
              "      }\n",
              "      quickchartButtonEl.classList.remove('colab-df-spinner');\n",
              "      quickchartButtonEl.classList.add('colab-df-quickchart-complete');\n",
              "    }\n",
              "    (() => {\n",
              "      let quickchartButtonEl =\n",
              "        document.querySelector('#df-b30e1857-0617-4e84-b485-6610ee81d5ba button');\n",
              "      quickchartButtonEl.style.display =\n",
              "        google.colab.kernel.accessAllowed ? 'block' : 'none';\n",
              "    })();\n",
              "  </script>\n",
              "</div>\n",
              "\n",
              "  <div id=\"id_e3d5d9f9-bf0f-4789-a13a-5330aca4fb26\">\n",
              "    <style>\n",
              "      .colab-df-generate {\n",
              "        background-color: #E8F0FE;\n",
              "        border: none;\n",
              "        border-radius: 50%;\n",
              "        cursor: pointer;\n",
              "        display: none;\n",
              "        fill: #1967D2;\n",
              "        height: 32px;\n",
              "        padding: 0 0 0 0;\n",
              "        width: 32px;\n",
              "      }\n",
              "\n",
              "      .colab-df-generate:hover {\n",
              "        background-color: #E2EBFA;\n",
              "        box-shadow: 0px 1px 2px rgba(60, 64, 67, 0.3), 0px 1px 3px 1px rgba(60, 64, 67, 0.15);\n",
              "        fill: #174EA6;\n",
              "      }\n",
              "\n",
              "      [theme=dark] .colab-df-generate {\n",
              "        background-color: #3B4455;\n",
              "        fill: #D2E3FC;\n",
              "      }\n",
              "\n",
              "      [theme=dark] .colab-df-generate:hover {\n",
              "        background-color: #434B5C;\n",
              "        box-shadow: 0px 1px 3px 1px rgba(0, 0, 0, 0.15);\n",
              "        filter: drop-shadow(0px 1px 2px rgba(0, 0, 0, 0.3));\n",
              "        fill: #FFFFFF;\n",
              "      }\n",
              "    </style>\n",
              "    <button class=\"colab-df-generate\" onclick=\"generateWithVariable('SO_owned_AIuser_Artist')\"\n",
              "            title=\"Generate code using this dataframe.\"\n",
              "            style=\"display:none;\">\n",
              "\n",
              "  <svg xmlns=\"http://www.w3.org/2000/svg\" height=\"24px\"viewBox=\"0 0 24 24\"\n",
              "       width=\"24px\">\n",
              "    <path d=\"M7,19H8.4L18.45,9,17,7.55,7,17.6ZM5,21V16.75L18.45,3.32a2,2,0,0,1,2.83,0l1.4,1.43a1.91,1.91,0,0,1,.58,1.4,1.91,1.91,0,0,1-.58,1.4L9.25,21ZM18.45,9,17,7.55Zm-12,3A5.31,5.31,0,0,0,4.9,8.1,5.31,5.31,0,0,0,1,6.5,5.31,5.31,0,0,0,4.9,4.9,5.31,5.31,0,0,0,6.5,1,5.31,5.31,0,0,0,8.1,4.9,5.31,5.31,0,0,0,12,6.5,5.46,5.46,0,0,0,6.5,12Z\"/>\n",
              "  </svg>\n",
              "    </button>\n",
              "    <script>\n",
              "      (() => {\n",
              "      const buttonEl =\n",
              "        document.querySelector('#id_e3d5d9f9-bf0f-4789-a13a-5330aca4fb26 button.colab-df-generate');\n",
              "      buttonEl.style.display =\n",
              "        google.colab.kernel.accessAllowed ? 'block' : 'none';\n",
              "\n",
              "      buttonEl.onclick = () => {\n",
              "        google.colab.notebook.generateWithVariable('SO_owned_AIuser_Artist');\n",
              "      }\n",
              "      })();\n",
              "    </script>\n",
              "  </div>\n",
              "\n",
              "    </div>\n",
              "  </div>\n"
            ],
            "application/vnd.google.colaboratory.intrinsic+json": {
              "type": "dataframe",
              "variable_name": "SO_owned_AIuser_Artist",
              "summary": "{\n  \"name\": \"SO_owned_AIuser_Artist\",\n  \"rows\": 2,\n  \"fields\": [\n    {\n      \"column\": \"Artist\",\n      \"properties\": {\n        \"dtype\": \"number\",\n        \"std\": 0,\n        \"min\": 0,\n        \"max\": 1,\n        \"num_unique_values\": 2,\n        \"samples\": [\n          1,\n          0\n        ],\n        \"semantic_type\": \"\",\n        \"description\": \"\"\n      }\n    },\n    {\n      \"column\": 1.0,\n      \"properties\": {\n        \"dtype\": \"number\",\n        \"std\": 0.016544975081758683,\n        \"min\": 0.16666666666666666,\n        \"max\": 0.1900647948164147,\n        \"num_unique_values\": 2,\n        \"samples\": [\n          0.1900647948164147,\n          0.16666666666666666\n        ],\n        \"semantic_type\": \"\",\n        \"description\": \"\"\n      }\n    },\n    {\n      \"column\": 2.0,\n      \"properties\": {\n        \"dtype\": \"number\",\n        \"std\": 0.1557773038467124,\n        \"min\": 0.0,\n        \"max\": 0.2203023758099352,\n        \"num_unique_values\": 2,\n        \"samples\": [\n          0.2203023758099352,\n          0.0\n        ],\n        \"semantic_type\": \"\",\n        \"description\": \"\"\n      }\n    },\n    {\n      \"column\": 3.0,\n      \"properties\": {\n        \"dtype\": \"number\",\n        \"std\": 0.3278450446970026,\n        \"min\": 0.20302375809935205,\n        \"max\": 0.6666666666666666,\n        \"num_unique_values\": 2,\n        \"samples\": [\n          0.20302375809935205,\n          0.6666666666666666\n        ],\n        \"semantic_type\": \"\",\n        \"description\": \"\"\n      }\n    },\n    {\n      \"column\": 4.0,\n      \"properties\": {\n        \"dtype\": \"number\",\n        \"std\": 0.027235574365356598,\n        \"min\": 0.16666666666666666,\n        \"max\": 0.20518358531317496,\n        \"num_unique_values\": 2,\n        \"samples\": [\n          0.20518358531317496,\n          0.16666666666666666\n        ],\n        \"semantic_type\": \"\",\n        \"description\": \"\"\n      }\n    },\n    {\n      \"column\": 5.0,\n      \"properties\": {\n        \"dtype\": \"number\",\n        \"std\": 0.12828719140317493,\n        \"min\": 0.0,\n        \"max\": 0.18142548596112312,\n        \"num_unique_values\": 2,\n        \"samples\": [\n          0.18142548596112312,\n          0.0\n        ],\n        \"semantic_type\": \"\",\n        \"description\": \"\"\n      }\n    }\n  ]\n}"
            }
          },
          "metadata": {},
          "execution_count": 44
        }
      ],
      "source": [
        "#checking it works\n",
        "SO_owned_AIuser_Artist"
      ]
    },
    {
      "cell_type": "code",
      "execution_count": 45,
      "metadata": {
        "id": "1aJDug4NiTEI"
      },
      "outputs": [],
      "source": [
        "#make a contingency table out of our variables\n",
        "SO_owned_OGartist_Artist = pd.crosstab(Ordinal_Categorical_variables['Artist'], Ordinal_Categorical_variables['Styleof_ownedby_OG_artist'], dropna=False, normalize='index')\n",
        "SO_owned_OGartist_Gender = pd.crosstab(Ordinal_Categorical_variables['Gender_identity'], Ordinal_Categorical_variables['Styleof_ownedby_OG_artist'], dropna=False, normalize='index')\n",
        "SO_owned_OGartist_Art_prac = pd.crosstab(Ordinal_Categorical_variables['Art_practice'], Ordinal_Categorical_variables['Styleof_ownedby_OG_artist'], dropna=False, normalize='index')\n",
        "SO_owned_OGartist_AI_models_fam = pd.crosstab(Ordinal_Categorical_variables['AI_models_familiarity'], Ordinal_Categorical_variables['Styleof_ownedby_OG_artist'], dropna=False, normalize='index')\n",
        "SO_owned_OGartist_Age = pd.crosstab(Ordinal_Categorical_variables['Age'], Ordinal_Categorical_variables['Styleof_ownedby_OG_artist'], dropna=False, normalize='index')\n",
        "SO_owned_OGartist_Fair_comp = pd.crosstab(Ordinal_Categorical_variables['compensation'], Ordinal_Categorical_variables['Styleof_ownedby_OG_artist'], dropna=False, normalize='index')\n",
        "\n",
        "#I want to save these as an array for the data frame later on\n",
        "SO_owned_OGartist_Artist_contingency = SO_owned_OGartist_Artist.values\n",
        "SO_owned_OGartist_Gender_contingency = SO_owned_OGartist_Gender.values\n",
        "SO_owned_OGartist_Art_prac_contingency = SO_owned_OGartist_Art_prac.values\n",
        "SO_owned_OGartist_AI_models_fam_contingency = SO_owned_OGartist_AI_models_fam.values\n",
        "SO_owned_OGartist_Age_contingency = SO_owned_OGartist_Age.values\n",
        "SO_owned_OGartist_Fair_comp_contingency = SO_owned_OGartist_Fair_comp.values"
      ]
    },
    {
      "cell_type": "code",
      "execution_count": 46,
      "metadata": {
        "id": "fayqIAHijCD9"
      },
      "outputs": [],
      "source": [
        "#make a contingency table out of our variables\n",
        "SO_owned_AIcom_Artist = pd.crosstab(Ordinal_Categorical_variables['Artist'], Ordinal_Categorical_variables['Styleof_ownedby_AI_company'], dropna=False, normalize='index')\n",
        "SO_owned_AIcom_Gender = pd.crosstab(Ordinal_Categorical_variables['Gender_identity'], Ordinal_Categorical_variables['Styleof_ownedby_AI_company'], dropna=False, normalize='index')\n",
        "SO_owned_AIcom_Art_prac = pd.crosstab(Ordinal_Categorical_variables['Art_practice'], Ordinal_Categorical_variables['Styleof_ownedby_AI_company'], dropna=False, normalize='index')\n",
        "SO_owned_AIcom_AI_models_fam = pd.crosstab(Ordinal_Categorical_variables['AI_models_familiarity'], Ordinal_Categorical_variables['Styleof_ownedby_AI_company'], dropna=False, normalize='index')\n",
        "SO_owned_AIcom_Age = pd.crosstab(Ordinal_Categorical_variables['Age'], Ordinal_Categorical_variables['Styleof_ownedby_AI_company'], dropna=False, normalize='index')\n",
        "SO_owned_AIcom_Fair_comp = pd.crosstab(Ordinal_Categorical_variables['compensation'], Ordinal_Categorical_variables['Styleof_ownedby_AI_company'], dropna=False, normalize='index')\n",
        "\n",
        "#I want to save these as an array for the data frame later on\n",
        "SO_owned_AIcom_Artist_contingency = SO_owned_AIcom_Artist.values\n",
        "SO_owned_AIcom_Gender_contingency = SO_owned_AIcom_Gender.values\n",
        "SO_owned_AIcom_Art_prac_contingency = SO_owned_AIcom_Art_prac.values\n",
        "SO_owned_AIcom_AI_models_fam_contingency = SO_owned_AIcom_AI_models_fam.values\n",
        "SO_owned_AIcom_Age_contingency = SO_owned_AIcom_Age.values\n",
        "SO_owned_AIcom_Fair_comp_contingency = SO_owned_AIcom_Fair_comp.values"
      ]
    },
    {
      "cell_type": "code",
      "execution_count": 47,
      "metadata": {
        "id": "5YaVN9PSjadu"
      },
      "outputs": [],
      "source": [
        "#make a contingency table out of our variables\n",
        "\n",
        "Req_disclos_Artist = pd.crosstab(Ordinal_Categorical_variables['Artist'], Ordinal_Categorical_variables['Required_disclosure'], dropna=False, normalize='index')\n",
        "Req_disclos_Gender = pd.crosstab(Ordinal_Categorical_variables['Gender_identity'], Ordinal_Categorical_variables['Required_disclosure'], dropna=False, normalize='index')\n",
        "Req_disclos_Art_prac = pd.crosstab(Ordinal_Categorical_variables['Art_practice'], Ordinal_Categorical_variables['Required_disclosure'], dropna=False, normalize='index')\n",
        "Req_disclos_AI_models_fam = pd.crosstab(Ordinal_Categorical_variables['AI_models_familiarity'], Ordinal_Categorical_variables['Required_disclosure'], dropna=False, normalize='index')\n",
        "Req_disclos_Age = pd.crosstab(Ordinal_Categorical_variables['Age'], Ordinal_Categorical_variables['Required_disclosure'], dropna=False, normalize='index')\n",
        "Req_disclos_Fair_comp = pd.crosstab(Ordinal_Categorical_variables['compensation'], Ordinal_Categorical_variables['Required_disclosure'], dropna=False, normalize='index')\n",
        "\n",
        "#I want to save these as an array for the data frame later on\n",
        "Req_disclos_Artist_contingency = Req_disclos_Artist.values\n",
        "Req_disclos_Gender_contingency = Req_disclos_Gender.values\n",
        "Req_disclos_Art_prac_contingency = Req_disclos_Art_prac.values\n",
        "Req_disclos_AI_models_fam_contingency = Req_disclos_AI_models_fam.values\n",
        "Req_disclos_Age_contingency = Req_disclos_Age.values\n",
        "Req_disclos_Fair_comp_contingency = Req_disclos_Fair_comp.values"
      ]
    },
    {
      "cell_type": "code",
      "execution_count": 48,
      "metadata": {
        "id": "uFOj9YcajyWb"
      },
      "outputs": [],
      "source": [
        "#make a contingency table out of our variables\n",
        "\n",
        "AI_pos_dev_Artist = pd.crosstab(Ordinal_Categorical_variables['Artist'], Ordinal_Categorical_variables['AI_pos_development_4art'], dropna=False, normalize='index')\n",
        "AI_pos_dev_Gender = pd.crosstab(Ordinal_Categorical_variables['Gender_identity'], Ordinal_Categorical_variables['AI_pos_development_4art'], dropna=False, normalize='index')\n",
        "AI_pos_dev_Art_prac = pd.crosstab(Ordinal_Categorical_variables['Art_practice'], Ordinal_Categorical_variables['AI_pos_development_4art'], dropna=False, normalize='index')\n",
        "AI_pos_dev_AI_models_fam = pd.crosstab(Ordinal_Categorical_variables['AI_models_familiarity'], Ordinal_Categorical_variables['AI_pos_development_4art'], dropna=False, normalize='index')\n",
        "AI_pos_dev_Age = pd.crosstab(Ordinal_Categorical_variables['Age'], Ordinal_Categorical_variables['AI_pos_development_4art'], dropna=False, normalize='index')\n",
        "AI_pos_dev_Fair_comp = pd.crosstab(Ordinal_Categorical_variables['compensation'], Ordinal_Categorical_variables['AI_pos_development_4art'], dropna=False, normalize='index')\n",
        "\n",
        "#I want to save these as an array for the data frame later on\n",
        "AI_pos_dev_Artist_contingency = AI_pos_dev_Artist.values\n",
        "AI_pos_dev_Gender_contingency = AI_pos_dev_Gender.values\n",
        "AI_pos_dev_Art_prac_contingency = AI_pos_dev_Art_prac.values\n",
        "AI_pos_dev_AI_models_fam_contingency = AI_pos_dev_AI_models_fam.values\n",
        "AI_pos_dev_Age_contingency = AI_pos_dev_Age.values\n",
        "AI_pos_dev_Fair_comp_contingency = AI_pos_dev_Fair_comp.values"
      ]
    },
    {
      "cell_type": "code",
      "execution_count": 49,
      "metadata": {
        "id": "GQOmbegvkJkj"
      },
      "outputs": [],
      "source": [
        "#make a contingency table out of our variables\n",
        "\n",
        "AI_threat_Artist = pd.crosstab(Ordinal_Categorical_variables['Artist'], Ordinal_Categorical_variables['AI_threat_2art_workers'], dropna=False, normalize='index')\n",
        "AI_threat_Gender = pd.crosstab(Ordinal_Categorical_variables['Gender_identity'], Ordinal_Categorical_variables['AI_threat_2art_workers'], dropna=False, normalize='index')\n",
        "AI_threat_Art_prac = pd.crosstab(Ordinal_Categorical_variables['Art_practice'], Ordinal_Categorical_variables['AI_threat_2art_workers'], dropna=False, normalize='index')\n",
        "AI_threat_AI_models_fam = pd.crosstab(Ordinal_Categorical_variables['AI_models_familiarity'], Ordinal_Categorical_variables['AI_threat_2art_workers'], dropna=False, normalize='index')\n",
        "AI_threat_Age = pd.crosstab(Ordinal_Categorical_variables['Age'], Ordinal_Categorical_variables['AI_threat_2art_workers'], dropna=False, normalize='index')\n",
        "AI_threat_Fair_comp = pd.crosstab(Ordinal_Categorical_variables['compensation'], Ordinal_Categorical_variables['AI_threat_2art_workers'], dropna=False, normalize='index')\n",
        "\n",
        "#I want to save these as an array for the data frame later on\n",
        "AI_threat_Artist_contingency = AI_threat_Artist.values\n",
        "AI_threat_Gender_contingency = AI_threat_Gender.values\n",
        "AI_threat_Art_prac_contingency = AI_threat_Art_prac.values\n",
        "AI_threat_AI_models_fam_contingency = AI_threat_AI_models_fam.values\n",
        "AI_threat_Age_contingency = AI_threat_Age.values\n",
        "AI_threat_Fair_comp_contingency = AI_threat_Fair_comp.values"
      ]
    },
    {
      "cell_type": "code",
      "execution_count": 50,
      "metadata": {
        "colab": {
          "base_uri": "https://localhost:8080/"
        },
        "id": "pswxXOJ0kdfY",
        "outputId": "ea77108a-8a30-44cb-c89f-24fd50d7c93f"
      },
      "outputs": [
        {
          "output_type": "stream",
          "name": "stdout",
          "text": [
            "[[0.         0.2        0.4        0.2        0.2       ]\n",
            " [0.0619469  0.14159292 0.17256637 0.34070796 0.28318584]] [[0.04779412 0.15441176 0.18014706 0.33823529 0.27941176]\n",
            " [0.07453416 0.1242236  0.17391304 0.31677019 0.31055901]\n",
            " [0.13043478 0.13043478 0.08695652 0.52173913 0.13043478]]\n"
          ]
        }
      ],
      "source": [
        "print(AI_threat_Artist_contingency, AI_threat_Gender_contingency)"
      ]
    },
    {
      "cell_type": "code",
      "execution_count": 55,
      "metadata": {
        "id": "0nd91N3Cki5H"
      },
      "outputs": [],
      "source": [
        "#adding these contingency tables to my new column\n",
        "Ordinal_Categorical_variables_results['contingency_table'] = [SO_owned_AIuser_Artist_contingency , SO_owned_AIuser_Gender_contingency , SO_owned_AIuser_Art_prac_contingency ,SO_owned_AIuser_AI_models_fam_contingency ,SO_owned_AIuser_Age_contingency ,SO_owned_AIuser_Fair_comp_contingency ,\n",
        "SO_owned_OGartist_Artist_contingency , SO_owned_OGartist_Gender_contingency ,SO_owned_OGartist_Art_prac_contingency ,SO_owned_OGartist_AI_models_fam_contingency ,SO_owned_OGartist_Age_contingency ,SO_owned_OGartist_Fair_comp_contingency ,\n",
        "SO_owned_AIcom_Artist_contingency ,SO_owned_AIcom_Gender_contingency ,SO_owned_AIcom_Art_prac_contingency ,SO_owned_AIcom_AI_models_fam_contingency ,SO_owned_AIcom_Age_contingency ,SO_owned_AIcom_Fair_comp_contingency ,\n",
        "Req_disclos_Artist_contingency ,Req_disclos_Gender_contingency ,Req_disclos_Art_prac_contingency ,Req_disclos_AI_models_fam_contingency ,Req_disclos_Age_contingency ,Req_disclos_Fair_comp_contingency ,\n",
        "AI_pos_dev_Artist_contingency , AI_pos_dev_Gender_contingency , AI_pos_dev_Art_prac_contingency , AI_pos_dev_AI_models_fam_contingency , AI_pos_dev_Age_contingency , AI_pos_dev_Fair_comp_contingency ,\n",
        "AI_threat_Artist_contingency , AI_threat_Gender_contingency , AI_threat_Art_prac_contingency , AI_threat_AI_models_fam_contingency , AI_threat_Age_contingency , AI_threat_Fair_comp_contingency ,]\n",
        "\n"
      ]
    },
    {
      "cell_type": "code",
      "execution_count": 56,
      "metadata": {
        "colab": {
          "base_uri": "https://localhost:8080/",
          "height": 276
        },
        "id": "giLqhwrXlKas",
        "outputId": "73ac4efe-81e4-423b-ab39-b472b1a94849"
      },
      "outputs": [
        {
          "output_type": "stream",
          "name": "stdout",
          "text": [
            "[[0.09565217 0.14347826 0.26086957 0.25652174 0.24347826]\n",
            " [0.19230769 0.18269231 0.21153846 0.19230769 0.22115385]\n",
            " [0.15189873 0.11392405 0.3164557  0.18987342 0.2278481 ]\n",
            " [0.13953488 0.18604651 0.39534884 0.20930233 0.06976744]]\n"
          ]
        },
        {
          "output_type": "execute_result",
          "data": {
            "text/plain": [
              "AI_pos_development_4art       1.0       2.0       3.0       4.0       5.0\n",
              "Age                                                                      \n",
              "1                        0.095652  0.143478  0.260870  0.256522  0.243478\n",
              "2                        0.192308  0.182692  0.211538  0.192308  0.221154\n",
              "3                        0.151899  0.113924  0.316456  0.189873  0.227848\n",
              "4                        0.139535  0.186047  0.395349  0.209302  0.069767"
            ],
            "text/html": [
              "\n",
              "  <div id=\"df-a490c4f6-e6c1-429d-ad7a-ebd4a76d8d1a\" class=\"colab-df-container\">\n",
              "    <div>\n",
              "<style scoped>\n",
              "    .dataframe tbody tr th:only-of-type {\n",
              "        vertical-align: middle;\n",
              "    }\n",
              "\n",
              "    .dataframe tbody tr th {\n",
              "        vertical-align: top;\n",
              "    }\n",
              "\n",
              "    .dataframe thead th {\n",
              "        text-align: right;\n",
              "    }\n",
              "</style>\n",
              "<table border=\"1\" class=\"dataframe\">\n",
              "  <thead>\n",
              "    <tr style=\"text-align: right;\">\n",
              "      <th>AI_pos_development_4art</th>\n",
              "      <th>1.0</th>\n",
              "      <th>2.0</th>\n",
              "      <th>3.0</th>\n",
              "      <th>4.0</th>\n",
              "      <th>5.0</th>\n",
              "    </tr>\n",
              "    <tr>\n",
              "      <th>Age</th>\n",
              "      <th></th>\n",
              "      <th></th>\n",
              "      <th></th>\n",
              "      <th></th>\n",
              "      <th></th>\n",
              "    </tr>\n",
              "  </thead>\n",
              "  <tbody>\n",
              "    <tr>\n",
              "      <th>1</th>\n",
              "      <td>0.095652</td>\n",
              "      <td>0.143478</td>\n",
              "      <td>0.260870</td>\n",
              "      <td>0.256522</td>\n",
              "      <td>0.243478</td>\n",
              "    </tr>\n",
              "    <tr>\n",
              "      <th>2</th>\n",
              "      <td>0.192308</td>\n",
              "      <td>0.182692</td>\n",
              "      <td>0.211538</td>\n",
              "      <td>0.192308</td>\n",
              "      <td>0.221154</td>\n",
              "    </tr>\n",
              "    <tr>\n",
              "      <th>3</th>\n",
              "      <td>0.151899</td>\n",
              "      <td>0.113924</td>\n",
              "      <td>0.316456</td>\n",
              "      <td>0.189873</td>\n",
              "      <td>0.227848</td>\n",
              "    </tr>\n",
              "    <tr>\n",
              "      <th>4</th>\n",
              "      <td>0.139535</td>\n",
              "      <td>0.186047</td>\n",
              "      <td>0.395349</td>\n",
              "      <td>0.209302</td>\n",
              "      <td>0.069767</td>\n",
              "    </tr>\n",
              "  </tbody>\n",
              "</table>\n",
              "</div>\n",
              "    <div class=\"colab-df-buttons\">\n",
              "\n",
              "  <div class=\"colab-df-container\">\n",
              "    <button class=\"colab-df-convert\" onclick=\"convertToInteractive('df-a490c4f6-e6c1-429d-ad7a-ebd4a76d8d1a')\"\n",
              "            title=\"Convert this dataframe to an interactive table.\"\n",
              "            style=\"display:none;\">\n",
              "\n",
              "  <svg xmlns=\"http://www.w3.org/2000/svg\" height=\"24px\" viewBox=\"0 -960 960 960\">\n",
              "    <path d=\"M120-120v-720h720v720H120Zm60-500h600v-160H180v160Zm220 220h160v-160H400v160Zm0 220h160v-160H400v160ZM180-400h160v-160H180v160Zm440 0h160v-160H620v160ZM180-180h160v-160H180v160Zm440 0h160v-160H620v160Z\"/>\n",
              "  </svg>\n",
              "    </button>\n",
              "\n",
              "  <style>\n",
              "    .colab-df-container {\n",
              "      display:flex;\n",
              "      gap: 12px;\n",
              "    }\n",
              "\n",
              "    .colab-df-convert {\n",
              "      background-color: #E8F0FE;\n",
              "      border: none;\n",
              "      border-radius: 50%;\n",
              "      cursor: pointer;\n",
              "      display: none;\n",
              "      fill: #1967D2;\n",
              "      height: 32px;\n",
              "      padding: 0 0 0 0;\n",
              "      width: 32px;\n",
              "    }\n",
              "\n",
              "    .colab-df-convert:hover {\n",
              "      background-color: #E2EBFA;\n",
              "      box-shadow: 0px 1px 2px rgba(60, 64, 67, 0.3), 0px 1px 3px 1px rgba(60, 64, 67, 0.15);\n",
              "      fill: #174EA6;\n",
              "    }\n",
              "\n",
              "    .colab-df-buttons div {\n",
              "      margin-bottom: 4px;\n",
              "    }\n",
              "\n",
              "    [theme=dark] .colab-df-convert {\n",
              "      background-color: #3B4455;\n",
              "      fill: #D2E3FC;\n",
              "    }\n",
              "\n",
              "    [theme=dark] .colab-df-convert:hover {\n",
              "      background-color: #434B5C;\n",
              "      box-shadow: 0px 1px 3px 1px rgba(0, 0, 0, 0.15);\n",
              "      filter: drop-shadow(0px 1px 2px rgba(0, 0, 0, 0.3));\n",
              "      fill: #FFFFFF;\n",
              "    }\n",
              "  </style>\n",
              "\n",
              "    <script>\n",
              "      const buttonEl =\n",
              "        document.querySelector('#df-a490c4f6-e6c1-429d-ad7a-ebd4a76d8d1a button.colab-df-convert');\n",
              "      buttonEl.style.display =\n",
              "        google.colab.kernel.accessAllowed ? 'block' : 'none';\n",
              "\n",
              "      async function convertToInteractive(key) {\n",
              "        const element = document.querySelector('#df-a490c4f6-e6c1-429d-ad7a-ebd4a76d8d1a');\n",
              "        const dataTable =\n",
              "          await google.colab.kernel.invokeFunction('convertToInteractive',\n",
              "                                                    [key], {});\n",
              "        if (!dataTable) return;\n",
              "\n",
              "        const docLinkHtml = 'Like what you see? Visit the ' +\n",
              "          '<a target=\"_blank\" href=https://colab.research.google.com/notebooks/data_table.ipynb>data table notebook</a>'\n",
              "          + ' to learn more about interactive tables.';\n",
              "        element.innerHTML = '';\n",
              "        dataTable['output_type'] = 'display_data';\n",
              "        await google.colab.output.renderOutput(dataTable, element);\n",
              "        const docLink = document.createElement('div');\n",
              "        docLink.innerHTML = docLinkHtml;\n",
              "        element.appendChild(docLink);\n",
              "      }\n",
              "    </script>\n",
              "  </div>\n",
              "\n",
              "\n",
              "<div id=\"df-bd9441ea-e6f5-4c15-8117-36b70cb8bcba\">\n",
              "  <button class=\"colab-df-quickchart\" onclick=\"quickchart('df-bd9441ea-e6f5-4c15-8117-36b70cb8bcba')\"\n",
              "            title=\"Suggest charts\"\n",
              "            style=\"display:none;\">\n",
              "\n",
              "<svg xmlns=\"http://www.w3.org/2000/svg\" height=\"24px\"viewBox=\"0 0 24 24\"\n",
              "     width=\"24px\">\n",
              "    <g>\n",
              "        <path d=\"M19 3H5c-1.1 0-2 .9-2 2v14c0 1.1.9 2 2 2h14c1.1 0 2-.9 2-2V5c0-1.1-.9-2-2-2zM9 17H7v-7h2v7zm4 0h-2V7h2v10zm4 0h-2v-4h2v4z\"/>\n",
              "    </g>\n",
              "</svg>\n",
              "  </button>\n",
              "\n",
              "<style>\n",
              "  .colab-df-quickchart {\n",
              "      --bg-color: #E8F0FE;\n",
              "      --fill-color: #1967D2;\n",
              "      --hover-bg-color: #E2EBFA;\n",
              "      --hover-fill-color: #174EA6;\n",
              "      --disabled-fill-color: #AAA;\n",
              "      --disabled-bg-color: #DDD;\n",
              "  }\n",
              "\n",
              "  [theme=dark] .colab-df-quickchart {\n",
              "      --bg-color: #3B4455;\n",
              "      --fill-color: #D2E3FC;\n",
              "      --hover-bg-color: #434B5C;\n",
              "      --hover-fill-color: #FFFFFF;\n",
              "      --disabled-bg-color: #3B4455;\n",
              "      --disabled-fill-color: #666;\n",
              "  }\n",
              "\n",
              "  .colab-df-quickchart {\n",
              "    background-color: var(--bg-color);\n",
              "    border: none;\n",
              "    border-radius: 50%;\n",
              "    cursor: pointer;\n",
              "    display: none;\n",
              "    fill: var(--fill-color);\n",
              "    height: 32px;\n",
              "    padding: 0;\n",
              "    width: 32px;\n",
              "  }\n",
              "\n",
              "  .colab-df-quickchart:hover {\n",
              "    background-color: var(--hover-bg-color);\n",
              "    box-shadow: 0 1px 2px rgba(60, 64, 67, 0.3), 0 1px 3px 1px rgba(60, 64, 67, 0.15);\n",
              "    fill: var(--button-hover-fill-color);\n",
              "  }\n",
              "\n",
              "  .colab-df-quickchart-complete:disabled,\n",
              "  .colab-df-quickchart-complete:disabled:hover {\n",
              "    background-color: var(--disabled-bg-color);\n",
              "    fill: var(--disabled-fill-color);\n",
              "    box-shadow: none;\n",
              "  }\n",
              "\n",
              "  .colab-df-spinner {\n",
              "    border: 2px solid var(--fill-color);\n",
              "    border-color: transparent;\n",
              "    border-bottom-color: var(--fill-color);\n",
              "    animation:\n",
              "      spin 1s steps(1) infinite;\n",
              "  }\n",
              "\n",
              "  @keyframes spin {\n",
              "    0% {\n",
              "      border-color: transparent;\n",
              "      border-bottom-color: var(--fill-color);\n",
              "      border-left-color: var(--fill-color);\n",
              "    }\n",
              "    20% {\n",
              "      border-color: transparent;\n",
              "      border-left-color: var(--fill-color);\n",
              "      border-top-color: var(--fill-color);\n",
              "    }\n",
              "    30% {\n",
              "      border-color: transparent;\n",
              "      border-left-color: var(--fill-color);\n",
              "      border-top-color: var(--fill-color);\n",
              "      border-right-color: var(--fill-color);\n",
              "    }\n",
              "    40% {\n",
              "      border-color: transparent;\n",
              "      border-right-color: var(--fill-color);\n",
              "      border-top-color: var(--fill-color);\n",
              "    }\n",
              "    60% {\n",
              "      border-color: transparent;\n",
              "      border-right-color: var(--fill-color);\n",
              "    }\n",
              "    80% {\n",
              "      border-color: transparent;\n",
              "      border-right-color: var(--fill-color);\n",
              "      border-bottom-color: var(--fill-color);\n",
              "    }\n",
              "    90% {\n",
              "      border-color: transparent;\n",
              "      border-bottom-color: var(--fill-color);\n",
              "    }\n",
              "  }\n",
              "</style>\n",
              "\n",
              "  <script>\n",
              "    async function quickchart(key) {\n",
              "      const quickchartButtonEl =\n",
              "        document.querySelector('#' + key + ' button');\n",
              "      quickchartButtonEl.disabled = true;  // To prevent multiple clicks.\n",
              "      quickchartButtonEl.classList.add('colab-df-spinner');\n",
              "      try {\n",
              "        const charts = await google.colab.kernel.invokeFunction(\n",
              "            'suggestCharts', [key], {});\n",
              "      } catch (error) {\n",
              "        console.error('Error during call to suggestCharts:', error);\n",
              "      }\n",
              "      quickchartButtonEl.classList.remove('colab-df-spinner');\n",
              "      quickchartButtonEl.classList.add('colab-df-quickchart-complete');\n",
              "    }\n",
              "    (() => {\n",
              "      let quickchartButtonEl =\n",
              "        document.querySelector('#df-bd9441ea-e6f5-4c15-8117-36b70cb8bcba button');\n",
              "      quickchartButtonEl.style.display =\n",
              "        google.colab.kernel.accessAllowed ? 'block' : 'none';\n",
              "    })();\n",
              "  </script>\n",
              "</div>\n",
              "\n",
              "  <div id=\"id_017067f3-c841-479f-9566-6f43cdb35782\">\n",
              "    <style>\n",
              "      .colab-df-generate {\n",
              "        background-color: #E8F0FE;\n",
              "        border: none;\n",
              "        border-radius: 50%;\n",
              "        cursor: pointer;\n",
              "        display: none;\n",
              "        fill: #1967D2;\n",
              "        height: 32px;\n",
              "        padding: 0 0 0 0;\n",
              "        width: 32px;\n",
              "      }\n",
              "\n",
              "      .colab-df-generate:hover {\n",
              "        background-color: #E2EBFA;\n",
              "        box-shadow: 0px 1px 2px rgba(60, 64, 67, 0.3), 0px 1px 3px 1px rgba(60, 64, 67, 0.15);\n",
              "        fill: #174EA6;\n",
              "      }\n",
              "\n",
              "      [theme=dark] .colab-df-generate {\n",
              "        background-color: #3B4455;\n",
              "        fill: #D2E3FC;\n",
              "      }\n",
              "\n",
              "      [theme=dark] .colab-df-generate:hover {\n",
              "        background-color: #434B5C;\n",
              "        box-shadow: 0px 1px 3px 1px rgba(0, 0, 0, 0.15);\n",
              "        filter: drop-shadow(0px 1px 2px rgba(0, 0, 0, 0.3));\n",
              "        fill: #FFFFFF;\n",
              "      }\n",
              "    </style>\n",
              "    <button class=\"colab-df-generate\" onclick=\"generateWithVariable('AI_pos_dev_Age')\"\n",
              "            title=\"Generate code using this dataframe.\"\n",
              "            style=\"display:none;\">\n",
              "\n",
              "  <svg xmlns=\"http://www.w3.org/2000/svg\" height=\"24px\"viewBox=\"0 0 24 24\"\n",
              "       width=\"24px\">\n",
              "    <path d=\"M7,19H8.4L18.45,9,17,7.55,7,17.6ZM5,21V16.75L18.45,3.32a2,2,0,0,1,2.83,0l1.4,1.43a1.91,1.91,0,0,1,.58,1.4,1.91,1.91,0,0,1-.58,1.4L9.25,21ZM18.45,9,17,7.55Zm-12,3A5.31,5.31,0,0,0,4.9,8.1,5.31,5.31,0,0,0,1,6.5,5.31,5.31,0,0,0,4.9,4.9,5.31,5.31,0,0,0,6.5,1,5.31,5.31,0,0,0,8.1,4.9,5.31,5.31,0,0,0,12,6.5,5.46,5.46,0,0,0,6.5,12Z\"/>\n",
              "  </svg>\n",
              "    </button>\n",
              "    <script>\n",
              "      (() => {\n",
              "      const buttonEl =\n",
              "        document.querySelector('#id_017067f3-c841-479f-9566-6f43cdb35782 button.colab-df-generate');\n",
              "      buttonEl.style.display =\n",
              "        google.colab.kernel.accessAllowed ? 'block' : 'none';\n",
              "\n",
              "      buttonEl.onclick = () => {\n",
              "        google.colab.notebook.generateWithVariable('AI_pos_dev_Age');\n",
              "      }\n",
              "      })();\n",
              "    </script>\n",
              "  </div>\n",
              "\n",
              "    </div>\n",
              "  </div>\n"
            ],
            "application/vnd.google.colaboratory.intrinsic+json": {
              "type": "dataframe",
              "variable_name": "AI_pos_dev_Age",
              "summary": "{\n  \"name\": \"AI_pos_dev_Age\",\n  \"rows\": 4,\n  \"fields\": [\n    {\n      \"column\": \"Age\",\n      \"properties\": {\n        \"dtype\": \"number\",\n        \"std\": 1,\n        \"min\": 1,\n        \"max\": 4,\n        \"num_unique_values\": 4,\n        \"samples\": [\n          2,\n          4,\n          1\n        ],\n        \"semantic_type\": \"\",\n        \"description\": \"\"\n      }\n    },\n    {\n      \"column\": 1.0,\n      \"properties\": {\n        \"dtype\": \"number\",\n        \"std\": 0.03979360817518694,\n        \"min\": 0.09565217391304348,\n        \"max\": 0.19230769230769232,\n        \"num_unique_values\": 4,\n        \"samples\": [\n          0.19230769230769232,\n          0.13953488372093023,\n          0.09565217391304348\n        ],\n        \"semantic_type\": \"\",\n        \"description\": \"\"\n      }\n    },\n    {\n      \"column\": 2.0,\n      \"properties\": {\n        \"dtype\": \"number\",\n        \"std\": 0.034357461618690015,\n        \"min\": 0.11392405063291139,\n        \"max\": 0.18604651162790697,\n        \"num_unique_values\": 4,\n        \"samples\": [\n          0.18269230769230768,\n          0.18604651162790697,\n          0.14347826086956522\n        ],\n        \"semantic_type\": \"\",\n        \"description\": \"\"\n      }\n    },\n    {\n      \"column\": 3.0,\n      \"properties\": {\n        \"dtype\": \"number\",\n        \"std\": 0.07885961068848776,\n        \"min\": 0.21153846153846154,\n        \"max\": 0.3953488372093023,\n        \"num_unique_values\": 4,\n        \"samples\": [\n          0.21153846153846154,\n          0.3953488372093023,\n          0.2608695652173913\n        ],\n        \"semantic_type\": \"\",\n        \"description\": \"\"\n      }\n    },\n    {\n      \"column\": 4.0,\n      \"properties\": {\n        \"dtype\": \"number\",\n        \"std\": 0.030912970963376668,\n        \"min\": 0.189873417721519,\n        \"max\": 0.2565217391304348,\n        \"num_unique_values\": 4,\n        \"samples\": [\n          0.19230769230769232,\n          0.20930232558139536,\n          0.2565217391304348\n        ],\n        \"semantic_type\": \"\",\n        \"description\": \"\"\n      }\n    },\n    {\n      \"column\": 5.0,\n      \"properties\": {\n        \"dtype\": \"number\",\n        \"std\": 0.08107110117918415,\n        \"min\": 0.06976744186046512,\n        \"max\": 0.24347826086956523,\n        \"num_unique_values\": 4,\n        \"samples\": [\n          0.22115384615384615,\n          0.06976744186046512,\n          0.24347826086956523\n        ],\n        \"semantic_type\": \"\",\n        \"description\": \"\"\n      }\n    }\n  ]\n}"
            }
          },
          "metadata": {},
          "execution_count": 56
        }
      ],
      "source": [
        "print(AI_pos_dev_Age_contingency)\n",
        "AI_pos_dev_Age\n",
        "#matched up good"
      ]
    },
    {
      "cell_type": "code",
      "execution_count": 59,
      "metadata": {
        "id": "nahJZyIncNmE"
      },
      "outputs": [],
      "source": [
        "Ordinal_Categorical_variables = Ordinal_Categorical_variables.dropna()"
      ]
    },
    {
      "cell_type": "code",
      "execution_count": 60,
      "metadata": {
        "id": "OlZngu41dPqN"
      },
      "outputs": [],
      "source": [
        "Ordinal_Categorical_variables['Gender_identity'] = Ordinal_Categorical_variables['Gender_identity'].astype(int)\n",
        "Ordinal_Categorical_variables['Artist'] = Ordinal_Categorical_variables['Artist'].astype(int)\n",
        "Ordinal_Categorical_variables['Art_practice'] = Ordinal_Categorical_variables['Art_practice'].astype(int)\n",
        "Ordinal_Categorical_variables['AI_models_familiarity'] = Ordinal_Categorical_variables['AI_models_familiarity'].astype(int)\n",
        "Ordinal_Categorical_variables['compensation'] = Ordinal_Categorical_variables['compensation'].astype(int)\n",
        "Ordinal_Categorical_variables['Age'] = Ordinal_Categorical_variables['Age'].astype(int)"
      ]
    },
    {
      "cell_type": "code",
      "execution_count": 61,
      "metadata": {
        "colab": {
          "base_uri": "https://localhost:8080/"
        },
        "id": "lmLWbX85yteU",
        "outputId": "5071ae35-06e9-4873-e321-92f3b9125b8a"
      },
      "outputs": [
        {
          "output_type": "execute_result",
          "data": {
            "text/plain": [
              "0      3\n",
              "1      3\n",
              "2      3\n",
              "3      4\n",
              "4      1\n",
              "      ..\n",
              "508    1\n",
              "509    3\n",
              "510    1\n",
              "511    1\n",
              "512    3\n",
              "Name: Age, Length: 454, dtype: int64"
            ]
          },
          "metadata": {},
          "execution_count": 61
        }
      ],
      "source": [
        "Ordinal_Categorical_variables['AI_pos_development_4art'] = Ordinal_Categorical_variables['AI_pos_development_4art'].astype(int)\n",
        "Ordinal_Categorical_variables['AI_pos_development_4art']\n",
        "Ordinal_Categorical_variables['Age']"
      ]
    },
    {
      "cell_type": "markdown",
      "source": [
        "#Kruskal Wallis"
      ],
      "metadata": {
        "id": "26B7ZxDMg2eH"
      }
    },
    {
      "cell_type": "markdown",
      "metadata": {
        "id": "QZ_yymaLqqB0"
      },
      "source": [
        "Kruskal wallis 1 https://pingouin-stats.org/build/html/generated/pingouin.kruskal.html"
      ]
    },
    {
      "cell_type": "code",
      "execution_count": 62,
      "metadata": {
        "colab": {
          "base_uri": "https://localhost:8080/"
        },
        "id": "v46ezgzVqnIK",
        "outputId": "514fbd31-bdc2-48e4-a04a-02dc23905739"
      },
      "outputs": [
        {
          "output_type": "execute_result",
          "data": {
            "text/plain": [
              "KruskalResult(statistic=8.345451383127612, pvalue=0.039386563646953844)"
            ]
          },
          "metadata": {},
          "execution_count": 62
        }
      ],
      "source": [
        "#checking that the results are the same in two different KW test modules and they are phew!\n",
        "\n",
        "\n",
        "Group1 = Ordinal_Categorical_variables.loc[Ordinal_Categorical_variables['Age'] == 1, 'AI_pos_development_4art']\n",
        "Group2 = Ordinal_Categorical_variables.loc[Ordinal_Categorical_variables['Age'] == 2, 'AI_pos_development_4art']\n",
        "Group3 = Ordinal_Categorical_variables.loc[Ordinal_Categorical_variables['Age'] == 3, 'AI_pos_development_4art']\n",
        "Group4 = Ordinal_Categorical_variables.loc[Ordinal_Categorical_variables['Age'] == 4, 'AI_pos_development_4art']\n",
        "\n",
        "\n",
        "stats.kruskal(Group1, Group2, Group3, Group4)\n"
      ]
    },
    {
      "cell_type": "code",
      "execution_count": 63,
      "metadata": {
        "colab": {
          "base_uri": "https://localhost:8080/",
          "height": 81
        },
        "id": "jQvGfm3vqpPz",
        "outputId": "2171637b-b232-41f6-b47b-3b22dfa2dbec"
      },
      "outputs": [
        {
          "output_type": "execute_result",
          "data": {
            "text/plain": [
              "        Source  ddof1         H     p-unc\n",
              "Kruskal    Age      3  8.345451  0.039387"
            ],
            "text/html": [
              "\n",
              "  <div id=\"df-d2a809e0-aca4-4f48-b514-9acb54ce58af\" class=\"colab-df-container\">\n",
              "    <div>\n",
              "<style scoped>\n",
              "    .dataframe tbody tr th:only-of-type {\n",
              "        vertical-align: middle;\n",
              "    }\n",
              "\n",
              "    .dataframe tbody tr th {\n",
              "        vertical-align: top;\n",
              "    }\n",
              "\n",
              "    .dataframe thead th {\n",
              "        text-align: right;\n",
              "    }\n",
              "</style>\n",
              "<table border=\"1\" class=\"dataframe\">\n",
              "  <thead>\n",
              "    <tr style=\"text-align: right;\">\n",
              "      <th></th>\n",
              "      <th>Source</th>\n",
              "      <th>ddof1</th>\n",
              "      <th>H</th>\n",
              "      <th>p-unc</th>\n",
              "    </tr>\n",
              "  </thead>\n",
              "  <tbody>\n",
              "    <tr>\n",
              "      <th>Kruskal</th>\n",
              "      <td>Age</td>\n",
              "      <td>3</td>\n",
              "      <td>8.345451</td>\n",
              "      <td>0.039387</td>\n",
              "    </tr>\n",
              "  </tbody>\n",
              "</table>\n",
              "</div>\n",
              "    <div class=\"colab-df-buttons\">\n",
              "\n",
              "  <div class=\"colab-df-container\">\n",
              "    <button class=\"colab-df-convert\" onclick=\"convertToInteractive('df-d2a809e0-aca4-4f48-b514-9acb54ce58af')\"\n",
              "            title=\"Convert this dataframe to an interactive table.\"\n",
              "            style=\"display:none;\">\n",
              "\n",
              "  <svg xmlns=\"http://www.w3.org/2000/svg\" height=\"24px\" viewBox=\"0 -960 960 960\">\n",
              "    <path d=\"M120-120v-720h720v720H120Zm60-500h600v-160H180v160Zm220 220h160v-160H400v160Zm0 220h160v-160H400v160ZM180-400h160v-160H180v160Zm440 0h160v-160H620v160ZM180-180h160v-160H180v160Zm440 0h160v-160H620v160Z\"/>\n",
              "  </svg>\n",
              "    </button>\n",
              "\n",
              "  <style>\n",
              "    .colab-df-container {\n",
              "      display:flex;\n",
              "      gap: 12px;\n",
              "    }\n",
              "\n",
              "    .colab-df-convert {\n",
              "      background-color: #E8F0FE;\n",
              "      border: none;\n",
              "      border-radius: 50%;\n",
              "      cursor: pointer;\n",
              "      display: none;\n",
              "      fill: #1967D2;\n",
              "      height: 32px;\n",
              "      padding: 0 0 0 0;\n",
              "      width: 32px;\n",
              "    }\n",
              "\n",
              "    .colab-df-convert:hover {\n",
              "      background-color: #E2EBFA;\n",
              "      box-shadow: 0px 1px 2px rgba(60, 64, 67, 0.3), 0px 1px 3px 1px rgba(60, 64, 67, 0.15);\n",
              "      fill: #174EA6;\n",
              "    }\n",
              "\n",
              "    .colab-df-buttons div {\n",
              "      margin-bottom: 4px;\n",
              "    }\n",
              "\n",
              "    [theme=dark] .colab-df-convert {\n",
              "      background-color: #3B4455;\n",
              "      fill: #D2E3FC;\n",
              "    }\n",
              "\n",
              "    [theme=dark] .colab-df-convert:hover {\n",
              "      background-color: #434B5C;\n",
              "      box-shadow: 0px 1px 3px 1px rgba(0, 0, 0, 0.15);\n",
              "      filter: drop-shadow(0px 1px 2px rgba(0, 0, 0, 0.3));\n",
              "      fill: #FFFFFF;\n",
              "    }\n",
              "  </style>\n",
              "\n",
              "    <script>\n",
              "      const buttonEl =\n",
              "        document.querySelector('#df-d2a809e0-aca4-4f48-b514-9acb54ce58af button.colab-df-convert');\n",
              "      buttonEl.style.display =\n",
              "        google.colab.kernel.accessAllowed ? 'block' : 'none';\n",
              "\n",
              "      async function convertToInteractive(key) {\n",
              "        const element = document.querySelector('#df-d2a809e0-aca4-4f48-b514-9acb54ce58af');\n",
              "        const dataTable =\n",
              "          await google.colab.kernel.invokeFunction('convertToInteractive',\n",
              "                                                    [key], {});\n",
              "        if (!dataTable) return;\n",
              "\n",
              "        const docLinkHtml = 'Like what you see? Visit the ' +\n",
              "          '<a target=\"_blank\" href=https://colab.research.google.com/notebooks/data_table.ipynb>data table notebook</a>'\n",
              "          + ' to learn more about interactive tables.';\n",
              "        element.innerHTML = '';\n",
              "        dataTable['output_type'] = 'display_data';\n",
              "        await google.colab.output.renderOutput(dataTable, element);\n",
              "        const docLink = document.createElement('div');\n",
              "        docLink.innerHTML = docLinkHtml;\n",
              "        element.appendChild(docLink);\n",
              "      }\n",
              "    </script>\n",
              "  </div>\n",
              "\n",
              "\n",
              "    </div>\n",
              "  </div>\n"
            ],
            "application/vnd.google.colaboratory.intrinsic+json": {
              "type": "dataframe",
              "summary": "{\n  \"name\": \"kruskal(data=Ordinal_Categorical_variables, dv='AI_pos_development_4art', between='Age')\",\n  \"rows\": 1,\n  \"fields\": [\n    {\n      \"column\": \"Source\",\n      \"properties\": {\n        \"dtype\": \"string\",\n        \"num_unique_values\": 1,\n        \"samples\": [\n          \"Age\"\n        ],\n        \"semantic_type\": \"\",\n        \"description\": \"\"\n      }\n    },\n    {\n      \"column\": \"ddof1\",\n      \"properties\": {\n        \"dtype\": \"number\",\n        \"std\": null,\n        \"min\": 3,\n        \"max\": 3,\n        \"num_unique_values\": 1,\n        \"samples\": [\n          3\n        ],\n        \"semantic_type\": \"\",\n        \"description\": \"\"\n      }\n    },\n    {\n      \"column\": \"H\",\n      \"properties\": {\n        \"dtype\": \"number\",\n        \"std\": null,\n        \"min\": 8.345451383127612,\n        \"max\": 8.345451383127612,\n        \"num_unique_values\": 1,\n        \"samples\": [\n          8.345451383127612\n        ],\n        \"semantic_type\": \"\",\n        \"description\": \"\"\n      }\n    },\n    {\n      \"column\": \"p-unc\",\n      \"properties\": {\n        \"dtype\": \"number\",\n        \"std\": null,\n        \"min\": 0.039386563646953844,\n        \"max\": 0.039386563646953844,\n        \"num_unique_values\": 1,\n        \"samples\": [\n          0.039386563646953844\n        ],\n        \"semantic_type\": \"\",\n        \"description\": \"\"\n      }\n    }\n  ]\n}"
            }
          },
          "metadata": {},
          "execution_count": 63
        }
      ],
      "source": [
        "#kw # 2\n",
        "\n",
        "kruskal(data=Ordinal_Categorical_variables, dv='AI_pos_development_4art', between='Age')\n",
        "\n",
        "\n"
      ]
    },
    {
      "cell_type": "code",
      "execution_count": 64,
      "metadata": {
        "id": "hC6bqo2PVESQ"
      },
      "outputs": [],
      "source": [
        "#Running the Kruskal Wallis\n",
        "SO_owned_AIuser_Artist_KW = kruskal(data=Ordinal_Categorical_variables, dv='Styleof_ownedby_AI_user', between='Artist')\n",
        "SO_owned_AIuser_Gender_KW = kruskal(data=Ordinal_Categorical_variables, dv='Styleof_ownedby_AI_user', between='Gender_identity')\n",
        "SO_owned_AIuser_Art_prac_KW = kruskal(data=Ordinal_Categorical_variables, dv='Styleof_ownedby_AI_user', between='Art_practice')\n",
        "SO_owned_AIuser_AI_models_fam_KW = kruskal(data=Ordinal_Categorical_variables, dv='Styleof_ownedby_AI_user', between='AI_models_familiarity')\n",
        "SO_owned_AIuser_Age_KW = kruskal(data=Ordinal_Categorical_variables, dv='Styleof_ownedby_AI_user', between='Age')\n",
        "SO_owned_AIuser_Fair_comp_KW = kruskal(data=Ordinal_Categorical_variables, dv='Styleof_ownedby_AI_user', between='compensation')\n",
        "\n",
        "\n",
        "SO_owned_OGartist_Artist_KW = kruskal(data=Ordinal_Categorical_variables, dv='Styleof_ownedby_OG_artist', between='Artist')\n",
        "SO_owned_OGartist_Gender_KW = kruskal(data=Ordinal_Categorical_variables, dv='Styleof_ownedby_OG_artist', between='Gender_identity')\n",
        "SO_owned_OGartist_Art_prac_KW = kruskal(data=Ordinal_Categorical_variables, dv='Styleof_ownedby_OG_artist', between='Art_practice')\n",
        "SO_owned_OGartist_AI_models_fam_KW = kruskal(data=Ordinal_Categorical_variables, dv='Styleof_ownedby_OG_artist', between='AI_models_familiarity')\n",
        "SO_owned_OGartist_Age_KW = kruskal(data=Ordinal_Categorical_variables, dv='Styleof_ownedby_OG_artist', between='Age')\n",
        "SO_owned_OGartist_Fair_comp_KW = kruskal(data=Ordinal_Categorical_variables, dv='Styleof_ownedby_OG_artist', between='compensation')\n",
        "\n",
        "\n",
        "SO_owned_AIcom_Artist_KW = kruskal(data=Ordinal_Categorical_variables, dv='Styleof_ownedby_AI_company', between='Artist')\n",
        "SO_owned_AIcom_Gender_KW = kruskal(data=Ordinal_Categorical_variables, dv='Styleof_ownedby_AI_company', between='Gender_identity')\n",
        "SO_owned_AIcom_Art_prac_KW = kruskal(data=Ordinal_Categorical_variables, dv='Styleof_ownedby_AI_company', between='Art_practice')\n",
        "SO_owned_AIcom_AI_models_fam_KW = kruskal(data=Ordinal_Categorical_variables, dv='Styleof_ownedby_AI_company', between='AI_models_familiarity')\n",
        "SO_owned_AIcom_Age_KW = kruskal(data=Ordinal_Categorical_variables, dv='Styleof_ownedby_AI_company', between='Age')\n",
        "SO_owned_AIcom_Fair_comp_KW = kruskal(data=Ordinal_Categorical_variables, dv='Styleof_ownedby_AI_company', between='compensation')\n",
        "\n",
        "\n",
        "Req_disclos_Artist_KW = kruskal(data=Ordinal_Categorical_variables, dv='Required_disclosure', between='Artist')\n",
        "Req_disclos_Gender_KW = kruskal(data=Ordinal_Categorical_variables, dv='Required_disclosure', between='Gender_identity')\n",
        "Req_disclos_Art_prac_KW = kruskal(data=Ordinal_Categorical_variables, dv='Required_disclosure', between='Art_practice')\n",
        "Req_disclos_AI_models_fam_KW = kruskal(data=Ordinal_Categorical_variables, dv='Required_disclosure', between='AI_models_familiarity')\n",
        "Req_disclos_Age_KW = kruskal(data=Ordinal_Categorical_variables, dv='Required_disclosure', between='Age')\n",
        "Req_disclos_Fair_comp_KW = kruskal(data=Ordinal_Categorical_variables, dv='Required_disclosure', between='compensation')\n",
        "\n",
        "\n",
        "AI_pos_dev_Artist_KW = kruskal(data=Ordinal_Categorical_variables, dv='AI_pos_development_4art', between='Artist')\n",
        "AI_pos_dev_Gender_KW = kruskal(data=Ordinal_Categorical_variables, dv='AI_pos_development_4art', between='Gender_identity')\n",
        "AI_pos_dev_Art_prac_KW = kruskal(data=Ordinal_Categorical_variables, dv='AI_pos_development_4art', between='Art_practice')\n",
        "AI_pos_dev_AI_models_fam_KW = kruskal(data=Ordinal_Categorical_variables, dv='AI_pos_development_4art', between='AI_models_familiarity')\n",
        "AI_pos_dev_Age_KW = kruskal(data=Ordinal_Categorical_variables, dv='AI_pos_development_4art', between='Age')\n",
        "AI_pos_dev_Fair_comp_KW = kruskal(data=Ordinal_Categorical_variables, dv='AI_pos_development_4art', between='compensation')\n",
        "\n",
        "\n",
        "AI_threat_Artist_KW = kruskal(data=Ordinal_Categorical_variables, dv='AI_threat_2art_workers', between='Artist')\n",
        "AI_threat_Gender_KW = kruskal(data=Ordinal_Categorical_variables, dv='AI_threat_2art_workers', between='Gender_identity')\n",
        "AI_threat_Art_prac_KW = kruskal(data=Ordinal_Categorical_variables, dv='AI_threat_2art_workers', between='Art_practice')\n",
        "AI_threat_AI_models_fam_KW = kruskal(data=Ordinal_Categorical_variables, dv='AI_threat_2art_workers', between='AI_models_familiarity')\n",
        "AI_threat_Age_KW = kruskal(data=Ordinal_Categorical_variables, dv='AI_threat_2art_workers', between='Age')\n",
        "AI_threat_Fair_comp_KW = kruskal(data=Ordinal_Categorical_variables, dv='AI_threat_2art_workers', between='compensation')\n"
      ]
    },
    {
      "cell_type": "code",
      "execution_count": 66,
      "metadata": {
        "colab": {
          "base_uri": "https://localhost:8080/",
          "height": 206
        },
        "id": "hmDn0wGglBCe",
        "outputId": "54c9a34e-66c5-4539-db76-482ae9298398"
      },
      "outputs": [
        {
          "output_type": "execute_result",
          "data": {
            "text/plain": [
              "                  Source  ddof1          H     p-unc\n",
              "0                 Artist      1   0.067037  0.795701\n",
              "1        Gender_identity      2  19.650716  0.000054\n",
              "2           Art_practice     13  17.971415  0.158608\n",
              "3  AI_models_familiarity      4   6.531461  0.162819\n",
              "4                    Age      3   2.547225  0.466817"
            ],
            "text/html": [
              "\n",
              "  <div id=\"df-1e801662-845d-4908-99e4-773b072928f8\" class=\"colab-df-container\">\n",
              "    <div>\n",
              "<style scoped>\n",
              "    .dataframe tbody tr th:only-of-type {\n",
              "        vertical-align: middle;\n",
              "    }\n",
              "\n",
              "    .dataframe tbody tr th {\n",
              "        vertical-align: top;\n",
              "    }\n",
              "\n",
              "    .dataframe thead th {\n",
              "        text-align: right;\n",
              "    }\n",
              "</style>\n",
              "<table border=\"1\" class=\"dataframe\">\n",
              "  <thead>\n",
              "    <tr style=\"text-align: right;\">\n",
              "      <th></th>\n",
              "      <th>Source</th>\n",
              "      <th>ddof1</th>\n",
              "      <th>H</th>\n",
              "      <th>p-unc</th>\n",
              "    </tr>\n",
              "  </thead>\n",
              "  <tbody>\n",
              "    <tr>\n",
              "      <th>0</th>\n",
              "      <td>Artist</td>\n",
              "      <td>1</td>\n",
              "      <td>0.067037</td>\n",
              "      <td>0.795701</td>\n",
              "    </tr>\n",
              "    <tr>\n",
              "      <th>1</th>\n",
              "      <td>Gender_identity</td>\n",
              "      <td>2</td>\n",
              "      <td>19.650716</td>\n",
              "      <td>0.000054</td>\n",
              "    </tr>\n",
              "    <tr>\n",
              "      <th>2</th>\n",
              "      <td>Art_practice</td>\n",
              "      <td>13</td>\n",
              "      <td>17.971415</td>\n",
              "      <td>0.158608</td>\n",
              "    </tr>\n",
              "    <tr>\n",
              "      <th>3</th>\n",
              "      <td>AI_models_familiarity</td>\n",
              "      <td>4</td>\n",
              "      <td>6.531461</td>\n",
              "      <td>0.162819</td>\n",
              "    </tr>\n",
              "    <tr>\n",
              "      <th>4</th>\n",
              "      <td>Age</td>\n",
              "      <td>3</td>\n",
              "      <td>2.547225</td>\n",
              "      <td>0.466817</td>\n",
              "    </tr>\n",
              "  </tbody>\n",
              "</table>\n",
              "</div>\n",
              "    <div class=\"colab-df-buttons\">\n",
              "\n",
              "  <div class=\"colab-df-container\">\n",
              "    <button class=\"colab-df-convert\" onclick=\"convertToInteractive('df-1e801662-845d-4908-99e4-773b072928f8')\"\n",
              "            title=\"Convert this dataframe to an interactive table.\"\n",
              "            style=\"display:none;\">\n",
              "\n",
              "  <svg xmlns=\"http://www.w3.org/2000/svg\" height=\"24px\" viewBox=\"0 -960 960 960\">\n",
              "    <path d=\"M120-120v-720h720v720H120Zm60-500h600v-160H180v160Zm220 220h160v-160H400v160Zm0 220h160v-160H400v160ZM180-400h160v-160H180v160Zm440 0h160v-160H620v160ZM180-180h160v-160H180v160Zm440 0h160v-160H620v160Z\"/>\n",
              "  </svg>\n",
              "    </button>\n",
              "\n",
              "  <style>\n",
              "    .colab-df-container {\n",
              "      display:flex;\n",
              "      gap: 12px;\n",
              "    }\n",
              "\n",
              "    .colab-df-convert {\n",
              "      background-color: #E8F0FE;\n",
              "      border: none;\n",
              "      border-radius: 50%;\n",
              "      cursor: pointer;\n",
              "      display: none;\n",
              "      fill: #1967D2;\n",
              "      height: 32px;\n",
              "      padding: 0 0 0 0;\n",
              "      width: 32px;\n",
              "    }\n",
              "\n",
              "    .colab-df-convert:hover {\n",
              "      background-color: #E2EBFA;\n",
              "      box-shadow: 0px 1px 2px rgba(60, 64, 67, 0.3), 0px 1px 3px 1px rgba(60, 64, 67, 0.15);\n",
              "      fill: #174EA6;\n",
              "    }\n",
              "\n",
              "    .colab-df-buttons div {\n",
              "      margin-bottom: 4px;\n",
              "    }\n",
              "\n",
              "    [theme=dark] .colab-df-convert {\n",
              "      background-color: #3B4455;\n",
              "      fill: #D2E3FC;\n",
              "    }\n",
              "\n",
              "    [theme=dark] .colab-df-convert:hover {\n",
              "      background-color: #434B5C;\n",
              "      box-shadow: 0px 1px 3px 1px rgba(0, 0, 0, 0.15);\n",
              "      filter: drop-shadow(0px 1px 2px rgba(0, 0, 0, 0.3));\n",
              "      fill: #FFFFFF;\n",
              "    }\n",
              "  </style>\n",
              "\n",
              "    <script>\n",
              "      const buttonEl =\n",
              "        document.querySelector('#df-1e801662-845d-4908-99e4-773b072928f8 button.colab-df-convert');\n",
              "      buttonEl.style.display =\n",
              "        google.colab.kernel.accessAllowed ? 'block' : 'none';\n",
              "\n",
              "      async function convertToInteractive(key) {\n",
              "        const element = document.querySelector('#df-1e801662-845d-4908-99e4-773b072928f8');\n",
              "        const dataTable =\n",
              "          await google.colab.kernel.invokeFunction('convertToInteractive',\n",
              "                                                    [key], {});\n",
              "        if (!dataTable) return;\n",
              "\n",
              "        const docLinkHtml = 'Like what you see? Visit the ' +\n",
              "          '<a target=\"_blank\" href=https://colab.research.google.com/notebooks/data_table.ipynb>data table notebook</a>'\n",
              "          + ' to learn more about interactive tables.';\n",
              "        element.innerHTML = '';\n",
              "        dataTable['output_type'] = 'display_data';\n",
              "        await google.colab.output.renderOutput(dataTable, element);\n",
              "        const docLink = document.createElement('div');\n",
              "        docLink.innerHTML = docLinkHtml;\n",
              "        element.appendChild(docLink);\n",
              "      }\n",
              "    </script>\n",
              "  </div>\n",
              "\n",
              "\n",
              "<div id=\"df-fea28094-1bc6-4a5b-a751-d90e205326c4\">\n",
              "  <button class=\"colab-df-quickchart\" onclick=\"quickchart('df-fea28094-1bc6-4a5b-a751-d90e205326c4')\"\n",
              "            title=\"Suggest charts\"\n",
              "            style=\"display:none;\">\n",
              "\n",
              "<svg xmlns=\"http://www.w3.org/2000/svg\" height=\"24px\"viewBox=\"0 0 24 24\"\n",
              "     width=\"24px\">\n",
              "    <g>\n",
              "        <path d=\"M19 3H5c-1.1 0-2 .9-2 2v14c0 1.1.9 2 2 2h14c1.1 0 2-.9 2-2V5c0-1.1-.9-2-2-2zM9 17H7v-7h2v7zm4 0h-2V7h2v10zm4 0h-2v-4h2v4z\"/>\n",
              "    </g>\n",
              "</svg>\n",
              "  </button>\n",
              "\n",
              "<style>\n",
              "  .colab-df-quickchart {\n",
              "      --bg-color: #E8F0FE;\n",
              "      --fill-color: #1967D2;\n",
              "      --hover-bg-color: #E2EBFA;\n",
              "      --hover-fill-color: #174EA6;\n",
              "      --disabled-fill-color: #AAA;\n",
              "      --disabled-bg-color: #DDD;\n",
              "  }\n",
              "\n",
              "  [theme=dark] .colab-df-quickchart {\n",
              "      --bg-color: #3B4455;\n",
              "      --fill-color: #D2E3FC;\n",
              "      --hover-bg-color: #434B5C;\n",
              "      --hover-fill-color: #FFFFFF;\n",
              "      --disabled-bg-color: #3B4455;\n",
              "      --disabled-fill-color: #666;\n",
              "  }\n",
              "\n",
              "  .colab-df-quickchart {\n",
              "    background-color: var(--bg-color);\n",
              "    border: none;\n",
              "    border-radius: 50%;\n",
              "    cursor: pointer;\n",
              "    display: none;\n",
              "    fill: var(--fill-color);\n",
              "    height: 32px;\n",
              "    padding: 0;\n",
              "    width: 32px;\n",
              "  }\n",
              "\n",
              "  .colab-df-quickchart:hover {\n",
              "    background-color: var(--hover-bg-color);\n",
              "    box-shadow: 0 1px 2px rgba(60, 64, 67, 0.3), 0 1px 3px 1px rgba(60, 64, 67, 0.15);\n",
              "    fill: var(--button-hover-fill-color);\n",
              "  }\n",
              "\n",
              "  .colab-df-quickchart-complete:disabled,\n",
              "  .colab-df-quickchart-complete:disabled:hover {\n",
              "    background-color: var(--disabled-bg-color);\n",
              "    fill: var(--disabled-fill-color);\n",
              "    box-shadow: none;\n",
              "  }\n",
              "\n",
              "  .colab-df-spinner {\n",
              "    border: 2px solid var(--fill-color);\n",
              "    border-color: transparent;\n",
              "    border-bottom-color: var(--fill-color);\n",
              "    animation:\n",
              "      spin 1s steps(1) infinite;\n",
              "  }\n",
              "\n",
              "  @keyframes spin {\n",
              "    0% {\n",
              "      border-color: transparent;\n",
              "      border-bottom-color: var(--fill-color);\n",
              "      border-left-color: var(--fill-color);\n",
              "    }\n",
              "    20% {\n",
              "      border-color: transparent;\n",
              "      border-left-color: var(--fill-color);\n",
              "      border-top-color: var(--fill-color);\n",
              "    }\n",
              "    30% {\n",
              "      border-color: transparent;\n",
              "      border-left-color: var(--fill-color);\n",
              "      border-top-color: var(--fill-color);\n",
              "      border-right-color: var(--fill-color);\n",
              "    }\n",
              "    40% {\n",
              "      border-color: transparent;\n",
              "      border-right-color: var(--fill-color);\n",
              "      border-top-color: var(--fill-color);\n",
              "    }\n",
              "    60% {\n",
              "      border-color: transparent;\n",
              "      border-right-color: var(--fill-color);\n",
              "    }\n",
              "    80% {\n",
              "      border-color: transparent;\n",
              "      border-right-color: var(--fill-color);\n",
              "      border-bottom-color: var(--fill-color);\n",
              "    }\n",
              "    90% {\n",
              "      border-color: transparent;\n",
              "      border-bottom-color: var(--fill-color);\n",
              "    }\n",
              "  }\n",
              "</style>\n",
              "\n",
              "  <script>\n",
              "    async function quickchart(key) {\n",
              "      const quickchartButtonEl =\n",
              "        document.querySelector('#' + key + ' button');\n",
              "      quickchartButtonEl.disabled = true;  // To prevent multiple clicks.\n",
              "      quickchartButtonEl.classList.add('colab-df-spinner');\n",
              "      try {\n",
              "        const charts = await google.colab.kernel.invokeFunction(\n",
              "            'suggestCharts', [key], {});\n",
              "      } catch (error) {\n",
              "        console.error('Error during call to suggestCharts:', error);\n",
              "      }\n",
              "      quickchartButtonEl.classList.remove('colab-df-spinner');\n",
              "      quickchartButtonEl.classList.add('colab-df-quickchart-complete');\n",
              "    }\n",
              "    (() => {\n",
              "      let quickchartButtonEl =\n",
              "        document.querySelector('#df-fea28094-1bc6-4a5b-a751-d90e205326c4 button');\n",
              "      quickchartButtonEl.style.display =\n",
              "        google.colab.kernel.accessAllowed ? 'block' : 'none';\n",
              "    })();\n",
              "  </script>\n",
              "</div>\n",
              "\n",
              "    </div>\n",
              "  </div>\n"
            ],
            "application/vnd.google.colaboratory.intrinsic+json": {
              "type": "dataframe",
              "variable_name": "Ordinal_Categorical_variables_KW",
              "summary": "{\n  \"name\": \"Ordinal_Categorical_variables_KW\",\n  \"rows\": 36,\n  \"fields\": [\n    {\n      \"column\": \"Source\",\n      \"properties\": {\n        \"dtype\": \"category\",\n        \"num_unique_values\": 6,\n        \"samples\": [\n          \"Artist\",\n          \"Gender_identity\",\n          \"compensation\"\n        ],\n        \"semantic_type\": \"\",\n        \"description\": \"\"\n      }\n    },\n    {\n      \"column\": \"ddof1\",\n      \"properties\": {\n        \"dtype\": \"number\",\n        \"std\": 4,\n        \"min\": 1,\n        \"max\": 13,\n        \"num_unique_values\": 6,\n        \"samples\": [\n          1,\n          2,\n          10\n        ],\n        \"semantic_type\": \"\",\n        \"description\": \"\"\n      }\n    },\n    {\n      \"column\": \"H\",\n      \"properties\": {\n        \"dtype\": \"number\",\n        \"std\": 22.421455607252113,\n        \"min\": 0.0002499081612797663,\n        \"max\": 98.58439652852816,\n        \"num_unique_values\": 36,\n        \"samples\": [\n          19.003784996497053,\n          15.027435203397674,\n          28.581430599463644\n        ],\n        \"semantic_type\": \"\",\n        \"description\": \"\"\n      }\n    },\n    {\n      \"column\": \"p-unc\",\n      \"properties\": {\n        \"dtype\": \"number\",\n        \"std\": 0.3256564274886663,\n        \"min\": 1.0459679917299931e-16,\n        \"max\": 0.9873871801586567,\n        \"num_unique_values\": 36,\n        \"samples\": [\n          0.040214633470558495,\n          0.000545549179583067,\n          0.007501359366683262\n        ],\n        \"semantic_type\": \"\",\n        \"description\": \"\"\n      }\n    }\n  ]\n}"
            }
          },
          "metadata": {},
          "execution_count": 66
        }
      ],
      "source": [
        "Ordinal_Categorical_variables_KW = pd.concat([SO_owned_AIuser_Artist_KW, SO_owned_AIuser_Gender_KW , SO_owned_AIuser_Art_prac_KW ,SO_owned_AIuser_AI_models_fam_KW ,SO_owned_AIuser_Age_KW ,SO_owned_AIuser_Fair_comp_KW ,\n",
        "SO_owned_OGartist_Artist_KW , SO_owned_OGartist_Gender_KW ,SO_owned_OGartist_Art_prac_KW ,SO_owned_OGartist_AI_models_fam_KW ,SO_owned_OGartist_Age_KW ,SO_owned_OGartist_Fair_comp_KW ,\n",
        "SO_owned_AIcom_Artist_KW ,SO_owned_AIcom_Gender_KW ,SO_owned_AIcom_Art_prac_KW ,SO_owned_AIcom_AI_models_fam_KW ,SO_owned_AIcom_Age_KW ,SO_owned_AIcom_Fair_comp_KW ,\n",
        "Req_disclos_Artist_KW ,Req_disclos_Gender_KW ,Req_disclos_Art_prac_KW ,Req_disclos_AI_models_fam_KW ,Req_disclos_Age_KW ,Req_disclos_Fair_comp_KW ,\n",
        "AI_pos_dev_Artist_KW , AI_pos_dev_Gender_KW , AI_pos_dev_Art_prac_KW , AI_pos_dev_AI_models_fam_KW , AI_pos_dev_Age_KW , AI_pos_dev_Fair_comp_KW ,\n",
        "AI_threat_Artist_KW , AI_threat_Gender_KW , AI_threat_Art_prac_KW , AI_threat_AI_models_fam_KW , AI_threat_Age_KW , AI_threat_Fair_comp_KW], axis=0, ignore_index=True)\n",
        "\n",
        "#make sure it worked\n",
        "Ordinal_Categorical_variables_KW.head()\n"
      ]
    },
    {
      "cell_type": "code",
      "execution_count": 68,
      "metadata": {
        "colab": {
          "base_uri": "https://localhost:8080/",
          "height": 206
        },
        "id": "W1gTGyDjICb1",
        "outputId": "9e58b0b5-be3c-49a9-9e72-63357b25a900"
      },
      "outputs": [
        {
          "output_type": "execute_result",
          "data": {
            "text/plain": [
              "                  variable_combo  \\\n",
              "0         SO_owned_AIuser_Artist   \n",
              "1         SO_owned_AIuser_Gender   \n",
              "2       SO_owned_AIuser_Art_prac   \n",
              "3  SO_owned_AIuser_AI_models_fam   \n",
              "4            SO_owned_AIuser_Age   \n",
              "\n",
              "                                   contingency_table                 Source  \\\n",
              "0  [[0.16666666666666666, 0.0, 0.6666666666666666...                 Artist   \n",
              "1  [[0.13186813186813187, 0.1978021978021978, 0.2...        Gender_identity   \n",
              "2  [[0.17177914110429449, 0.18404907975460122, 0....           Art_practice   \n",
              "3  [[0.22162162162162163, 0.21891891891891893, 0....  AI_models_familiarity   \n",
              "4  [[0.18181818181818182, 0.19913419913419914, 0....                    Age   \n",
              "\n",
              "   ddof1          H     p-unc                 Source  ddof1          H  \\\n",
              "0      1   0.067037  0.795701                 Artist      1   0.067037   \n",
              "1      2  19.650716  0.000054        Gender_identity      2  19.650716   \n",
              "2     13  17.971415  0.158608           Art_practice     13  17.971415   \n",
              "3      4   6.531461  0.162819  AI_models_familiarity      4   6.531461   \n",
              "4      3   2.547225  0.466817                    Age      3   2.547225   \n",
              "\n",
              "      p-unc  \n",
              "0  0.795701  \n",
              "1  0.000054  \n",
              "2  0.158608  \n",
              "3  0.162819  \n",
              "4  0.466817  "
            ],
            "text/html": [
              "\n",
              "  <div id=\"df-71ec3c53-73b2-489e-aad4-aab9801dff2b\" class=\"colab-df-container\">\n",
              "    <div>\n",
              "<style scoped>\n",
              "    .dataframe tbody tr th:only-of-type {\n",
              "        vertical-align: middle;\n",
              "    }\n",
              "\n",
              "    .dataframe tbody tr th {\n",
              "        vertical-align: top;\n",
              "    }\n",
              "\n",
              "    .dataframe thead th {\n",
              "        text-align: right;\n",
              "    }\n",
              "</style>\n",
              "<table border=\"1\" class=\"dataframe\">\n",
              "  <thead>\n",
              "    <tr style=\"text-align: right;\">\n",
              "      <th></th>\n",
              "      <th>variable_combo</th>\n",
              "      <th>contingency_table</th>\n",
              "      <th>Source</th>\n",
              "      <th>ddof1</th>\n",
              "      <th>H</th>\n",
              "      <th>p-unc</th>\n",
              "      <th>Source</th>\n",
              "      <th>ddof1</th>\n",
              "      <th>H</th>\n",
              "      <th>p-unc</th>\n",
              "    </tr>\n",
              "  </thead>\n",
              "  <tbody>\n",
              "    <tr>\n",
              "      <th>0</th>\n",
              "      <td>SO_owned_AIuser_Artist</td>\n",
              "      <td>[[0.16666666666666666, 0.0, 0.6666666666666666...</td>\n",
              "      <td>Artist</td>\n",
              "      <td>1</td>\n",
              "      <td>0.067037</td>\n",
              "      <td>0.795701</td>\n",
              "      <td>Artist</td>\n",
              "      <td>1</td>\n",
              "      <td>0.067037</td>\n",
              "      <td>0.795701</td>\n",
              "    </tr>\n",
              "    <tr>\n",
              "      <th>1</th>\n",
              "      <td>SO_owned_AIuser_Gender</td>\n",
              "      <td>[[0.13186813186813187, 0.1978021978021978, 0.2...</td>\n",
              "      <td>Gender_identity</td>\n",
              "      <td>2</td>\n",
              "      <td>19.650716</td>\n",
              "      <td>0.000054</td>\n",
              "      <td>Gender_identity</td>\n",
              "      <td>2</td>\n",
              "      <td>19.650716</td>\n",
              "      <td>0.000054</td>\n",
              "    </tr>\n",
              "    <tr>\n",
              "      <th>2</th>\n",
              "      <td>SO_owned_AIuser_Art_prac</td>\n",
              "      <td>[[0.17177914110429449, 0.18404907975460122, 0....</td>\n",
              "      <td>Art_practice</td>\n",
              "      <td>13</td>\n",
              "      <td>17.971415</td>\n",
              "      <td>0.158608</td>\n",
              "      <td>Art_practice</td>\n",
              "      <td>13</td>\n",
              "      <td>17.971415</td>\n",
              "      <td>0.158608</td>\n",
              "    </tr>\n",
              "    <tr>\n",
              "      <th>3</th>\n",
              "      <td>SO_owned_AIuser_AI_models_fam</td>\n",
              "      <td>[[0.22162162162162163, 0.21891891891891893, 0....</td>\n",
              "      <td>AI_models_familiarity</td>\n",
              "      <td>4</td>\n",
              "      <td>6.531461</td>\n",
              "      <td>0.162819</td>\n",
              "      <td>AI_models_familiarity</td>\n",
              "      <td>4</td>\n",
              "      <td>6.531461</td>\n",
              "      <td>0.162819</td>\n",
              "    </tr>\n",
              "    <tr>\n",
              "      <th>4</th>\n",
              "      <td>SO_owned_AIuser_Age</td>\n",
              "      <td>[[0.18181818181818182, 0.19913419913419914, 0....</td>\n",
              "      <td>Age</td>\n",
              "      <td>3</td>\n",
              "      <td>2.547225</td>\n",
              "      <td>0.466817</td>\n",
              "      <td>Age</td>\n",
              "      <td>3</td>\n",
              "      <td>2.547225</td>\n",
              "      <td>0.466817</td>\n",
              "    </tr>\n",
              "  </tbody>\n",
              "</table>\n",
              "</div>\n",
              "    <div class=\"colab-df-buttons\">\n",
              "\n",
              "  <div class=\"colab-df-container\">\n",
              "    <button class=\"colab-df-convert\" onclick=\"convertToInteractive('df-71ec3c53-73b2-489e-aad4-aab9801dff2b')\"\n",
              "            title=\"Convert this dataframe to an interactive table.\"\n",
              "            style=\"display:none;\">\n",
              "\n",
              "  <svg xmlns=\"http://www.w3.org/2000/svg\" height=\"24px\" viewBox=\"0 -960 960 960\">\n",
              "    <path d=\"M120-120v-720h720v720H120Zm60-500h600v-160H180v160Zm220 220h160v-160H400v160Zm0 220h160v-160H400v160ZM180-400h160v-160H180v160Zm440 0h160v-160H620v160ZM180-180h160v-160H180v160Zm440 0h160v-160H620v160Z\"/>\n",
              "  </svg>\n",
              "    </button>\n",
              "\n",
              "  <style>\n",
              "    .colab-df-container {\n",
              "      display:flex;\n",
              "      gap: 12px;\n",
              "    }\n",
              "\n",
              "    .colab-df-convert {\n",
              "      background-color: #E8F0FE;\n",
              "      border: none;\n",
              "      border-radius: 50%;\n",
              "      cursor: pointer;\n",
              "      display: none;\n",
              "      fill: #1967D2;\n",
              "      height: 32px;\n",
              "      padding: 0 0 0 0;\n",
              "      width: 32px;\n",
              "    }\n",
              "\n",
              "    .colab-df-convert:hover {\n",
              "      background-color: #E2EBFA;\n",
              "      box-shadow: 0px 1px 2px rgba(60, 64, 67, 0.3), 0px 1px 3px 1px rgba(60, 64, 67, 0.15);\n",
              "      fill: #174EA6;\n",
              "    }\n",
              "\n",
              "    .colab-df-buttons div {\n",
              "      margin-bottom: 4px;\n",
              "    }\n",
              "\n",
              "    [theme=dark] .colab-df-convert {\n",
              "      background-color: #3B4455;\n",
              "      fill: #D2E3FC;\n",
              "    }\n",
              "\n",
              "    [theme=dark] .colab-df-convert:hover {\n",
              "      background-color: #434B5C;\n",
              "      box-shadow: 0px 1px 3px 1px rgba(0, 0, 0, 0.15);\n",
              "      filter: drop-shadow(0px 1px 2px rgba(0, 0, 0, 0.3));\n",
              "      fill: #FFFFFF;\n",
              "    }\n",
              "  </style>\n",
              "\n",
              "    <script>\n",
              "      const buttonEl =\n",
              "        document.querySelector('#df-71ec3c53-73b2-489e-aad4-aab9801dff2b button.colab-df-convert');\n",
              "      buttonEl.style.display =\n",
              "        google.colab.kernel.accessAllowed ? 'block' : 'none';\n",
              "\n",
              "      async function convertToInteractive(key) {\n",
              "        const element = document.querySelector('#df-71ec3c53-73b2-489e-aad4-aab9801dff2b');\n",
              "        const dataTable =\n",
              "          await google.colab.kernel.invokeFunction('convertToInteractive',\n",
              "                                                    [key], {});\n",
              "        if (!dataTable) return;\n",
              "\n",
              "        const docLinkHtml = 'Like what you see? Visit the ' +\n",
              "          '<a target=\"_blank\" href=https://colab.research.google.com/notebooks/data_table.ipynb>data table notebook</a>'\n",
              "          + ' to learn more about interactive tables.';\n",
              "        element.innerHTML = '';\n",
              "        dataTable['output_type'] = 'display_data';\n",
              "        await google.colab.output.renderOutput(dataTable, element);\n",
              "        const docLink = document.createElement('div');\n",
              "        docLink.innerHTML = docLinkHtml;\n",
              "        element.appendChild(docLink);\n",
              "      }\n",
              "    </script>\n",
              "  </div>\n",
              "\n",
              "\n",
              "<div id=\"df-943f553f-1c58-479c-a1ae-47d7926d4640\">\n",
              "  <button class=\"colab-df-quickchart\" onclick=\"quickchart('df-943f553f-1c58-479c-a1ae-47d7926d4640')\"\n",
              "            title=\"Suggest charts\"\n",
              "            style=\"display:none;\">\n",
              "\n",
              "<svg xmlns=\"http://www.w3.org/2000/svg\" height=\"24px\"viewBox=\"0 0 24 24\"\n",
              "     width=\"24px\">\n",
              "    <g>\n",
              "        <path d=\"M19 3H5c-1.1 0-2 .9-2 2v14c0 1.1.9 2 2 2h14c1.1 0 2-.9 2-2V5c0-1.1-.9-2-2-2zM9 17H7v-7h2v7zm4 0h-2V7h2v10zm4 0h-2v-4h2v4z\"/>\n",
              "    </g>\n",
              "</svg>\n",
              "  </button>\n",
              "\n",
              "<style>\n",
              "  .colab-df-quickchart {\n",
              "      --bg-color: #E8F0FE;\n",
              "      --fill-color: #1967D2;\n",
              "      --hover-bg-color: #E2EBFA;\n",
              "      --hover-fill-color: #174EA6;\n",
              "      --disabled-fill-color: #AAA;\n",
              "      --disabled-bg-color: #DDD;\n",
              "  }\n",
              "\n",
              "  [theme=dark] .colab-df-quickchart {\n",
              "      --bg-color: #3B4455;\n",
              "      --fill-color: #D2E3FC;\n",
              "      --hover-bg-color: #434B5C;\n",
              "      --hover-fill-color: #FFFFFF;\n",
              "      --disabled-bg-color: #3B4455;\n",
              "      --disabled-fill-color: #666;\n",
              "  }\n",
              "\n",
              "  .colab-df-quickchart {\n",
              "    background-color: var(--bg-color);\n",
              "    border: none;\n",
              "    border-radius: 50%;\n",
              "    cursor: pointer;\n",
              "    display: none;\n",
              "    fill: var(--fill-color);\n",
              "    height: 32px;\n",
              "    padding: 0;\n",
              "    width: 32px;\n",
              "  }\n",
              "\n",
              "  .colab-df-quickchart:hover {\n",
              "    background-color: var(--hover-bg-color);\n",
              "    box-shadow: 0 1px 2px rgba(60, 64, 67, 0.3), 0 1px 3px 1px rgba(60, 64, 67, 0.15);\n",
              "    fill: var(--button-hover-fill-color);\n",
              "  }\n",
              "\n",
              "  .colab-df-quickchart-complete:disabled,\n",
              "  .colab-df-quickchart-complete:disabled:hover {\n",
              "    background-color: var(--disabled-bg-color);\n",
              "    fill: var(--disabled-fill-color);\n",
              "    box-shadow: none;\n",
              "  }\n",
              "\n",
              "  .colab-df-spinner {\n",
              "    border: 2px solid var(--fill-color);\n",
              "    border-color: transparent;\n",
              "    border-bottom-color: var(--fill-color);\n",
              "    animation:\n",
              "      spin 1s steps(1) infinite;\n",
              "  }\n",
              "\n",
              "  @keyframes spin {\n",
              "    0% {\n",
              "      border-color: transparent;\n",
              "      border-bottom-color: var(--fill-color);\n",
              "      border-left-color: var(--fill-color);\n",
              "    }\n",
              "    20% {\n",
              "      border-color: transparent;\n",
              "      border-left-color: var(--fill-color);\n",
              "      border-top-color: var(--fill-color);\n",
              "    }\n",
              "    30% {\n",
              "      border-color: transparent;\n",
              "      border-left-color: var(--fill-color);\n",
              "      border-top-color: var(--fill-color);\n",
              "      border-right-color: var(--fill-color);\n",
              "    }\n",
              "    40% {\n",
              "      border-color: transparent;\n",
              "      border-right-color: var(--fill-color);\n",
              "      border-top-color: var(--fill-color);\n",
              "    }\n",
              "    60% {\n",
              "      border-color: transparent;\n",
              "      border-right-color: var(--fill-color);\n",
              "    }\n",
              "    80% {\n",
              "      border-color: transparent;\n",
              "      border-right-color: var(--fill-color);\n",
              "      border-bottom-color: var(--fill-color);\n",
              "    }\n",
              "    90% {\n",
              "      border-color: transparent;\n",
              "      border-bottom-color: var(--fill-color);\n",
              "    }\n",
              "  }\n",
              "</style>\n",
              "\n",
              "  <script>\n",
              "    async function quickchart(key) {\n",
              "      const quickchartButtonEl =\n",
              "        document.querySelector('#' + key + ' button');\n",
              "      quickchartButtonEl.disabled = true;  // To prevent multiple clicks.\n",
              "      quickchartButtonEl.classList.add('colab-df-spinner');\n",
              "      try {\n",
              "        const charts = await google.colab.kernel.invokeFunction(\n",
              "            'suggestCharts', [key], {});\n",
              "      } catch (error) {\n",
              "        console.error('Error during call to suggestCharts:', error);\n",
              "      }\n",
              "      quickchartButtonEl.classList.remove('colab-df-spinner');\n",
              "      quickchartButtonEl.classList.add('colab-df-quickchart-complete');\n",
              "    }\n",
              "    (() => {\n",
              "      let quickchartButtonEl =\n",
              "        document.querySelector('#df-943f553f-1c58-479c-a1ae-47d7926d4640 button');\n",
              "      quickchartButtonEl.style.display =\n",
              "        google.colab.kernel.accessAllowed ? 'block' : 'none';\n",
              "    })();\n",
              "  </script>\n",
              "</div>\n",
              "\n",
              "    </div>\n",
              "  </div>\n"
            ],
            "application/vnd.google.colaboratory.intrinsic+json": {
              "type": "dataframe",
              "variable_name": "Ordinal_Categorical_variables_results",
              "summary": "{\n  \"name\": \"Ordinal_Categorical_variables_results\",\n  \"rows\": 36,\n  \"fields\": [\n    {\n      \"column\": \"variable_combo\",\n      \"properties\": {\n        \"dtype\": \"string\",\n        \"num_unique_values\": 36,\n        \"samples\": [\n          \"AI_threat_Fair_comp\",\n          \"SO_owned_AIcom_Gender\",\n          \"AI_pos_dev_Art_prac\"\n        ],\n        \"semantic_type\": \"\",\n        \"description\": \"\"\n      }\n    },\n    {\n      \"column\": \"contingency_table\",\n      \"properties\": {\n        \"dtype\": \"object\",\n        \"semantic_type\": \"\",\n        \"description\": \"\"\n      }\n    },\n    {\n      \"column\": \"Source\",\n      \"properties\": {\n        \"dtype\": \"category\",\n        \"num_unique_values\": 6,\n        \"samples\": [\n          \"Artist\",\n          \"Gender_identity\",\n          \"compensation\"\n        ],\n        \"semantic_type\": \"\",\n        \"description\": \"\"\n      }\n    },\n    {\n      \"column\": \"ddof1\",\n      \"properties\": {\n        \"dtype\": \"number\",\n        \"std\": 4,\n        \"min\": 1,\n        \"max\": 13,\n        \"num_unique_values\": 6,\n        \"samples\": [\n          1,\n          2,\n          10\n        ],\n        \"semantic_type\": \"\",\n        \"description\": \"\"\n      }\n    },\n    {\n      \"column\": \"H\",\n      \"properties\": {\n        \"dtype\": \"number\",\n        \"std\": 22.421455607252113,\n        \"min\": 0.0002499081612797663,\n        \"max\": 98.58439652852816,\n        \"num_unique_values\": 36,\n        \"samples\": [\n          19.003784996497053,\n          15.027435203397674,\n          28.581430599463644\n        ],\n        \"semantic_type\": \"\",\n        \"description\": \"\"\n      }\n    },\n    {\n      \"column\": \"p-unc\",\n      \"properties\": {\n        \"dtype\": \"number\",\n        \"std\": 0.3256564274886663,\n        \"min\": 1.0459679917299931e-16,\n        \"max\": 0.9873871801586567,\n        \"num_unique_values\": 36,\n        \"samples\": [\n          0.040214633470558495,\n          0.000545549179583067,\n          0.007501359366683262\n        ],\n        \"semantic_type\": \"\",\n        \"description\": \"\"\n      }\n    },\n    {\n      \"column\": \"Source\",\n      \"properties\": {\n        \"dtype\": \"category\",\n        \"num_unique_values\": 6,\n        \"samples\": [\n          \"Artist\",\n          \"Gender_identity\",\n          \"compensation\"\n        ],\n        \"semantic_type\": \"\",\n        \"description\": \"\"\n      }\n    },\n    {\n      \"column\": \"ddof1\",\n      \"properties\": {\n        \"dtype\": \"number\",\n        \"std\": 4,\n        \"min\": 1,\n        \"max\": 13,\n        \"num_unique_values\": 6,\n        \"samples\": [\n          1,\n          2,\n          10\n        ],\n        \"semantic_type\": \"\",\n        \"description\": \"\"\n      }\n    },\n    {\n      \"column\": \"H\",\n      \"properties\": {\n        \"dtype\": \"number\",\n        \"std\": 22.421455607252113,\n        \"min\": 0.0002499081612797663,\n        \"max\": 98.58439652852816,\n        \"num_unique_values\": 36,\n        \"samples\": [\n          19.003784996497053,\n          15.027435203397674,\n          28.581430599463644\n        ],\n        \"semantic_type\": \"\",\n        \"description\": \"\"\n      }\n    },\n    {\n      \"column\": \"p-unc\",\n      \"properties\": {\n        \"dtype\": \"number\",\n        \"std\": 0.3256564274886663,\n        \"min\": 1.0459679917299931e-16,\n        \"max\": 0.9873871801586567,\n        \"num_unique_values\": 36,\n        \"samples\": [\n          0.040214633470558495,\n          0.000545549179583067,\n          0.007501359366683262\n        ],\n        \"semantic_type\": \"\",\n        \"description\": \"\"\n      }\n    }\n  ]\n}"
            }
          },
          "metadata": {},
          "execution_count": 68
        }
      ],
      "source": [
        "#Combining the results into one dataframe\n",
        "Ordinal_Categorical_variables_results = pd.concat([Ordinal_Categorical_variables_results, Ordinal_Categorical_variables_KW], axis =1)\n",
        "Ordinal_Categorical_variables_results.head()"
      ]
    }
  ],
  "metadata": {
    "colab": {
      "provenance": [],
      "collapsed_sections": [
        "mVmNIl4sfYC0"
      ],
      "mount_file_id": "1s1QfsPGtaMsJpNFErsZ3it-HIj8Re5jg",
      "authorship_tag": "ABX9TyOTFRN5KcRm0H+OI2nUzqZH",
      "include_colab_link": true
    },
    "kernelspec": {
      "display_name": "Python 3",
      "name": "python3"
    },
    "language_info": {
      "name": "python"
    }
  },
  "nbformat": 4,
  "nbformat_minor": 0
}